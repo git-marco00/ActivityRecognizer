{
 "cells": [
  {
   "cell_type": "code",
   "execution_count": 3,
   "outputs": [],
   "source": [
    "import pandas as pd\n",
    "from imblearn.pipeline import Pipeline\n",
    "from imblearn.over_sampling import SMOTE\n",
    "from sklearn.feature_selection import SelectKBest\n",
    "from sklearn.preprocessing import RobustScaler\n",
    "from sklearn.neighbors import KNeighborsClassifier"
   ],
   "metadata": {
    "collapsed": false
   }
  },
  {
   "cell_type": "code",
   "execution_count": 8,
   "outputs": [],
   "source": [
    "import sys\n",
    "sys.path.append(\"creation_functions\")\n",
    "from creation_functions.utilities import custom_cross_validation, make_report"
   ],
   "metadata": {
    "collapsed": false
   }
  },
  {
   "cell_type": "code",
   "execution_count": 10,
   "outputs": [],
   "source": [
    "non_corr_df = pd.read_csv(\"processed_dataset/preprocessed_dataset.csv\", index_col=0)\n",
    "non_corr_df = non_corr_df.sample(frac=1, random_state=123)\n",
    "X=non_corr_df.drop([\"class\", \"trial\", \"subject\"], axis=1)\n",
    "y=non_corr_df[\"class\"]"
   ],
   "metadata": {
    "collapsed": false
   }
  },
  {
   "cell_type": "code",
   "execution_count": 4,
   "outputs": [
    {
     "data": {
      "text/plain": "      gravity.x_mean  gravity.x_std  gravity.x_kurtosis  gravity.x_skewness  \\\n7971        0.049684       0.068697           -0.508122           -0.537756   \n5019       -0.188365       0.005155           -0.611958           -0.179938   \n3564        0.222633       0.139530           -0.807256           -0.982719   \n8257       -0.059926       0.038670           -1.259147            0.201190   \n2151        0.426569       0.002923           -1.118778           -0.858158   \n...              ...            ...                 ...                 ...   \n7382       -0.097348       0.025307            0.188260            0.599843   \n7763        0.241607       0.074150           -0.672296           -0.555844   \n5218        0.087988       0.029383           -0.076505           -0.555812   \n1346       -0.047842       0.106289           -1.264723           -0.079417   \n3582        0.504984       0.001589           -1.294746           -0.415866   \n\n      gravity.y_mean  gravity.y_std  gravity.y_kurtosis  gravity.y_skewness  \\\n7971        0.951522       0.041824           -0.259552           -0.816930   \n5019        0.981499       0.000852            0.115307           -0.617015   \n3564        0.411857       0.032023            1.460239           -1.447279   \n8257        0.979257       0.016441           -1.654349           -0.045271   \n2151        0.423011       0.000867           -0.300038            0.784903   \n...              ...            ...                 ...                 ...   \n7382        0.939257       0.045519           -1.273035           -0.363979   \n7763        0.880453       0.061713           -1.516856           -0.134419   \n5218        0.991939       0.003463           -0.310135            0.914244   \n1346        0.944430       0.037155           -0.610249           -0.343573   \n3582        0.239231       0.000180           -0.218234           -0.284503   \n\n      gravity.z_mean  gravity.z_std  ...  userAcceleration.zX#4  \\\n7971       -0.190372       0.222209  ...               0.001333   \n5019       -0.023017       0.024875  ...               0.001600   \n3564       -0.871365       0.032108  ...               0.001867   \n8257       -0.142641       0.123792  ...               0.001467   \n2151       -0.799430       0.001677  ...               0.001333   \n...              ...            ...  ...                    ...   \n7382       -0.169761       0.276935  ...               0.001333   \n7763       -0.305566       0.252365  ...               0.001333   \n5218       -0.083481       0.021680  ...               0.001867   \n1346       -0.057479       0.299100  ...               0.001467   \n3582       -0.829310       0.001001  ...               0.001600   \n\n      userAcceleration.zX#5  userAcceleration.zP#1  userAcceleration.zP#2  \\\n7971               0.001600               8.555069              19.868540   \n5019               0.002533               0.564440               0.400878   \n3564               0.002267               0.805145               0.738788   \n8257               0.002133               2.852012              13.942494   \n2151               0.002000               0.046200               0.074028   \n...                     ...                    ...                    ...   \n7382               0.001733              17.540359              35.915592   \n7763               0.001733              10.580364              26.319629   \n5218               0.002133               0.467578               0.450791   \n1346               0.001733              38.084365               6.244196   \n3582               0.002533               0.015228               0.012092   \n\n      userAcceleration.zP#3  userAcceleration.zP#4  userAcceleration.zP#5  \\\n7971              19.407871              16.193896              13.735477   \n5019               0.301761               0.255283               0.204928   \n3564               0.806571               0.853295               1.234047   \n8257               4.688786               8.881615               6.381941   \n2151               0.061868               0.059475               0.077288   \n...                     ...                    ...                    ...   \n7382              26.363897              26.543629              17.224535   \n7763              24.618864              23.229936              13.780275   \n5218               0.371404               0.232807               0.189300   \n1346              22.441477              18.587484               4.346311   \n3582               0.050293               0.063657               0.035188   \n\n      class  trial  subject  \n7971    wlk      8        9  \n5019    std      6       21  \n3564    sit     13       15  \n8257    wlk      8       18  \n2151    sit      5        9  \n...     ...    ...      ...  \n7382    wlk      7       17  \n7763    wlk      8        2  \n5218    std      6       24  \n1346    jog      9       21  \n3582    sit     13       16  \n\n[8882 rows x 126 columns]",
      "text/html": "<div>\n<style scoped>\n    .dataframe tbody tr th:only-of-type {\n        vertical-align: middle;\n    }\n\n    .dataframe tbody tr th {\n        vertical-align: top;\n    }\n\n    .dataframe thead th {\n        text-align: right;\n    }\n</style>\n<table border=\"1\" class=\"dataframe\">\n  <thead>\n    <tr style=\"text-align: right;\">\n      <th></th>\n      <th>gravity.x_mean</th>\n      <th>gravity.x_std</th>\n      <th>gravity.x_kurtosis</th>\n      <th>gravity.x_skewness</th>\n      <th>gravity.y_mean</th>\n      <th>gravity.y_std</th>\n      <th>gravity.y_kurtosis</th>\n      <th>gravity.y_skewness</th>\n      <th>gravity.z_mean</th>\n      <th>gravity.z_std</th>\n      <th>...</th>\n      <th>userAcceleration.zX#4</th>\n      <th>userAcceleration.zX#5</th>\n      <th>userAcceleration.zP#1</th>\n      <th>userAcceleration.zP#2</th>\n      <th>userAcceleration.zP#3</th>\n      <th>userAcceleration.zP#4</th>\n      <th>userAcceleration.zP#5</th>\n      <th>class</th>\n      <th>trial</th>\n      <th>subject</th>\n    </tr>\n  </thead>\n  <tbody>\n    <tr>\n      <th>7971</th>\n      <td>0.049684</td>\n      <td>0.068697</td>\n      <td>-0.508122</td>\n      <td>-0.537756</td>\n      <td>0.951522</td>\n      <td>0.041824</td>\n      <td>-0.259552</td>\n      <td>-0.816930</td>\n      <td>-0.190372</td>\n      <td>0.222209</td>\n      <td>...</td>\n      <td>0.001333</td>\n      <td>0.001600</td>\n      <td>8.555069</td>\n      <td>19.868540</td>\n      <td>19.407871</td>\n      <td>16.193896</td>\n      <td>13.735477</td>\n      <td>wlk</td>\n      <td>8</td>\n      <td>9</td>\n    </tr>\n    <tr>\n      <th>5019</th>\n      <td>-0.188365</td>\n      <td>0.005155</td>\n      <td>-0.611958</td>\n      <td>-0.179938</td>\n      <td>0.981499</td>\n      <td>0.000852</td>\n      <td>0.115307</td>\n      <td>-0.617015</td>\n      <td>-0.023017</td>\n      <td>0.024875</td>\n      <td>...</td>\n      <td>0.001600</td>\n      <td>0.002533</td>\n      <td>0.564440</td>\n      <td>0.400878</td>\n      <td>0.301761</td>\n      <td>0.255283</td>\n      <td>0.204928</td>\n      <td>std</td>\n      <td>6</td>\n      <td>21</td>\n    </tr>\n    <tr>\n      <th>3564</th>\n      <td>0.222633</td>\n      <td>0.139530</td>\n      <td>-0.807256</td>\n      <td>-0.982719</td>\n      <td>0.411857</td>\n      <td>0.032023</td>\n      <td>1.460239</td>\n      <td>-1.447279</td>\n      <td>-0.871365</td>\n      <td>0.032108</td>\n      <td>...</td>\n      <td>0.001867</td>\n      <td>0.002267</td>\n      <td>0.805145</td>\n      <td>0.738788</td>\n      <td>0.806571</td>\n      <td>0.853295</td>\n      <td>1.234047</td>\n      <td>sit</td>\n      <td>13</td>\n      <td>15</td>\n    </tr>\n    <tr>\n      <th>8257</th>\n      <td>-0.059926</td>\n      <td>0.038670</td>\n      <td>-1.259147</td>\n      <td>0.201190</td>\n      <td>0.979257</td>\n      <td>0.016441</td>\n      <td>-1.654349</td>\n      <td>-0.045271</td>\n      <td>-0.142641</td>\n      <td>0.123792</td>\n      <td>...</td>\n      <td>0.001467</td>\n      <td>0.002133</td>\n      <td>2.852012</td>\n      <td>13.942494</td>\n      <td>4.688786</td>\n      <td>8.881615</td>\n      <td>6.381941</td>\n      <td>wlk</td>\n      <td>8</td>\n      <td>18</td>\n    </tr>\n    <tr>\n      <th>2151</th>\n      <td>0.426569</td>\n      <td>0.002923</td>\n      <td>-1.118778</td>\n      <td>-0.858158</td>\n      <td>0.423011</td>\n      <td>0.000867</td>\n      <td>-0.300038</td>\n      <td>0.784903</td>\n      <td>-0.799430</td>\n      <td>0.001677</td>\n      <td>...</td>\n      <td>0.001333</td>\n      <td>0.002000</td>\n      <td>0.046200</td>\n      <td>0.074028</td>\n      <td>0.061868</td>\n      <td>0.059475</td>\n      <td>0.077288</td>\n      <td>sit</td>\n      <td>5</td>\n      <td>9</td>\n    </tr>\n    <tr>\n      <th>...</th>\n      <td>...</td>\n      <td>...</td>\n      <td>...</td>\n      <td>...</td>\n      <td>...</td>\n      <td>...</td>\n      <td>...</td>\n      <td>...</td>\n      <td>...</td>\n      <td>...</td>\n      <td>...</td>\n      <td>...</td>\n      <td>...</td>\n      <td>...</td>\n      <td>...</td>\n      <td>...</td>\n      <td>...</td>\n      <td>...</td>\n      <td>...</td>\n      <td>...</td>\n      <td>...</td>\n    </tr>\n    <tr>\n      <th>7382</th>\n      <td>-0.097348</td>\n      <td>0.025307</td>\n      <td>0.188260</td>\n      <td>0.599843</td>\n      <td>0.939257</td>\n      <td>0.045519</td>\n      <td>-1.273035</td>\n      <td>-0.363979</td>\n      <td>-0.169761</td>\n      <td>0.276935</td>\n      <td>...</td>\n      <td>0.001333</td>\n      <td>0.001733</td>\n      <td>17.540359</td>\n      <td>35.915592</td>\n      <td>26.363897</td>\n      <td>26.543629</td>\n      <td>17.224535</td>\n      <td>wlk</td>\n      <td>7</td>\n      <td>17</td>\n    </tr>\n    <tr>\n      <th>7763</th>\n      <td>0.241607</td>\n      <td>0.074150</td>\n      <td>-0.672296</td>\n      <td>-0.555844</td>\n      <td>0.880453</td>\n      <td>0.061713</td>\n      <td>-1.516856</td>\n      <td>-0.134419</td>\n      <td>-0.305566</td>\n      <td>0.252365</td>\n      <td>...</td>\n      <td>0.001333</td>\n      <td>0.001733</td>\n      <td>10.580364</td>\n      <td>26.319629</td>\n      <td>24.618864</td>\n      <td>23.229936</td>\n      <td>13.780275</td>\n      <td>wlk</td>\n      <td>8</td>\n      <td>2</td>\n    </tr>\n    <tr>\n      <th>5218</th>\n      <td>0.087988</td>\n      <td>0.029383</td>\n      <td>-0.076505</td>\n      <td>-0.555812</td>\n      <td>0.991939</td>\n      <td>0.003463</td>\n      <td>-0.310135</td>\n      <td>0.914244</td>\n      <td>-0.083481</td>\n      <td>0.021680</td>\n      <td>...</td>\n      <td>0.001867</td>\n      <td>0.002133</td>\n      <td>0.467578</td>\n      <td>0.450791</td>\n      <td>0.371404</td>\n      <td>0.232807</td>\n      <td>0.189300</td>\n      <td>std</td>\n      <td>6</td>\n      <td>24</td>\n    </tr>\n    <tr>\n      <th>1346</th>\n      <td>-0.047842</td>\n      <td>0.106289</td>\n      <td>-1.264723</td>\n      <td>-0.079417</td>\n      <td>0.944430</td>\n      <td>0.037155</td>\n      <td>-0.610249</td>\n      <td>-0.343573</td>\n      <td>-0.057479</td>\n      <td>0.299100</td>\n      <td>...</td>\n      <td>0.001467</td>\n      <td>0.001733</td>\n      <td>38.084365</td>\n      <td>6.244196</td>\n      <td>22.441477</td>\n      <td>18.587484</td>\n      <td>4.346311</td>\n      <td>jog</td>\n      <td>9</td>\n      <td>21</td>\n    </tr>\n    <tr>\n      <th>3582</th>\n      <td>0.504984</td>\n      <td>0.001589</td>\n      <td>-1.294746</td>\n      <td>-0.415866</td>\n      <td>0.239231</td>\n      <td>0.000180</td>\n      <td>-0.218234</td>\n      <td>-0.284503</td>\n      <td>-0.829310</td>\n      <td>0.001001</td>\n      <td>...</td>\n      <td>0.001600</td>\n      <td>0.002533</td>\n      <td>0.015228</td>\n      <td>0.012092</td>\n      <td>0.050293</td>\n      <td>0.063657</td>\n      <td>0.035188</td>\n      <td>sit</td>\n      <td>13</td>\n      <td>16</td>\n    </tr>\n  </tbody>\n</table>\n<p>8882 rows × 126 columns</p>\n</div>"
     },
     "execution_count": 4,
     "metadata": {},
     "output_type": "execute_result"
    }
   ],
   "source": [
    "non_corr_df"
   ],
   "metadata": {
    "collapsed": false
   }
  },
  {
   "cell_type": "markdown",
   "source": [
    "We would like to reduce the total number of features using a feature selection algorithm, in order to reduce the complexity of the classification process."
   ],
   "metadata": {
    "collapsed": false
   }
  },
  {
   "cell_type": "code",
   "execution_count": 14,
   "outputs": [],
   "source": [
    "from sklearn.ensemble import RandomForestClassifier\n",
    "from sklearn.model_selection import cross_val_score\n",
    "from sklearn.model_selection import KFold\n",
    "import numpy as np\n",
    "from matplotlib import pyplot as plt"
   ],
   "metadata": {
    "collapsed": false
   }
  },
  {
   "cell_type": "code",
   "execution_count": 5,
   "outputs": [
    {
     "data": {
      "text/plain": "<Figure size 640x480 with 1 Axes>",
      "image/png": "[encoded data removed]"
     },
     "metadata": {},
     "output_type": "display_data"
    }
   ],
   "source": [
    "results_list=[]\n",
    "\n",
    "for k in range (1,50):\n",
    "    pipe=Pipeline([\n",
    "        (\"scaler\", RobustScaler()),\n",
    "        (\"sampling\", SMOTE()),\n",
    "        (\"feature_selection\",SelectKBest(k=k)),\n",
    "        (\"classifier\", RandomForestClassifier(n_jobs=-1))\n",
    "    ])\n",
    "    results=cross_val_score(pipe, X, y, cv=KFold(5, shuffle=True, random_state=123),n_jobs=-1 )\n",
    "    results_list.append(np.mean(results))\n",
    "\n",
    "x=np.arange(1, 50)\n",
    "plt.plot(x, results_list)\n",
    "plt.xlabel(\"Number of selected features\")\n",
    "plt.ylabel(\"Accuracy\")\n",
    "plt.title(\"Random forest accuracy when changing number of selected features\")\n",
    "plt.grid()"
   ],
   "metadata": {
    "collapsed": false
   }
  },
  {
   "cell_type": "markdown",
   "source": [
    "As we can see from the graph, when we have around 40 features we obtain good results."
   ],
   "metadata": {
    "collapsed": false
   }
  },
  {
   "cell_type": "code",
   "execution_count": 6,
   "outputs": [],
   "source": [
    "K_FEATURES = 40\n",
    "permutation = np.random.permutation(range(1, 25))"
   ],
   "metadata": {
    "collapsed": false
   }
  },
  {
   "cell_type": "markdown",
   "source": [
    "#### Step 1: Metrics Computation and classifier selection"
   ],
   "metadata": {
    "collapsed": false
   }
  },
  {
   "cell_type": "code",
   "execution_count": 7,
   "outputs": [
    {
     "name": "stderr",
     "output_type": "stream",
     "text": [
      "C:\\Users\\angel\\Desktop\\Università\\DataMiningFinale\\LavorettiFinali\\creation_functions\\utilities.py:94: FutureWarning: elementwise comparison failed; returning scalar instead, but in the future will perform elementwise comparison\n",
      "  if permutation == \"random\":\n",
      "C:\\Users\\angel\\Desktop\\Università\\DataMiningFinale\\LavorettiFinali\\creation_functions\\utilities.py:104: FutureWarning: elementwise comparison failed; returning scalar instead, but in the future will perform elementwise comparison\n",
      "  if permutation == \"random\":\n"
     ]
    }
   ],
   "source": [
    "knn_pipe=Pipeline([\n",
    "    (\"scaler\", RobustScaler()),\n",
    "    (\"sampling\", SMOTE()),\n",
    "    (\"feature-selector\", SelectKBest(k=K_FEATURES)),\n",
    "    (\"classifier\", KNeighborsClassifier(n_neighbors=5))\n",
    "])\n",
    "\n",
    "true_labels_knn, predicted_labels_knn = custom_cross_validation(non_corr_df, knn_pipe, permutation=permutation)"
   ],
   "metadata": {
    "collapsed": false
   }
  },
  {
   "cell_type": "code",
   "execution_count": 8,
   "outputs": [
    {
     "name": "stderr",
     "output_type": "stream",
     "text": [
      "C:\\Users\\angel\\Desktop\\Università\\DataMiningFinale\\LavorettiFinali\\creation_functions\\utilities.py:113: FutureWarning: The frame.append method is deprecated and will be removed from pandas in a future version. Use pandas.concat instead.\n",
      "  report = report.append({\n",
      "C:\\Users\\angel\\Desktop\\Università\\DataMiningFinale\\LavorettiFinali\\creation_functions\\utilities.py:113: FutureWarning: The frame.append method is deprecated and will be removed from pandas in a future version. Use pandas.concat instead.\n",
      "  report = report.append({\n",
      "C:\\Users\\angel\\Desktop\\Università\\DataMiningFinale\\LavorettiFinali\\creation_functions\\utilities.py:113: FutureWarning: The frame.append method is deprecated and will be removed from pandas in a future version. Use pandas.concat instead.\n",
      "  report = report.append({\n",
      "C:\\Users\\angel\\Desktop\\Università\\DataMiningFinale\\LavorettiFinali\\creation_functions\\utilities.py:113: FutureWarning: The frame.append method is deprecated and will be removed from pandas in a future version. Use pandas.concat instead.\n",
      "  report = report.append({\n",
      "C:\\Users\\angel\\Desktop\\Università\\DataMiningFinale\\LavorettiFinali\\creation_functions\\utilities.py:113: FutureWarning: The frame.append method is deprecated and will be removed from pandas in a future version. Use pandas.concat instead.\n",
      "  report = report.append({\n",
      "C:\\Users\\angel\\Desktop\\Università\\DataMiningFinale\\LavorettiFinali\\creation_functions\\utilities.py:113: FutureWarning: The frame.append method is deprecated and will be removed from pandas in a future version. Use pandas.concat instead.\n",
      "  report = report.append({\n",
      "C:\\Users\\angel\\Desktop\\Università\\DataMiningFinale\\LavorettiFinali\\creation_functions\\utilities.py:113: FutureWarning: The frame.append method is deprecated and will be removed from pandas in a future version. Use pandas.concat instead.\n",
      "  report = report.append({\n",
      "C:\\Users\\angel\\Desktop\\Università\\DataMiningFinale\\LavorettiFinali\\creation_functions\\utilities.py:113: FutureWarning: The frame.append method is deprecated and will be removed from pandas in a future version. Use pandas.concat instead.\n",
      "  report = report.append({\n",
      "C:\\Users\\angel\\Desktop\\Università\\DataMiningFinale\\LavorettiFinali\\creation_functions\\utilities.py:113: FutureWarning: The frame.append method is deprecated and will be removed from pandas in a future version. Use pandas.concat instead.\n",
      "  report = report.append({\n",
      "C:\\Users\\angel\\Desktop\\Università\\DataMiningFinale\\LavorettiFinali\\creation_functions\\utilities.py:113: FutureWarning: The frame.append method is deprecated and will be removed from pandas in a future version. Use pandas.concat instead.\n",
      "  report = report.append({\n",
      "C:\\Users\\angel\\Desktop\\Università\\DataMiningFinale\\LavorettiFinali\\creation_functions\\utilities.py:113: FutureWarning: The frame.append method is deprecated and will be removed from pandas in a future version. Use pandas.concat instead.\n",
      "  report = report.append({\n",
      "C:\\Users\\angel\\Desktop\\Università\\DataMiningFinale\\LavorettiFinali\\creation_functions\\utilities.py:113: FutureWarning: The frame.append method is deprecated and will be removed from pandas in a future version. Use pandas.concat instead.\n",
      "  report = report.append({\n",
      "C:\\Users\\angel\\Desktop\\Università\\DataMiningFinale\\LavorettiFinali\\creation_functions\\utilities.py:113: FutureWarning: The frame.append method is deprecated and will be removed from pandas in a future version. Use pandas.concat instead.\n",
      "  report = report.append({\n",
      "C:\\Users\\angel\\Desktop\\Università\\DataMiningFinale\\LavorettiFinali\\creation_functions\\utilities.py:113: FutureWarning: The frame.append method is deprecated and will be removed from pandas in a future version. Use pandas.concat instead.\n",
      "  report = report.append({\n",
      "C:\\Users\\angel\\Desktop\\Università\\DataMiningFinale\\LavorettiFinali\\creation_functions\\utilities.py:113: FutureWarning: The frame.append method is deprecated and will be removed from pandas in a future version. Use pandas.concat instead.\n",
      "  report = report.append({\n",
      "C:\\Users\\angel\\Desktop\\Università\\DataMiningFinale\\LavorettiFinali\\creation_functions\\utilities.py:113: FutureWarning: The frame.append method is deprecated and will be removed from pandas in a future version. Use pandas.concat instead.\n",
      "  report = report.append({\n",
      "C:\\Users\\angel\\Desktop\\Università\\DataMiningFinale\\LavorettiFinali\\creation_functions\\utilities.py:113: FutureWarning: The frame.append method is deprecated and will be removed from pandas in a future version. Use pandas.concat instead.\n",
      "  report = report.append({\n",
      "C:\\Users\\angel\\Desktop\\Università\\DataMiningFinale\\LavorettiFinali\\creation_functions\\utilities.py:113: FutureWarning: The frame.append method is deprecated and will be removed from pandas in a future version. Use pandas.concat instead.\n",
      "  report = report.append({\n",
      "C:\\Users\\angel\\Desktop\\Università\\DataMiningFinale\\LavorettiFinali\\creation_functions\\utilities.py:113: FutureWarning: The frame.append method is deprecated and will be removed from pandas in a future version. Use pandas.concat instead.\n",
      "  report = report.append({\n",
      "C:\\Users\\angel\\Desktop\\Università\\DataMiningFinale\\LavorettiFinali\\creation_functions\\utilities.py:113: FutureWarning: The frame.append method is deprecated and will be removed from pandas in a future version. Use pandas.concat instead.\n",
      "  report = report.append({\n",
      "C:\\Users\\angel\\Desktop\\Università\\DataMiningFinale\\LavorettiFinali\\creation_functions\\utilities.py:113: FutureWarning: The frame.append method is deprecated and will be removed from pandas in a future version. Use pandas.concat instead.\n",
      "  report = report.append({\n",
      "C:\\Users\\angel\\Desktop\\Università\\DataMiningFinale\\LavorettiFinali\\creation_functions\\utilities.py:113: FutureWarning: The frame.append method is deprecated and will be removed from pandas in a future version. Use pandas.concat instead.\n",
      "  report = report.append({\n",
      "C:\\Users\\angel\\Desktop\\Università\\DataMiningFinale\\LavorettiFinali\\creation_functions\\utilities.py:113: FutureWarning: The frame.append method is deprecated and will be removed from pandas in a future version. Use pandas.concat instead.\n",
      "  report = report.append({\n",
      "C:\\Users\\angel\\Desktop\\Università\\DataMiningFinale\\LavorettiFinali\\creation_functions\\utilities.py:113: FutureWarning: The frame.append method is deprecated and will be removed from pandas in a future version. Use pandas.concat instead.\n",
      "  report = report.append({\n"
     ]
    }
   ],
   "source": [
    "report_knn = make_report(permutation, true_labels_knn, predicted_labels_knn)"
   ],
   "metadata": {
    "collapsed": false
   }
  },
  {
   "cell_type": "code",
   "execution_count": 4,
   "outputs": [],
   "source": [
    "from sklearn.svm import SVC"
   ],
   "metadata": {
    "collapsed": false
   }
  },
  {
   "cell_type": "code",
   "execution_count": 9,
   "outputs": [
    {
     "name": "stderr",
     "output_type": "stream",
     "text": [
      "C:\\Users\\angel\\Desktop\\Università\\DataMiningFinale\\LavorettiFinali\\creation_functions\\utilities.py:94: FutureWarning: elementwise comparison failed; returning scalar instead, but in the future will perform elementwise comparison\n",
      "  if permutation == \"random\":\n",
      "C:\\Users\\angel\\Desktop\\Università\\DataMiningFinale\\LavorettiFinali\\creation_functions\\utilities.py:104: FutureWarning: elementwise comparison failed; returning scalar instead, but in the future will perform elementwise comparison\n",
      "  if permutation == \"random\":\n"
     ]
    }
   ],
   "source": [
    "SVC_pipe=Pipeline([\n",
    "    (\"scaler\", RobustScaler()),\n",
    "    (\"sampling\", SMOTE()),\n",
    "    (\"feature-selector\", SelectKBest(k=K_FEATURES)),\n",
    "    (\"classifier\", SVC())\n",
    "])\n",
    "\n",
    "true_labels_svc, predicted_labels_svc = custom_cross_validation(non_corr_df, SVC_pipe, permutation=permutation)"
   ],
   "metadata": {
    "collapsed": false
   }
  },
  {
   "cell_type": "code",
   "execution_count": 10,
   "outputs": [
    {
     "name": "stderr",
     "output_type": "stream",
     "text": [
      "C:\\Users\\angel\\Desktop\\Università\\DataMiningFinale\\LavorettiFinali\\creation_functions\\utilities.py:113: FutureWarning: The frame.append method is deprecated and will be removed from pandas in a future version. Use pandas.concat instead.\n",
      "  report = report.append({\n",
      "C:\\Users\\angel\\Desktop\\Università\\DataMiningFinale\\LavorettiFinali\\creation_functions\\utilities.py:113: FutureWarning: The frame.append method is deprecated and will be removed from pandas in a future version. Use pandas.concat instead.\n",
      "  report = report.append({\n",
      "C:\\Users\\angel\\Desktop\\Università\\DataMiningFinale\\LavorettiFinali\\creation_functions\\utilities.py:113: FutureWarning: The frame.append method is deprecated and will be removed from pandas in a future version. Use pandas.concat instead.\n",
      "  report = report.append({\n",
      "C:\\Users\\angel\\Desktop\\Università\\DataMiningFinale\\LavorettiFinali\\creation_functions\\utilities.py:113: FutureWarning: The frame.append method is deprecated and will be removed from pandas in a future version. Use pandas.concat instead.\n",
      "  report = report.append({\n",
      "C:\\Users\\angel\\Desktop\\Università\\DataMiningFinale\\LavorettiFinali\\creation_functions\\utilities.py:113: FutureWarning: The frame.append method is deprecated and will be removed from pandas in a future version. Use pandas.concat instead.\n",
      "  report = report.append({\n",
      "C:\\Users\\angel\\Desktop\\Università\\DataMiningFinale\\LavorettiFinali\\creation_functions\\utilities.py:113: FutureWarning: The frame.append method is deprecated and will be removed from pandas in a future version. Use pandas.concat instead.\n",
      "  report = report.append({\n",
      "C:\\Users\\angel\\Desktop\\Università\\DataMiningFinale\\LavorettiFinali\\creation_functions\\utilities.py:113: FutureWarning: The frame.append method is deprecated and will be removed from pandas in a future version. Use pandas.concat instead.\n",
      "  report = report.append({\n",
      "C:\\Users\\angel\\Desktop\\Università\\DataMiningFinale\\LavorettiFinali\\creation_functions\\utilities.py:113: FutureWarning: The frame.append method is deprecated and will be removed from pandas in a future version. Use pandas.concat instead.\n",
      "  report = report.append({\n",
      "C:\\Users\\angel\\Desktop\\Università\\DataMiningFinale\\LavorettiFinali\\creation_functions\\utilities.py:113: FutureWarning: The frame.append method is deprecated and will be removed from pandas in a future version. Use pandas.concat instead.\n",
      "  report = report.append({\n",
      "C:\\Users\\angel\\Desktop\\Università\\DataMiningFinale\\LavorettiFinali\\creation_functions\\utilities.py:113: FutureWarning: The frame.append method is deprecated and will be removed from pandas in a future version. Use pandas.concat instead.\n",
      "  report = report.append({\n",
      "C:\\Users\\angel\\Desktop\\Università\\DataMiningFinale\\LavorettiFinali\\creation_functions\\utilities.py:113: FutureWarning: The frame.append method is deprecated and will be removed from pandas in a future version. Use pandas.concat instead.\n",
      "  report = report.append({\n",
      "C:\\Users\\angel\\Desktop\\Università\\DataMiningFinale\\LavorettiFinali\\creation_functions\\utilities.py:113: FutureWarning: The frame.append method is deprecated and will be removed from pandas in a future version. Use pandas.concat instead.\n",
      "  report = report.append({\n",
      "C:\\Users\\angel\\Desktop\\Università\\DataMiningFinale\\LavorettiFinali\\creation_functions\\utilities.py:113: FutureWarning: The frame.append method is deprecated and will be removed from pandas in a future version. Use pandas.concat instead.\n",
      "  report = report.append({\n",
      "C:\\Users\\angel\\Desktop\\Università\\DataMiningFinale\\LavorettiFinali\\creation_functions\\utilities.py:113: FutureWarning: The frame.append method is deprecated and will be removed from pandas in a future version. Use pandas.concat instead.\n",
      "  report = report.append({\n",
      "C:\\Users\\angel\\Desktop\\Università\\DataMiningFinale\\LavorettiFinali\\creation_functions\\utilities.py:113: FutureWarning: The frame.append method is deprecated and will be removed from pandas in a future version. Use pandas.concat instead.\n",
      "  report = report.append({\n",
      "C:\\Users\\angel\\Desktop\\Università\\DataMiningFinale\\LavorettiFinali\\creation_functions\\utilities.py:113: FutureWarning: The frame.append method is deprecated and will be removed from pandas in a future version. Use pandas.concat instead.\n",
      "  report = report.append({\n",
      "C:\\Users\\angel\\Desktop\\Università\\DataMiningFinale\\LavorettiFinali\\creation_functions\\utilities.py:113: FutureWarning: The frame.append method is deprecated and will be removed from pandas in a future version. Use pandas.concat instead.\n",
      "  report = report.append({\n",
      "C:\\Users\\angel\\Desktop\\Università\\DataMiningFinale\\LavorettiFinali\\creation_functions\\utilities.py:113: FutureWarning: The frame.append method is deprecated and will be removed from pandas in a future version. Use pandas.concat instead.\n",
      "  report = report.append({\n",
      "C:\\Users\\angel\\Desktop\\Università\\DataMiningFinale\\LavorettiFinali\\creation_functions\\utilities.py:113: FutureWarning: The frame.append method is deprecated and will be removed from pandas in a future version. Use pandas.concat instead.\n",
      "  report = report.append({\n",
      "C:\\Users\\angel\\Desktop\\Università\\DataMiningFinale\\LavorettiFinali\\creation_functions\\utilities.py:113: FutureWarning: The frame.append method is deprecated and will be removed from pandas in a future version. Use pandas.concat instead.\n",
      "  report = report.append({\n",
      "C:\\Users\\angel\\Desktop\\Università\\DataMiningFinale\\LavorettiFinali\\creation_functions\\utilities.py:113: FutureWarning: The frame.append method is deprecated and will be removed from pandas in a future version. Use pandas.concat instead.\n",
      "  report = report.append({\n",
      "C:\\Users\\angel\\Desktop\\Università\\DataMiningFinale\\LavorettiFinali\\creation_functions\\utilities.py:113: FutureWarning: The frame.append method is deprecated and will be removed from pandas in a future version. Use pandas.concat instead.\n",
      "  report = report.append({\n",
      "C:\\Users\\angel\\Desktop\\Università\\DataMiningFinale\\LavorettiFinali\\creation_functions\\utilities.py:113: FutureWarning: The frame.append method is deprecated and will be removed from pandas in a future version. Use pandas.concat instead.\n",
      "  report = report.append({\n",
      "C:\\Users\\angel\\Desktop\\Università\\DataMiningFinale\\LavorettiFinali\\creation_functions\\utilities.py:113: FutureWarning: The frame.append method is deprecated and will be removed from pandas in a future version. Use pandas.concat instead.\n",
      "  report = report.append({\n"
     ]
    }
   ],
   "source": [
    "svc_report = make_report(permutation, true_labels_svc, predicted_labels_svc)"
   ],
   "metadata": {
    "collapsed": false
   }
  },
  {
   "cell_type": "code",
   "execution_count": 11,
   "outputs": [
    {
     "data": {
      "text/plain": "    accuracy  precision    recall  f1_score  without_who\n0   0.880000   0.911511  0.880000  0.882213         10.0\n1   0.937500   0.949964  0.937500  0.939269         13.0\n2   0.938073   0.947027  0.938073  0.938889         21.0\n3   0.948980   0.959836  0.948980  0.950019          1.0\n4   0.985673   0.986137  0.985673  0.985317         22.0\n5   0.944304   0.946292  0.944304  0.943246          3.0\n6   0.925301   0.941408  0.925301  0.925547         16.0\n7   0.963446   0.966875  0.963446  0.963571          8.0\n8   0.948864   0.948545  0.948864  0.948119          4.0\n9   0.908257   0.922054  0.908257  0.907354          5.0\n10  0.950867   0.961920  0.950867  0.952583         20.0\n11  0.975904   0.976063  0.975904  0.975549         12.0\n12  0.967089   0.967458  0.967089  0.966550          2.0\n13  0.935484   0.955315  0.935484  0.938106         15.0\n14  0.914508   0.941481  0.914508  0.913939          7.0\n15  0.957746   0.963041  0.957746  0.959100         14.0\n16  0.840263   0.939007  0.840263  0.859419         19.0\n17  0.966759   0.972319  0.966759  0.966409          6.0\n18  0.946372   0.963710  0.946372  0.949086         24.0\n19  0.989247   0.989387  0.989247  0.989136         11.0\n20  0.962536   0.962327  0.962536  0.962034         17.0\n21  0.740554   0.836068  0.740554  0.727763         18.0\n22  0.853801   0.901323  0.853801  0.852129         23.0\n23  0.905292   0.909494  0.905292  0.907232          9.0",
      "text/html": "<div>\n<style scoped>\n    .dataframe tbody tr th:only-of-type {\n        vertical-align: middle;\n    }\n\n    .dataframe tbody tr th {\n        vertical-align: top;\n    }\n\n    .dataframe thead th {\n        text-align: right;\n    }\n</style>\n<table border=\"1\" class=\"dataframe\">\n  <thead>\n    <tr style=\"text-align: right;\">\n      <th></th>\n      <th>accuracy</th>\n      <th>precision</th>\n      <th>recall</th>\n      <th>f1_score</th>\n      <th>without_who</th>\n    </tr>\n  </thead>\n  <tbody>\n    <tr>\n      <th>0</th>\n      <td>0.880000</td>\n      <td>0.911511</td>\n      <td>0.880000</td>\n      <td>0.882213</td>\n      <td>10.0</td>\n    </tr>\n    <tr>\n      <th>1</th>\n      <td>0.937500</td>\n      <td>0.949964</td>\n      <td>0.937500</td>\n      <td>0.939269</td>\n      <td>13.0</td>\n    </tr>\n    <tr>\n      <th>2</th>\n      <td>0.938073</td>\n      <td>0.947027</td>\n      <td>0.938073</td>\n      <td>0.938889</td>\n      <td>21.0</td>\n    </tr>\n    <tr>\n      <th>3</th>\n      <td>0.948980</td>\n      <td>0.959836</td>\n      <td>0.948980</td>\n      <td>0.950019</td>\n      <td>1.0</td>\n    </tr>\n    <tr>\n      <th>4</th>\n      <td>0.985673</td>\n      <td>0.986137</td>\n      <td>0.985673</td>\n      <td>0.985317</td>\n      <td>22.0</td>\n    </tr>\n    <tr>\n      <th>5</th>\n      <td>0.944304</td>\n      <td>0.946292</td>\n      <td>0.944304</td>\n      <td>0.943246</td>\n      <td>3.0</td>\n    </tr>\n    <tr>\n      <th>6</th>\n      <td>0.925301</td>\n      <td>0.941408</td>\n      <td>0.925301</td>\n      <td>0.925547</td>\n      <td>16.0</td>\n    </tr>\n    <tr>\n      <th>7</th>\n      <td>0.963446</td>\n      <td>0.966875</td>\n      <td>0.963446</td>\n      <td>0.963571</td>\n      <td>8.0</td>\n    </tr>\n    <tr>\n      <th>8</th>\n      <td>0.948864</td>\n      <td>0.948545</td>\n      <td>0.948864</td>\n      <td>0.948119</td>\n      <td>4.0</td>\n    </tr>\n    <tr>\n      <th>9</th>\n      <td>0.908257</td>\n      <td>0.922054</td>\n      <td>0.908257</td>\n      <td>0.907354</td>\n      <td>5.0</td>\n    </tr>\n    <tr>\n      <th>10</th>\n      <td>0.950867</td>\n      <td>0.961920</td>\n      <td>0.950867</td>\n      <td>0.952583</td>\n      <td>20.0</td>\n    </tr>\n    <tr>\n      <th>11</th>\n      <td>0.975904</td>\n      <td>0.976063</td>\n      <td>0.975904</td>\n      <td>0.975549</td>\n      <td>12.0</td>\n    </tr>\n    <tr>\n      <th>12</th>\n      <td>0.967089</td>\n      <td>0.967458</td>\n      <td>0.967089</td>\n      <td>0.966550</td>\n      <td>2.0</td>\n    </tr>\n    <tr>\n      <th>13</th>\n      <td>0.935484</td>\n      <td>0.955315</td>\n      <td>0.935484</td>\n      <td>0.938106</td>\n      <td>15.0</td>\n    </tr>\n    <tr>\n      <th>14</th>\n      <td>0.914508</td>\n      <td>0.941481</td>\n      <td>0.914508</td>\n      <td>0.913939</td>\n      <td>7.0</td>\n    </tr>\n    <tr>\n      <th>15</th>\n      <td>0.957746</td>\n      <td>0.963041</td>\n      <td>0.957746</td>\n      <td>0.959100</td>\n      <td>14.0</td>\n    </tr>\n    <tr>\n      <th>16</th>\n      <td>0.840263</td>\n      <td>0.939007</td>\n      <td>0.840263</td>\n      <td>0.859419</td>\n      <td>19.0</td>\n    </tr>\n    <tr>\n      <th>17</th>\n      <td>0.966759</td>\n      <td>0.972319</td>\n      <td>0.966759</td>\n      <td>0.966409</td>\n      <td>6.0</td>\n    </tr>\n    <tr>\n      <th>18</th>\n      <td>0.946372</td>\n      <td>0.963710</td>\n      <td>0.946372</td>\n      <td>0.949086</td>\n      <td>24.0</td>\n    </tr>\n    <tr>\n      <th>19</th>\n      <td>0.989247</td>\n      <td>0.989387</td>\n      <td>0.989247</td>\n      <td>0.989136</td>\n      <td>11.0</td>\n    </tr>\n    <tr>\n      <th>20</th>\n      <td>0.962536</td>\n      <td>0.962327</td>\n      <td>0.962536</td>\n      <td>0.962034</td>\n      <td>17.0</td>\n    </tr>\n    <tr>\n      <th>21</th>\n      <td>0.740554</td>\n      <td>0.836068</td>\n      <td>0.740554</td>\n      <td>0.727763</td>\n      <td>18.0</td>\n    </tr>\n    <tr>\n      <th>22</th>\n      <td>0.853801</td>\n      <td>0.901323</td>\n      <td>0.853801</td>\n      <td>0.852129</td>\n      <td>23.0</td>\n    </tr>\n    <tr>\n      <th>23</th>\n      <td>0.905292</td>\n      <td>0.909494</td>\n      <td>0.905292</td>\n      <td>0.907232</td>\n      <td>9.0</td>\n    </tr>\n  </tbody>\n</table>\n</div>"
     },
     "execution_count": 11,
     "metadata": {},
     "output_type": "execute_result"
    }
   ],
   "source": [
    "svc_report"
   ],
   "metadata": {
    "collapsed": false
   }
  },
  {
   "cell_type": "code",
   "execution_count": 12,
   "outputs": [
    {
     "name": "stderr",
     "output_type": "stream",
     "text": [
      "C:\\Users\\angel\\Desktop\\Università\\DataMiningFinale\\LavorettiFinali\\creation_functions\\utilities.py:94: FutureWarning: elementwise comparison failed; returning scalar instead, but in the future will perform elementwise comparison\n",
      "  if permutation == \"random\":\n",
      "C:\\Users\\angel\\Desktop\\Università\\DataMiningFinale\\LavorettiFinali\\creation_functions\\utilities.py:104: FutureWarning: elementwise comparison failed; returning scalar instead, but in the future will perform elementwise comparison\n",
      "  if permutation == \"random\":\n"
     ]
    }
   ],
   "source": [
    "from sklearn.tree import DecisionTreeClassifier\n",
    "tree_pipe=Pipeline([\n",
    "    (\"scaler\", RobustScaler()),\n",
    "    (\"sampling\", SMOTE()),\n",
    "    (\"feature-selector\", SelectKBest(k=K_FEATURES)),\n",
    "    (\"classifier\", DecisionTreeClassifier())\n",
    "])\n",
    "\n",
    "true_labels_tree, predicted_labels_tree = custom_cross_validation(non_corr_df, tree_pipe, permutation=permutation)"
   ],
   "metadata": {
    "collapsed": false
   }
  },
  {
   "cell_type": "code",
   "execution_count": 13,
   "outputs": [
    {
     "name": "stderr",
     "output_type": "stream",
     "text": [
      "C:\\Users\\angel\\Desktop\\Università\\DataMiningFinale\\LavorettiFinali\\creation_functions\\utilities.py:113: FutureWarning: The frame.append method is deprecated and will be removed from pandas in a future version. Use pandas.concat instead.\n",
      "  report = report.append({\n",
      "C:\\Users\\angel\\Desktop\\Università\\DataMiningFinale\\LavorettiFinali\\creation_functions\\utilities.py:113: FutureWarning: The frame.append method is deprecated and will be removed from pandas in a future version. Use pandas.concat instead.\n",
      "  report = report.append({\n",
      "C:\\Users\\angel\\Desktop\\Università\\DataMiningFinale\\LavorettiFinali\\creation_functions\\utilities.py:113: FutureWarning: The frame.append method is deprecated and will be removed from pandas in a future version. Use pandas.concat instead.\n",
      "  report = report.append({\n",
      "C:\\Users\\angel\\Desktop\\Università\\DataMiningFinale\\LavorettiFinali\\creation_functions\\utilities.py:113: FutureWarning: The frame.append method is deprecated and will be removed from pandas in a future version. Use pandas.concat instead.\n",
      "  report = report.append({\n",
      "C:\\Users\\angel\\Desktop\\Università\\DataMiningFinale\\LavorettiFinali\\creation_functions\\utilities.py:113: FutureWarning: The frame.append method is deprecated and will be removed from pandas in a future version. Use pandas.concat instead.\n",
      "  report = report.append({\n",
      "C:\\Users\\angel\\Desktop\\Università\\DataMiningFinale\\LavorettiFinali\\creation_functions\\utilities.py:113: FutureWarning: The frame.append method is deprecated and will be removed from pandas in a future version. Use pandas.concat instead.\n",
      "  report = report.append({\n",
      "C:\\Users\\angel\\Desktop\\Università\\DataMiningFinale\\LavorettiFinali\\creation_functions\\utilities.py:113: FutureWarning: The frame.append method is deprecated and will be removed from pandas in a future version. Use pandas.concat instead.\n",
      "  report = report.append({\n",
      "C:\\Users\\angel\\Desktop\\Università\\DataMiningFinale\\LavorettiFinali\\creation_functions\\utilities.py:113: FutureWarning: The frame.append method is deprecated and will be removed from pandas in a future version. Use pandas.concat instead.\n",
      "  report = report.append({\n",
      "C:\\Users\\angel\\Desktop\\Università\\DataMiningFinale\\LavorettiFinali\\creation_functions\\utilities.py:113: FutureWarning: The frame.append method is deprecated and will be removed from pandas in a future version. Use pandas.concat instead.\n",
      "  report = report.append({\n",
      "C:\\Users\\angel\\Desktop\\Università\\DataMiningFinale\\LavorettiFinali\\creation_functions\\utilities.py:113: FutureWarning: The frame.append method is deprecated and will be removed from pandas in a future version. Use pandas.concat instead.\n",
      "  report = report.append({\n",
      "C:\\Users\\angel\\Desktop\\Università\\DataMiningFinale\\LavorettiFinali\\creation_functions\\utilities.py:113: FutureWarning: The frame.append method is deprecated and will be removed from pandas in a future version. Use pandas.concat instead.\n",
      "  report = report.append({\n",
      "C:\\Users\\angel\\Desktop\\Università\\DataMiningFinale\\LavorettiFinali\\creation_functions\\utilities.py:113: FutureWarning: The frame.append method is deprecated and will be removed from pandas in a future version. Use pandas.concat instead.\n",
      "  report = report.append({\n",
      "C:\\Users\\angel\\Desktop\\Università\\DataMiningFinale\\LavorettiFinali\\creation_functions\\utilities.py:113: FutureWarning: The frame.append method is deprecated and will be removed from pandas in a future version. Use pandas.concat instead.\n",
      "  report = report.append({\n",
      "C:\\Users\\angel\\Desktop\\Università\\DataMiningFinale\\LavorettiFinali\\creation_functions\\utilities.py:113: FutureWarning: The frame.append method is deprecated and will be removed from pandas in a future version. Use pandas.concat instead.\n",
      "  report = report.append({\n",
      "C:\\Users\\angel\\Desktop\\Università\\DataMiningFinale\\LavorettiFinali\\creation_functions\\utilities.py:113: FutureWarning: The frame.append method is deprecated and will be removed from pandas in a future version. Use pandas.concat instead.\n",
      "  report = report.append({\n",
      "C:\\Users\\angel\\Desktop\\Università\\DataMiningFinale\\LavorettiFinali\\creation_functions\\utilities.py:113: FutureWarning: The frame.append method is deprecated and will be removed from pandas in a future version. Use pandas.concat instead.\n",
      "  report = report.append({\n",
      "C:\\Users\\angel\\Desktop\\Università\\DataMiningFinale\\LavorettiFinali\\creation_functions\\utilities.py:113: FutureWarning: The frame.append method is deprecated and will be removed from pandas in a future version. Use pandas.concat instead.\n",
      "  report = report.append({\n",
      "C:\\Users\\angel\\Desktop\\Università\\DataMiningFinale\\LavorettiFinali\\creation_functions\\utilities.py:113: FutureWarning: The frame.append method is deprecated and will be removed from pandas in a future version. Use pandas.concat instead.\n",
      "  report = report.append({\n",
      "C:\\Users\\angel\\Desktop\\Università\\DataMiningFinale\\LavorettiFinali\\creation_functions\\utilities.py:113: FutureWarning: The frame.append method is deprecated and will be removed from pandas in a future version. Use pandas.concat instead.\n",
      "  report = report.append({\n",
      "C:\\Users\\angel\\Desktop\\Università\\DataMiningFinale\\LavorettiFinali\\creation_functions\\utilities.py:113: FutureWarning: The frame.append method is deprecated and will be removed from pandas in a future version. Use pandas.concat instead.\n",
      "  report = report.append({\n",
      "C:\\Users\\angel\\Desktop\\Università\\DataMiningFinale\\LavorettiFinali\\creation_functions\\utilities.py:113: FutureWarning: The frame.append method is deprecated and will be removed from pandas in a future version. Use pandas.concat instead.\n",
      "  report = report.append({\n",
      "C:\\Users\\angel\\Desktop\\Università\\DataMiningFinale\\LavorettiFinali\\creation_functions\\utilities.py:113: FutureWarning: The frame.append method is deprecated and will be removed from pandas in a future version. Use pandas.concat instead.\n",
      "  report = report.append({\n",
      "C:\\Users\\angel\\Desktop\\Università\\DataMiningFinale\\LavorettiFinali\\creation_functions\\utilities.py:113: FutureWarning: The frame.append method is deprecated and will be removed from pandas in a future version. Use pandas.concat instead.\n",
      "  report = report.append({\n",
      "C:\\Users\\angel\\Desktop\\Università\\DataMiningFinale\\LavorettiFinali\\creation_functions\\utilities.py:113: FutureWarning: The frame.append method is deprecated and will be removed from pandas in a future version. Use pandas.concat instead.\n",
      "  report = report.append({\n"
     ]
    }
   ],
   "source": [
    "tree_report = make_report(permutation, true_labels_tree, predicted_labels_tree)"
   ],
   "metadata": {
    "collapsed": false
   }
  },
  {
   "cell_type": "code",
   "execution_count": 14,
   "outputs": [
    {
     "data": {
      "text/plain": "    accuracy  precision    recall  f1_score  without_who\n0   0.704000   0.751488  0.704000  0.715617         10.0\n1   0.890625   0.899856  0.890625  0.890178         13.0\n2   0.866972   0.896099  0.866972  0.871373         21.0\n3   0.864796   0.884321  0.864796  0.861404          1.0\n4   0.896848   0.894281  0.896848  0.892290         22.0\n5   0.812658   0.857552  0.812658  0.817612          3.0\n6   0.915663   0.919094  0.915663  0.916842         16.0\n7   0.853786   0.880599  0.853786  0.845779          8.0\n8   0.900568   0.898837  0.900568  0.895523          4.0\n9   0.761468   0.822458  0.761468  0.758385          5.0\n10  0.846821   0.892989  0.846821  0.847969         20.0\n11  0.915663   0.915370  0.915663  0.913373         12.0\n12  0.886076   0.900259  0.886076  0.887641          2.0\n13  0.887097   0.893056  0.887097  0.887025         15.0\n14  0.854922   0.872684  0.854922  0.858333          7.0\n15  0.884507   0.885687  0.884507  0.884114         14.0\n16  0.761488   0.840644  0.761488  0.768275         19.0\n17  0.930748   0.931896  0.930748  0.930607          6.0\n18  0.804416   0.852904  0.804416  0.816281         24.0\n19  0.943548   0.949468  0.943548  0.944543         11.0\n20  0.927954   0.934437  0.927954  0.926769         17.0\n21  0.725441   0.817086  0.725441  0.715327         18.0\n22  0.766082   0.845373  0.766082  0.745092         23.0\n23  0.866295   0.864619  0.866295  0.864625          9.0",
      "text/html": "<div>\n<style scoped>\n    .dataframe tbody tr th:only-of-type {\n        vertical-align: middle;\n    }\n\n    .dataframe tbody tr th {\n        vertical-align: top;\n    }\n\n    .dataframe thead th {\n        text-align: right;\n    }\n</style>\n<table border=\"1\" class=\"dataframe\">\n  <thead>\n    <tr style=\"text-align: right;\">\n      <th></th>\n      <th>accuracy</th>\n      <th>precision</th>\n      <th>recall</th>\n      <th>f1_score</th>\n      <th>without_who</th>\n    </tr>\n  </thead>\n  <tbody>\n    <tr>\n      <th>0</th>\n      <td>0.704000</td>\n      <td>0.751488</td>\n      <td>0.704000</td>\n      <td>0.715617</td>\n      <td>10.0</td>\n    </tr>\n    <tr>\n      <th>1</th>\n      <td>0.890625</td>\n      <td>0.899856</td>\n      <td>0.890625</td>\n      <td>0.890178</td>\n      <td>13.0</td>\n    </tr>\n    <tr>\n      <th>2</th>\n      <td>0.866972</td>\n      <td>0.896099</td>\n      <td>0.866972</td>\n      <td>0.871373</td>\n      <td>21.0</td>\n    </tr>\n    <tr>\n      <th>3</th>\n      <td>0.864796</td>\n      <td>0.884321</td>\n      <td>0.864796</td>\n      <td>0.861404</td>\n      <td>1.0</td>\n    </tr>\n    <tr>\n      <th>4</th>\n      <td>0.896848</td>\n      <td>0.894281</td>\n      <td>0.896848</td>\n      <td>0.892290</td>\n      <td>22.0</td>\n    </tr>\n    <tr>\n      <th>5</th>\n      <td>0.812658</td>\n      <td>0.857552</td>\n      <td>0.812658</td>\n      <td>0.817612</td>\n      <td>3.0</td>\n    </tr>\n    <tr>\n      <th>6</th>\n      <td>0.915663</td>\n      <td>0.919094</td>\n      <td>0.915663</td>\n      <td>0.916842</td>\n      <td>16.0</td>\n    </tr>\n    <tr>\n      <th>7</th>\n      <td>0.853786</td>\n      <td>0.880599</td>\n      <td>0.853786</td>\n      <td>0.845779</td>\n      <td>8.0</td>\n    </tr>\n    <tr>\n      <th>8</th>\n      <td>0.900568</td>\n      <td>0.898837</td>\n      <td>0.900568</td>\n      <td>0.895523</td>\n      <td>4.0</td>\n    </tr>\n    <tr>\n      <th>9</th>\n      <td>0.761468</td>\n      <td>0.822458</td>\n      <td>0.761468</td>\n      <td>0.758385</td>\n      <td>5.0</td>\n    </tr>\n    <tr>\n      <th>10</th>\n      <td>0.846821</td>\n      <td>0.892989</td>\n      <td>0.846821</td>\n      <td>0.847969</td>\n      <td>20.0</td>\n    </tr>\n    <tr>\n      <th>11</th>\n      <td>0.915663</td>\n      <td>0.915370</td>\n      <td>0.915663</td>\n      <td>0.913373</td>\n      <td>12.0</td>\n    </tr>\n    <tr>\n      <th>12</th>\n      <td>0.886076</td>\n      <td>0.900259</td>\n      <td>0.886076</td>\n      <td>0.887641</td>\n      <td>2.0</td>\n    </tr>\n    <tr>\n      <th>13</th>\n      <td>0.887097</td>\n      <td>0.893056</td>\n      <td>0.887097</td>\n      <td>0.887025</td>\n      <td>15.0</td>\n    </tr>\n    <tr>\n      <th>14</th>\n      <td>0.854922</td>\n      <td>0.872684</td>\n      <td>0.854922</td>\n      <td>0.858333</td>\n      <td>7.0</td>\n    </tr>\n    <tr>\n      <th>15</th>\n      <td>0.884507</td>\n      <td>0.885687</td>\n      <td>0.884507</td>\n      <td>0.884114</td>\n      <td>14.0</td>\n    </tr>\n    <tr>\n      <th>16</th>\n      <td>0.761488</td>\n      <td>0.840644</td>\n      <td>0.761488</td>\n      <td>0.768275</td>\n      <td>19.0</td>\n    </tr>\n    <tr>\n      <th>17</th>\n      <td>0.930748</td>\n      <td>0.931896</td>\n      <td>0.930748</td>\n      <td>0.930607</td>\n      <td>6.0</td>\n    </tr>\n    <tr>\n      <th>18</th>\n      <td>0.804416</td>\n      <td>0.852904</td>\n      <td>0.804416</td>\n      <td>0.816281</td>\n      <td>24.0</td>\n    </tr>\n    <tr>\n      <th>19</th>\n      <td>0.943548</td>\n      <td>0.949468</td>\n      <td>0.943548</td>\n      <td>0.944543</td>\n      <td>11.0</td>\n    </tr>\n    <tr>\n      <th>20</th>\n      <td>0.927954</td>\n      <td>0.934437</td>\n      <td>0.927954</td>\n      <td>0.926769</td>\n      <td>17.0</td>\n    </tr>\n    <tr>\n      <th>21</th>\n      <td>0.725441</td>\n      <td>0.817086</td>\n      <td>0.725441</td>\n      <td>0.715327</td>\n      <td>18.0</td>\n    </tr>\n    <tr>\n      <th>22</th>\n      <td>0.766082</td>\n      <td>0.845373</td>\n      <td>0.766082</td>\n      <td>0.745092</td>\n      <td>23.0</td>\n    </tr>\n    <tr>\n      <th>23</th>\n      <td>0.866295</td>\n      <td>0.864619</td>\n      <td>0.866295</td>\n      <td>0.864625</td>\n      <td>9.0</td>\n    </tr>\n  </tbody>\n</table>\n</div>"
     },
     "execution_count": 14,
     "metadata": {},
     "output_type": "execute_result"
    }
   ],
   "source": [
    "tree_report"
   ],
   "metadata": {
    "collapsed": false
   }
  },
  {
   "cell_type": "code",
   "execution_count": 15,
   "outputs": [
    {
     "name": "stderr",
     "output_type": "stream",
     "text": [
      "C:\\Users\\angel\\Desktop\\Università\\DataMiningFinale\\LavorettiFinali\\creation_functions\\utilities.py:94: FutureWarning: elementwise comparison failed; returning scalar instead, but in the future will perform elementwise comparison\n",
      "  if permutation == \"random\":\n",
      "C:\\Users\\angel\\Desktop\\Università\\DataMiningFinale\\LavorettiFinali\\creation_functions\\utilities.py:104: FutureWarning: elementwise comparison failed; returning scalar instead, but in the future will perform elementwise comparison\n",
      "  if permutation == \"random\":\n"
     ]
    }
   ],
   "source": [
    "from sklearn.linear_model import LogisticRegression\n",
    "logregr_pipe=Pipeline([\n",
    "    (\"scaler\", RobustScaler()),\n",
    "    (\"sampling\", SMOTE()),\n",
    "    (\"feature-selector\", SelectKBest(k=K_FEATURES)),\n",
    "    (\"classifier\", LogisticRegression(max_iter=1000))\n",
    "])\n",
    "\n",
    "true_labels_logregr, predicted_labels_logregr = custom_cross_validation(non_corr_df, logregr_pipe, permutation=permutation)"
   ],
   "metadata": {
    "collapsed": false
   }
  },
  {
   "cell_type": "code",
   "execution_count": 16,
   "outputs": [
    {
     "name": "stderr",
     "output_type": "stream",
     "text": [
      "C:\\Users\\angel\\Desktop\\Università\\DataMiningFinale\\LavorettiFinali\\creation_functions\\utilities.py:113: FutureWarning: The frame.append method is deprecated and will be removed from pandas in a future version. Use pandas.concat instead.\n",
      "  report = report.append({\n",
      "C:\\Users\\angel\\Desktop\\Università\\DataMiningFinale\\LavorettiFinali\\creation_functions\\utilities.py:113: FutureWarning: The frame.append method is deprecated and will be removed from pandas in a future version. Use pandas.concat instead.\n",
      "  report = report.append({\n",
      "C:\\Users\\angel\\Desktop\\Università\\DataMiningFinale\\LavorettiFinali\\creation_functions\\utilities.py:113: FutureWarning: The frame.append method is deprecated and will be removed from pandas in a future version. Use pandas.concat instead.\n",
      "  report = report.append({\n",
      "C:\\Users\\angel\\Desktop\\Università\\DataMiningFinale\\LavorettiFinali\\creation_functions\\utilities.py:113: FutureWarning: The frame.append method is deprecated and will be removed from pandas in a future version. Use pandas.concat instead.\n",
      "  report = report.append({\n",
      "C:\\Users\\angel\\Desktop\\Università\\DataMiningFinale\\LavorettiFinali\\creation_functions\\utilities.py:113: FutureWarning: The frame.append method is deprecated and will be removed from pandas in a future version. Use pandas.concat instead.\n",
      "  report = report.append({\n",
      "C:\\Users\\angel\\Desktop\\Università\\DataMiningFinale\\LavorettiFinali\\creation_functions\\utilities.py:113: FutureWarning: The frame.append method is deprecated and will be removed from pandas in a future version. Use pandas.concat instead.\n",
      "  report = report.append({\n",
      "C:\\Users\\angel\\Desktop\\Università\\DataMiningFinale\\LavorettiFinali\\creation_functions\\utilities.py:113: FutureWarning: The frame.append method is deprecated and will be removed from pandas in a future version. Use pandas.concat instead.\n",
      "  report = report.append({\n",
      "C:\\Users\\angel\\Desktop\\Università\\DataMiningFinale\\LavorettiFinali\\creation_functions\\utilities.py:113: FutureWarning: The frame.append method is deprecated and will be removed from pandas in a future version. Use pandas.concat instead.\n",
      "  report = report.append({\n",
      "C:\\Users\\angel\\Desktop\\Università\\DataMiningFinale\\LavorettiFinali\\creation_functions\\utilities.py:113: FutureWarning: The frame.append method is deprecated and will be removed from pandas in a future version. Use pandas.concat instead.\n",
      "  report = report.append({\n",
      "C:\\Users\\angel\\Desktop\\Università\\DataMiningFinale\\LavorettiFinali\\creation_functions\\utilities.py:113: FutureWarning: The frame.append method is deprecated and will be removed from pandas in a future version. Use pandas.concat instead.\n",
      "  report = report.append({\n",
      "C:\\Users\\angel\\Desktop\\Università\\DataMiningFinale\\LavorettiFinali\\creation_functions\\utilities.py:113: FutureWarning: The frame.append method is deprecated and will be removed from pandas in a future version. Use pandas.concat instead.\n",
      "  report = report.append({\n",
      "C:\\Users\\angel\\Desktop\\Università\\DataMiningFinale\\LavorettiFinali\\creation_functions\\utilities.py:113: FutureWarning: The frame.append method is deprecated and will be removed from pandas in a future version. Use pandas.concat instead.\n",
      "  report = report.append({\n",
      "C:\\Users\\angel\\Desktop\\Università\\DataMiningFinale\\LavorettiFinali\\creation_functions\\utilities.py:113: FutureWarning: The frame.append method is deprecated and will be removed from pandas in a future version. Use pandas.concat instead.\n",
      "  report = report.append({\n",
      "C:\\Users\\angel\\Desktop\\Università\\DataMiningFinale\\LavorettiFinali\\creation_functions\\utilities.py:113: FutureWarning: The frame.append method is deprecated and will be removed from pandas in a future version. Use pandas.concat instead.\n",
      "  report = report.append({\n",
      "C:\\Users\\angel\\Desktop\\Università\\DataMiningFinale\\LavorettiFinali\\creation_functions\\utilities.py:113: FutureWarning: The frame.append method is deprecated and will be removed from pandas in a future version. Use pandas.concat instead.\n",
      "  report = report.append({\n",
      "C:\\Users\\angel\\Desktop\\Università\\DataMiningFinale\\LavorettiFinali\\creation_functions\\utilities.py:113: FutureWarning: The frame.append method is deprecated and will be removed from pandas in a future version. Use pandas.concat instead.\n",
      "  report = report.append({\n",
      "C:\\Users\\angel\\Desktop\\Università\\DataMiningFinale\\LavorettiFinali\\creation_functions\\utilities.py:113: FutureWarning: The frame.append method is deprecated and will be removed from pandas in a future version. Use pandas.concat instead.\n",
      "  report = report.append({\n",
      "C:\\Users\\angel\\Desktop\\Università\\DataMiningFinale\\LavorettiFinali\\creation_functions\\utilities.py:113: FutureWarning: The frame.append method is deprecated and will be removed from pandas in a future version. Use pandas.concat instead.\n",
      "  report = report.append({\n",
      "C:\\Users\\angel\\Desktop\\Università\\DataMiningFinale\\LavorettiFinali\\creation_functions\\utilities.py:113: FutureWarning: The frame.append method is deprecated and will be removed from pandas in a future version. Use pandas.concat instead.\n",
      "  report = report.append({\n",
      "C:\\Users\\angel\\Desktop\\Università\\DataMiningFinale\\LavorettiFinali\\creation_functions\\utilities.py:113: FutureWarning: The frame.append method is deprecated and will be removed from pandas in a future version. Use pandas.concat instead.\n",
      "  report = report.append({\n",
      "C:\\Users\\angel\\Desktop\\Università\\DataMiningFinale\\LavorettiFinali\\creation_functions\\utilities.py:113: FutureWarning: The frame.append method is deprecated and will be removed from pandas in a future version. Use pandas.concat instead.\n",
      "  report = report.append({\n",
      "C:\\Users\\angel\\Desktop\\Università\\DataMiningFinale\\LavorettiFinali\\creation_functions\\utilities.py:113: FutureWarning: The frame.append method is deprecated and will be removed from pandas in a future version. Use pandas.concat instead.\n",
      "  report = report.append({\n",
      "C:\\Users\\angel\\Desktop\\Università\\DataMiningFinale\\LavorettiFinali\\creation_functions\\utilities.py:113: FutureWarning: The frame.append method is deprecated and will be removed from pandas in a future version. Use pandas.concat instead.\n",
      "  report = report.append({\n",
      "C:\\Users\\angel\\Desktop\\Università\\DataMiningFinale\\LavorettiFinali\\creation_functions\\utilities.py:113: FutureWarning: The frame.append method is deprecated and will be removed from pandas in a future version. Use pandas.concat instead.\n",
      "  report = report.append({\n"
     ]
    }
   ],
   "source": [
    "logreg_report = make_report(permutation, true_labels_logregr, predicted_labels_logregr)"
   ],
   "metadata": {
    "collapsed": false
   }
  },
  {
   "cell_type": "code",
   "execution_count": 17,
   "outputs": [
    {
     "data": {
      "text/plain": "    accuracy  precision    recall  f1_score  without_who\n0   0.728000   0.896156  0.728000  0.722495         10.0\n1   0.925000   0.942316  0.925000  0.927368         13.0\n2   0.949541   0.951324  0.949541  0.948940         21.0\n3   0.918367   0.927744  0.918367  0.918191          1.0\n4   0.971347   0.972691  0.971347  0.971013         22.0\n5   0.951899   0.954205  0.951899  0.949844          3.0\n6   0.971084   0.971864  0.971084  0.971384         16.0\n7   0.942559   0.948708  0.942559  0.940812          8.0\n8   0.866477   0.877572  0.866477  0.865182          4.0\n9   0.871560   0.891781  0.871560  0.870237          5.0\n10  0.921965   0.952950  0.921965  0.926725         20.0\n11  0.981928   0.982360  0.981928  0.981714         12.0\n12  0.967089   0.968751  0.967089  0.966623          2.0\n13  0.827957   0.943029  0.827957  0.846836         15.0\n14  0.922280   0.947925  0.922280  0.925140          7.0\n15  0.929577   0.945542  0.929577  0.934042         14.0\n16  0.820569   0.865950  0.820569  0.814698         19.0\n17  0.955679   0.961644  0.955679  0.953957          6.0\n18  0.946372   0.947474  0.946372  0.943291         24.0\n19  0.973118   0.973783  0.973118  0.973309         11.0\n20  0.962536   0.962489  0.962536  0.962287         17.0\n21  0.750630   0.847089  0.750630  0.740930         18.0\n22  0.833333   0.904851  0.833333  0.830179         23.0\n23  0.908078   0.907142  0.908078  0.907576          9.0",
      "text/html": "<div>\n<style scoped>\n    .dataframe tbody tr th:only-of-type {\n        vertical-align: middle;\n    }\n\n    .dataframe tbody tr th {\n        vertical-align: top;\n    }\n\n    .dataframe thead th {\n        text-align: right;\n    }\n</style>\n<table border=\"1\" class=\"dataframe\">\n  <thead>\n    <tr style=\"text-align: right;\">\n      <th></th>\n      <th>accuracy</th>\n      <th>precision</th>\n      <th>recall</th>\n      <th>f1_score</th>\n      <th>without_who</th>\n    </tr>\n  </thead>\n  <tbody>\n    <tr>\n      <th>0</th>\n      <td>0.728000</td>\n      <td>0.896156</td>\n      <td>0.728000</td>\n      <td>0.722495</td>\n      <td>10.0</td>\n    </tr>\n    <tr>\n      <th>1</th>\n      <td>0.925000</td>\n      <td>0.942316</td>\n      <td>0.925000</td>\n      <td>0.927368</td>\n      <td>13.0</td>\n    </tr>\n    <tr>\n      <th>2</th>\n      <td>0.949541</td>\n      <td>0.951324</td>\n      <td>0.949541</td>\n      <td>0.948940</td>\n      <td>21.0</td>\n    </tr>\n    <tr>\n      <th>3</th>\n      <td>0.918367</td>\n      <td>0.927744</td>\n      <td>0.918367</td>\n      <td>0.918191</td>\n      <td>1.0</td>\n    </tr>\n    <tr>\n      <th>4</th>\n      <td>0.971347</td>\n      <td>0.972691</td>\n      <td>0.971347</td>\n      <td>0.971013</td>\n      <td>22.0</td>\n    </tr>\n    <tr>\n      <th>5</th>\n      <td>0.951899</td>\n      <td>0.954205</td>\n      <td>0.951899</td>\n      <td>0.949844</td>\n      <td>3.0</td>\n    </tr>\n    <tr>\n      <th>6</th>\n      <td>0.971084</td>\n      <td>0.971864</td>\n      <td>0.971084</td>\n      <td>0.971384</td>\n      <td>16.0</td>\n    </tr>\n    <tr>\n      <th>7</th>\n      <td>0.942559</td>\n      <td>0.948708</td>\n      <td>0.942559</td>\n      <td>0.940812</td>\n      <td>8.0</td>\n    </tr>\n    <tr>\n      <th>8</th>\n      <td>0.866477</td>\n      <td>0.877572</td>\n      <td>0.866477</td>\n      <td>0.865182</td>\n      <td>4.0</td>\n    </tr>\n    <tr>\n      <th>9</th>\n      <td>0.871560</td>\n      <td>0.891781</td>\n      <td>0.871560</td>\n      <td>0.870237</td>\n      <td>5.0</td>\n    </tr>\n    <tr>\n      <th>10</th>\n      <td>0.921965</td>\n      <td>0.952950</td>\n      <td>0.921965</td>\n      <td>0.926725</td>\n      <td>20.0</td>\n    </tr>\n    <tr>\n      <th>11</th>\n      <td>0.981928</td>\n      <td>0.982360</td>\n      <td>0.981928</td>\n      <td>0.981714</td>\n      <td>12.0</td>\n    </tr>\n    <tr>\n      <th>12</th>\n      <td>0.967089</td>\n      <td>0.968751</td>\n      <td>0.967089</td>\n      <td>0.966623</td>\n      <td>2.0</td>\n    </tr>\n    <tr>\n      <th>13</th>\n      <td>0.827957</td>\n      <td>0.943029</td>\n      <td>0.827957</td>\n      <td>0.846836</td>\n      <td>15.0</td>\n    </tr>\n    <tr>\n      <th>14</th>\n      <td>0.922280</td>\n      <td>0.947925</td>\n      <td>0.922280</td>\n      <td>0.925140</td>\n      <td>7.0</td>\n    </tr>\n    <tr>\n      <th>15</th>\n      <td>0.929577</td>\n      <td>0.945542</td>\n      <td>0.929577</td>\n      <td>0.934042</td>\n      <td>14.0</td>\n    </tr>\n    <tr>\n      <th>16</th>\n      <td>0.820569</td>\n      <td>0.865950</td>\n      <td>0.820569</td>\n      <td>0.814698</td>\n      <td>19.0</td>\n    </tr>\n    <tr>\n      <th>17</th>\n      <td>0.955679</td>\n      <td>0.961644</td>\n      <td>0.955679</td>\n      <td>0.953957</td>\n      <td>6.0</td>\n    </tr>\n    <tr>\n      <th>18</th>\n      <td>0.946372</td>\n      <td>0.947474</td>\n      <td>0.946372</td>\n      <td>0.943291</td>\n      <td>24.0</td>\n    </tr>\n    <tr>\n      <th>19</th>\n      <td>0.973118</td>\n      <td>0.973783</td>\n      <td>0.973118</td>\n      <td>0.973309</td>\n      <td>11.0</td>\n    </tr>\n    <tr>\n      <th>20</th>\n      <td>0.962536</td>\n      <td>0.962489</td>\n      <td>0.962536</td>\n      <td>0.962287</td>\n      <td>17.0</td>\n    </tr>\n    <tr>\n      <th>21</th>\n      <td>0.750630</td>\n      <td>0.847089</td>\n      <td>0.750630</td>\n      <td>0.740930</td>\n      <td>18.0</td>\n    </tr>\n    <tr>\n      <th>22</th>\n      <td>0.833333</td>\n      <td>0.904851</td>\n      <td>0.833333</td>\n      <td>0.830179</td>\n      <td>23.0</td>\n    </tr>\n    <tr>\n      <th>23</th>\n      <td>0.908078</td>\n      <td>0.907142</td>\n      <td>0.908078</td>\n      <td>0.907576</td>\n      <td>9.0</td>\n    </tr>\n  </tbody>\n</table>\n</div>"
     },
     "execution_count": 17,
     "metadata": {},
     "output_type": "execute_result"
    }
   ],
   "source": [
    "logreg_report"
   ],
   "metadata": {
    "collapsed": false
   }
  },
  {
   "cell_type": "code",
   "execution_count": 18,
   "outputs": [
    {
     "name": "stderr",
     "output_type": "stream",
     "text": [
      "C:\\Users\\angel\\Desktop\\Università\\DataMiningFinale\\LavorettiFinali\\creation_functions\\utilities.py:94: FutureWarning: elementwise comparison failed; returning scalar instead, but in the future will perform elementwise comparison\n",
      "  if permutation == \"random\":\n",
      "C:\\Users\\angel\\Desktop\\Università\\DataMiningFinale\\LavorettiFinali\\creation_functions\\utilities.py:104: FutureWarning: elementwise comparison failed; returning scalar instead, but in the future will perform elementwise comparison\n",
      "  if permutation == \"random\":\n"
     ]
    }
   ],
   "source": [
    "from sklearn.naive_bayes import GaussianNB\n",
    "nb_pipe=Pipeline([\n",
    "    (\"scaler\", RobustScaler()),\n",
    "    (\"sampling\", SMOTE()),\n",
    "    (\"feature-selector\", SelectKBest(k=K_FEATURES)),\n",
    "    (\"classifier\", GaussianNB())\n",
    "])\n",
    "\n",
    "true_labels_nb, predicted_labels_nb = custom_cross_validation(non_corr_df, nb_pipe, permutation=permutation)"
   ],
   "metadata": {
    "collapsed": false
   }
  },
  {
   "cell_type": "code",
   "execution_count": 19,
   "outputs": [
    {
     "name": "stderr",
     "output_type": "stream",
     "text": [
      "C:\\Users\\angel\\Desktop\\Università\\DataMiningFinale\\LavorettiFinali\\creation_functions\\utilities.py:113: FutureWarning: The frame.append method is deprecated and will be removed from pandas in a future version. Use pandas.concat instead.\n",
      "  report = report.append({\n",
      "C:\\Users\\angel\\Desktop\\Università\\DataMiningFinale\\LavorettiFinali\\creation_functions\\utilities.py:113: FutureWarning: The frame.append method is deprecated and will be removed from pandas in a future version. Use pandas.concat instead.\n",
      "  report = report.append({\n",
      "C:\\Users\\angel\\Desktop\\Università\\DataMiningFinale\\LavorettiFinali\\creation_functions\\utilities.py:113: FutureWarning: The frame.append method is deprecated and will be removed from pandas in a future version. Use pandas.concat instead.\n",
      "  report = report.append({\n",
      "C:\\Users\\angel\\Desktop\\Università\\DataMiningFinale\\LavorettiFinali\\creation_functions\\utilities.py:113: FutureWarning: The frame.append method is deprecated and will be removed from pandas in a future version. Use pandas.concat instead.\n",
      "  report = report.append({\n",
      "C:\\Users\\angel\\Desktop\\Università\\DataMiningFinale\\LavorettiFinali\\creation_functions\\utilities.py:113: FutureWarning: The frame.append method is deprecated and will be removed from pandas in a future version. Use pandas.concat instead.\n",
      "  report = report.append({\n",
      "C:\\Users\\angel\\Desktop\\Università\\DataMiningFinale\\LavorettiFinali\\creation_functions\\utilities.py:113: FutureWarning: The frame.append method is deprecated and will be removed from pandas in a future version. Use pandas.concat instead.\n",
      "  report = report.append({\n",
      "C:\\Users\\angel\\Desktop\\Università\\DataMiningFinale\\LavorettiFinali\\creation_functions\\utilities.py:113: FutureWarning: The frame.append method is deprecated and will be removed from pandas in a future version. Use pandas.concat instead.\n",
      "  report = report.append({\n",
      "C:\\Users\\angel\\Desktop\\Università\\DataMiningFinale\\LavorettiFinali\\creation_functions\\utilities.py:113: FutureWarning: The frame.append method is deprecated and will be removed from pandas in a future version. Use pandas.concat instead.\n",
      "  report = report.append({\n",
      "C:\\Users\\angel\\Desktop\\Università\\DataMiningFinale\\LavorettiFinali\\creation_functions\\utilities.py:113: FutureWarning: The frame.append method is deprecated and will be removed from pandas in a future version. Use pandas.concat instead.\n",
      "  report = report.append({\n",
      "C:\\Users\\angel\\Desktop\\Università\\DataMiningFinale\\LavorettiFinali\\creation_functions\\utilities.py:113: FutureWarning: The frame.append method is deprecated and will be removed from pandas in a future version. Use pandas.concat instead.\n",
      "  report = report.append({\n",
      "C:\\Users\\angel\\Desktop\\Università\\DataMiningFinale\\LavorettiFinali\\creation_functions\\utilities.py:113: FutureWarning: The frame.append method is deprecated and will be removed from pandas in a future version. Use pandas.concat instead.\n",
      "  report = report.append({\n",
      "C:\\Users\\angel\\Desktop\\Università\\DataMiningFinale\\LavorettiFinali\\creation_functions\\utilities.py:113: FutureWarning: The frame.append method is deprecated and will be removed from pandas in a future version. Use pandas.concat instead.\n",
      "  report = report.append({\n",
      "C:\\Users\\angel\\Desktop\\Università\\DataMiningFinale\\LavorettiFinali\\creation_functions\\utilities.py:113: FutureWarning: The frame.append method is deprecated and will be removed from pandas in a future version. Use pandas.concat instead.\n",
      "  report = report.append({\n",
      "C:\\Users\\angel\\Desktop\\Università\\DataMiningFinale\\LavorettiFinali\\creation_functions\\utilities.py:113: FutureWarning: The frame.append method is deprecated and will be removed from pandas in a future version. Use pandas.concat instead.\n",
      "  report = report.append({\n",
      "C:\\Users\\angel\\Desktop\\Università\\DataMiningFinale\\LavorettiFinali\\creation_functions\\utilities.py:113: FutureWarning: The frame.append method is deprecated and will be removed from pandas in a future version. Use pandas.concat instead.\n",
      "  report = report.append({\n",
      "C:\\Users\\angel\\Desktop\\Università\\DataMiningFinale\\LavorettiFinali\\creation_functions\\utilities.py:113: FutureWarning: The frame.append method is deprecated and will be removed from pandas in a future version. Use pandas.concat instead.\n",
      "  report = report.append({\n",
      "C:\\Users\\angel\\Desktop\\Università\\DataMiningFinale\\LavorettiFinali\\creation_functions\\utilities.py:113: FutureWarning: The frame.append method is deprecated and will be removed from pandas in a future version. Use pandas.concat instead.\n",
      "  report = report.append({\n",
      "C:\\Users\\angel\\Desktop\\Università\\DataMiningFinale\\LavorettiFinali\\creation_functions\\utilities.py:113: FutureWarning: The frame.append method is deprecated and will be removed from pandas in a future version. Use pandas.concat instead.\n",
      "  report = report.append({\n",
      "C:\\Users\\angel\\Desktop\\Università\\DataMiningFinale\\LavorettiFinali\\creation_functions\\utilities.py:113: FutureWarning: The frame.append method is deprecated and will be removed from pandas in a future version. Use pandas.concat instead.\n",
      "  report = report.append({\n",
      "C:\\Users\\angel\\Desktop\\Università\\DataMiningFinale\\LavorettiFinali\\creation_functions\\utilities.py:113: FutureWarning: The frame.append method is deprecated and will be removed from pandas in a future version. Use pandas.concat instead.\n",
      "  report = report.append({\n",
      "C:\\Users\\angel\\Desktop\\Università\\DataMiningFinale\\LavorettiFinali\\creation_functions\\utilities.py:113: FutureWarning: The frame.append method is deprecated and will be removed from pandas in a future version. Use pandas.concat instead.\n",
      "  report = report.append({\n",
      "C:\\Users\\angel\\Desktop\\Università\\DataMiningFinale\\LavorettiFinali\\creation_functions\\utilities.py:113: FutureWarning: The frame.append method is deprecated and will be removed from pandas in a future version. Use pandas.concat instead.\n",
      "  report = report.append({\n",
      "C:\\Users\\angel\\Desktop\\Università\\DataMiningFinale\\LavorettiFinali\\creation_functions\\utilities.py:113: FutureWarning: The frame.append method is deprecated and will be removed from pandas in a future version. Use pandas.concat instead.\n",
      "  report = report.append({\n",
      "C:\\Users\\angel\\Desktop\\Università\\DataMiningFinale\\LavorettiFinali\\creation_functions\\utilities.py:113: FutureWarning: The frame.append method is deprecated and will be removed from pandas in a future version. Use pandas.concat instead.\n",
      "  report = report.append({\n"
     ]
    }
   ],
   "source": [
    "nb_report = make_report(permutation, true_labels_nb, predicted_labels_nb)"
   ],
   "metadata": {
    "collapsed": false
   }
  },
  {
   "cell_type": "code",
   "execution_count": 20,
   "outputs": [
    {
     "data": {
      "text/plain": "    accuracy  precision    recall  f1_score  without_who\n0   0.629333   0.682405  0.629333  0.596043         10.0\n1   0.603125   0.725748  0.603125  0.572896         13.0\n2   0.605505   0.739684  0.605505  0.580715         21.0\n3   0.864796   0.872246  0.864796  0.862460          1.0\n4   0.848138   0.857148  0.848138  0.844531         22.0\n5   0.534177   0.764479  0.534177  0.494504          3.0\n6   0.624096   0.773924  0.624096  0.601689         16.0\n7   0.676240   0.656806  0.676240  0.640901          8.0\n8   0.659091   0.618122  0.659091  0.587601          4.0\n9   0.737003   0.826645  0.737003  0.716019          5.0\n10  0.658960   0.802537  0.658960  0.621850         20.0\n11  0.762048   0.747637  0.762048  0.735540         12.0\n12  0.822785   0.858458  0.822785  0.806626          2.0\n13  0.774194   0.776213  0.774194  0.770980         15.0\n14  0.624352   0.786956  0.624352  0.544380          7.0\n15  0.797183   0.827602  0.797183  0.785163         14.0\n16  0.503282   0.570334  0.503282  0.459245         19.0\n17  0.817175   0.865850  0.817175  0.809771          6.0\n18  0.624606   0.804760  0.624606  0.634438         24.0\n19  0.873656   0.890096  0.873656  0.871829         11.0\n20  0.818444   0.838836  0.818444  0.806803         17.0\n21  0.513854   0.458142  0.513854  0.450556         18.0\n22  0.631579   0.832662  0.631579  0.594991         23.0\n23  0.793872   0.804028  0.793872  0.783605          9.0",
      "text/html": "<div>\n<style scoped>\n    .dataframe tbody tr th:only-of-type {\n        vertical-align: middle;\n    }\n\n    .dataframe tbody tr th {\n        vertical-align: top;\n    }\n\n    .dataframe thead th {\n        text-align: right;\n    }\n</style>\n<table border=\"1\" class=\"dataframe\">\n  <thead>\n    <tr style=\"text-align: right;\">\n      <th></th>\n      <th>accuracy</th>\n      <th>precision</th>\n      <th>recall</th>\n      <th>f1_score</th>\n      <th>without_who</th>\n    </tr>\n  </thead>\n  <tbody>\n    <tr>\n      <th>0</th>\n      <td>0.629333</td>\n      <td>0.682405</td>\n      <td>0.629333</td>\n      <td>0.596043</td>\n      <td>10.0</td>\n    </tr>\n    <tr>\n      <th>1</th>\n      <td>0.603125</td>\n      <td>0.725748</td>\n      <td>0.603125</td>\n      <td>0.572896</td>\n      <td>13.0</td>\n    </tr>\n    <tr>\n      <th>2</th>\n      <td>0.605505</td>\n      <td>0.739684</td>\n      <td>0.605505</td>\n      <td>0.580715</td>\n      <td>21.0</td>\n    </tr>\n    <tr>\n      <th>3</th>\n      <td>0.864796</td>\n      <td>0.872246</td>\n      <td>0.864796</td>\n      <td>0.862460</td>\n      <td>1.0</td>\n    </tr>\n    <tr>\n      <th>4</th>\n      <td>0.848138</td>\n      <td>0.857148</td>\n      <td>0.848138</td>\n      <td>0.844531</td>\n      <td>22.0</td>\n    </tr>\n    <tr>\n      <th>5</th>\n      <td>0.534177</td>\n      <td>0.764479</td>\n      <td>0.534177</td>\n      <td>0.494504</td>\n      <td>3.0</td>\n    </tr>\n    <tr>\n      <th>6</th>\n      <td>0.624096</td>\n      <td>0.773924</td>\n      <td>0.624096</td>\n      <td>0.601689</td>\n      <td>16.0</td>\n    </tr>\n    <tr>\n      <th>7</th>\n      <td>0.676240</td>\n      <td>0.656806</td>\n      <td>0.676240</td>\n      <td>0.640901</td>\n      <td>8.0</td>\n    </tr>\n    <tr>\n      <th>8</th>\n      <td>0.659091</td>\n      <td>0.618122</td>\n      <td>0.659091</td>\n      <td>0.587601</td>\n      <td>4.0</td>\n    </tr>\n    <tr>\n      <th>9</th>\n      <td>0.737003</td>\n      <td>0.826645</td>\n      <td>0.737003</td>\n      <td>0.716019</td>\n      <td>5.0</td>\n    </tr>\n    <tr>\n      <th>10</th>\n      <td>0.658960</td>\n      <td>0.802537</td>\n      <td>0.658960</td>\n      <td>0.621850</td>\n      <td>20.0</td>\n    </tr>\n    <tr>\n      <th>11</th>\n      <td>0.762048</td>\n      <td>0.747637</td>\n      <td>0.762048</td>\n      <td>0.735540</td>\n      <td>12.0</td>\n    </tr>\n    <tr>\n      <th>12</th>\n      <td>0.822785</td>\n      <td>0.858458</td>\n      <td>0.822785</td>\n      <td>0.806626</td>\n      <td>2.0</td>\n    </tr>\n    <tr>\n      <th>13</th>\n      <td>0.774194</td>\n      <td>0.776213</td>\n      <td>0.774194</td>\n      <td>0.770980</td>\n      <td>15.0</td>\n    </tr>\n    <tr>\n      <th>14</th>\n      <td>0.624352</td>\n      <td>0.786956</td>\n      <td>0.624352</td>\n      <td>0.544380</td>\n      <td>7.0</td>\n    </tr>\n    <tr>\n      <th>15</th>\n      <td>0.797183</td>\n      <td>0.827602</td>\n      <td>0.797183</td>\n      <td>0.785163</td>\n      <td>14.0</td>\n    </tr>\n    <tr>\n      <th>16</th>\n      <td>0.503282</td>\n      <td>0.570334</td>\n      <td>0.503282</td>\n      <td>0.459245</td>\n      <td>19.0</td>\n    </tr>\n    <tr>\n      <th>17</th>\n      <td>0.817175</td>\n      <td>0.865850</td>\n      <td>0.817175</td>\n      <td>0.809771</td>\n      <td>6.0</td>\n    </tr>\n    <tr>\n      <th>18</th>\n      <td>0.624606</td>\n      <td>0.804760</td>\n      <td>0.624606</td>\n      <td>0.634438</td>\n      <td>24.0</td>\n    </tr>\n    <tr>\n      <th>19</th>\n      <td>0.873656</td>\n      <td>0.890096</td>\n      <td>0.873656</td>\n      <td>0.871829</td>\n      <td>11.0</td>\n    </tr>\n    <tr>\n      <th>20</th>\n      <td>0.818444</td>\n      <td>0.838836</td>\n      <td>0.818444</td>\n      <td>0.806803</td>\n      <td>17.0</td>\n    </tr>\n    <tr>\n      <th>21</th>\n      <td>0.513854</td>\n      <td>0.458142</td>\n      <td>0.513854</td>\n      <td>0.450556</td>\n      <td>18.0</td>\n    </tr>\n    <tr>\n      <th>22</th>\n      <td>0.631579</td>\n      <td>0.832662</td>\n      <td>0.631579</td>\n      <td>0.594991</td>\n      <td>23.0</td>\n    </tr>\n    <tr>\n      <th>23</th>\n      <td>0.793872</td>\n      <td>0.804028</td>\n      <td>0.793872</td>\n      <td>0.783605</td>\n      <td>9.0</td>\n    </tr>\n  </tbody>\n</table>\n</div>"
     },
     "execution_count": 20,
     "metadata": {},
     "output_type": "execute_result"
    }
   ],
   "source": [
    "nb_report"
   ],
   "metadata": {
    "collapsed": false
   }
  },
  {
   "cell_type": "code",
   "execution_count": 21,
   "outputs": [
    {
     "name": "stderr",
     "output_type": "stream",
     "text": [
      "C:\\Users\\angel\\Desktop\\Università\\DataMiningFinale\\LavorettiFinali\\creation_functions\\utilities.py:94: FutureWarning: elementwise comparison failed; returning scalar instead, but in the future will perform elementwise comparison\n",
      "  if permutation == \"random\":\n",
      "C:\\Users\\angel\\Desktop\\Università\\DataMiningFinale\\LavorettiFinali\\creation_functions\\utilities.py:104: FutureWarning: elementwise comparison failed; returning scalar instead, but in the future will perform elementwise comparison\n",
      "  if permutation == \"random\":\n"
     ]
    }
   ],
   "source": [
    "ranfor_pipe=Pipeline([\n",
    "    (\"scaler\", RobustScaler()),\n",
    "    (\"sampling\", SMOTE()),\n",
    "    (\"feature-selector\", SelectKBest(k=K_FEATURES)),\n",
    "    (\"classifier\", RandomForestClassifier(n_jobs=-1))\n",
    "])\n",
    "\n",
    "true_labels_ranfor, predicted_labels_ranfor = custom_cross_validation(non_corr_df, ranfor_pipe, permutation=permutation)"
   ],
   "metadata": {
    "collapsed": false
   }
  },
  {
   "cell_type": "code",
   "execution_count": 22,
   "outputs": [
    {
     "name": "stderr",
     "output_type": "stream",
     "text": [
      "C:\\Users\\angel\\Desktop\\Università\\DataMiningFinale\\LavorettiFinali\\creation_functions\\utilities.py:113: FutureWarning: The frame.append method is deprecated and will be removed from pandas in a future version. Use pandas.concat instead.\n",
      "  report = report.append({\n",
      "C:\\Users\\angel\\Desktop\\Università\\DataMiningFinale\\LavorettiFinali\\creation_functions\\utilities.py:113: FutureWarning: The frame.append method is deprecated and will be removed from pandas in a future version. Use pandas.concat instead.\n",
      "  report = report.append({\n",
      "C:\\Users\\angel\\Desktop\\Università\\DataMiningFinale\\LavorettiFinali\\creation_functions\\utilities.py:113: FutureWarning: The frame.append method is deprecated and will be removed from pandas in a future version. Use pandas.concat instead.\n",
      "  report = report.append({\n",
      "C:\\Users\\angel\\Desktop\\Università\\DataMiningFinale\\LavorettiFinali\\creation_functions\\utilities.py:113: FutureWarning: The frame.append method is deprecated and will be removed from pandas in a future version. Use pandas.concat instead.\n",
      "  report = report.append({\n",
      "C:\\Users\\angel\\Desktop\\Università\\DataMiningFinale\\LavorettiFinali\\creation_functions\\utilities.py:113: FutureWarning: The frame.append method is deprecated and will be removed from pandas in a future version. Use pandas.concat instead.\n",
      "  report = report.append({\n",
      "C:\\Users\\angel\\Desktop\\Università\\DataMiningFinale\\LavorettiFinali\\creation_functions\\utilities.py:113: FutureWarning: The frame.append method is deprecated and will be removed from pandas in a future version. Use pandas.concat instead.\n",
      "  report = report.append({\n",
      "C:\\Users\\angel\\Desktop\\Università\\DataMiningFinale\\LavorettiFinali\\creation_functions\\utilities.py:113: FutureWarning: The frame.append method is deprecated and will be removed from pandas in a future version. Use pandas.concat instead.\n",
      "  report = report.append({\n",
      "C:\\Users\\angel\\Desktop\\Università\\DataMiningFinale\\LavorettiFinali\\creation_functions\\utilities.py:113: FutureWarning: The frame.append method is deprecated and will be removed from pandas in a future version. Use pandas.concat instead.\n",
      "  report = report.append({\n",
      "C:\\Users\\angel\\Desktop\\Università\\DataMiningFinale\\LavorettiFinali\\creation_functions\\utilities.py:113: FutureWarning: The frame.append method is deprecated and will be removed from pandas in a future version. Use pandas.concat instead.\n",
      "  report = report.append({\n",
      "C:\\Users\\angel\\Desktop\\Università\\DataMiningFinale\\LavorettiFinali\\creation_functions\\utilities.py:113: FutureWarning: The frame.append method is deprecated and will be removed from pandas in a future version. Use pandas.concat instead.\n",
      "  report = report.append({\n",
      "C:\\Users\\angel\\Desktop\\Università\\DataMiningFinale\\LavorettiFinali\\creation_functions\\utilities.py:113: FutureWarning: The frame.append method is deprecated and will be removed from pandas in a future version. Use pandas.concat instead.\n",
      "  report = report.append({\n",
      "C:\\Users\\angel\\Desktop\\Università\\DataMiningFinale\\LavorettiFinali\\creation_functions\\utilities.py:113: FutureWarning: The frame.append method is deprecated and will be removed from pandas in a future version. Use pandas.concat instead.\n",
      "  report = report.append({\n",
      "C:\\Users\\angel\\Desktop\\Università\\DataMiningFinale\\LavorettiFinali\\creation_functions\\utilities.py:113: FutureWarning: The frame.append method is deprecated and will be removed from pandas in a future version. Use pandas.concat instead.\n",
      "  report = report.append({\n",
      "C:\\Users\\angel\\Desktop\\Università\\DataMiningFinale\\LavorettiFinali\\creation_functions\\utilities.py:113: FutureWarning: The frame.append method is deprecated and will be removed from pandas in a future version. Use pandas.concat instead.\n",
      "  report = report.append({\n",
      "C:\\Users\\angel\\Desktop\\Università\\DataMiningFinale\\LavorettiFinali\\creation_functions\\utilities.py:113: FutureWarning: The frame.append method is deprecated and will be removed from pandas in a future version. Use pandas.concat instead.\n",
      "  report = report.append({\n",
      "C:\\Users\\angel\\Desktop\\Università\\DataMiningFinale\\LavorettiFinali\\creation_functions\\utilities.py:113: FutureWarning: The frame.append method is deprecated and will be removed from pandas in a future version. Use pandas.concat instead.\n",
      "  report = report.append({\n",
      "C:\\Users\\angel\\Desktop\\Università\\DataMiningFinale\\LavorettiFinali\\creation_functions\\utilities.py:113: FutureWarning: The frame.append method is deprecated and will be removed from pandas in a future version. Use pandas.concat instead.\n",
      "  report = report.append({\n",
      "C:\\Users\\angel\\Desktop\\Università\\DataMiningFinale\\LavorettiFinali\\creation_functions\\utilities.py:113: FutureWarning: The frame.append method is deprecated and will be removed from pandas in a future version. Use pandas.concat instead.\n",
      "  report = report.append({\n",
      "C:\\Users\\angel\\Desktop\\Università\\DataMiningFinale\\LavorettiFinali\\creation_functions\\utilities.py:113: FutureWarning: The frame.append method is deprecated and will be removed from pandas in a future version. Use pandas.concat instead.\n",
      "  report = report.append({\n",
      "C:\\Users\\angel\\Desktop\\Università\\DataMiningFinale\\LavorettiFinali\\creation_functions\\utilities.py:113: FutureWarning: The frame.append method is deprecated and will be removed from pandas in a future version. Use pandas.concat instead.\n",
      "  report = report.append({\n",
      "C:\\Users\\angel\\Desktop\\Università\\DataMiningFinale\\LavorettiFinali\\creation_functions\\utilities.py:113: FutureWarning: The frame.append method is deprecated and will be removed from pandas in a future version. Use pandas.concat instead.\n",
      "  report = report.append({\n",
      "C:\\Users\\angel\\Desktop\\Università\\DataMiningFinale\\LavorettiFinali\\creation_functions\\utilities.py:113: FutureWarning: The frame.append method is deprecated and will be removed from pandas in a future version. Use pandas.concat instead.\n",
      "  report = report.append({\n",
      "C:\\Users\\angel\\Desktop\\Università\\DataMiningFinale\\LavorettiFinali\\creation_functions\\utilities.py:113: FutureWarning: The frame.append method is deprecated and will be removed from pandas in a future version. Use pandas.concat instead.\n",
      "  report = report.append({\n",
      "C:\\Users\\angel\\Desktop\\Università\\DataMiningFinale\\LavorettiFinali\\creation_functions\\utilities.py:113: FutureWarning: The frame.append method is deprecated and will be removed from pandas in a future version. Use pandas.concat instead.\n",
      "  report = report.append({\n"
     ]
    }
   ],
   "source": [
    "ranfor_report = make_report(permutation, true_labels_ranfor, predicted_labels_ranfor)"
   ],
   "metadata": {
    "collapsed": false
   }
  },
  {
   "cell_type": "code",
   "execution_count": 23,
   "outputs": [
    {
     "data": {
      "text/plain": "    accuracy  precision    recall  f1_score  without_who\n0   0.810667   0.920683  0.810667  0.825343         10.0\n1   0.925000   0.942906  0.925000  0.925381         13.0\n2   0.860092   0.924944  0.860092  0.866585         21.0\n3   0.946429   0.958693  0.946429  0.946703          1.0\n4   0.977077   0.977120  0.977077  0.977020         22.0\n5   0.891139   0.913804  0.891139  0.883809          3.0\n6   0.959036   0.964772  0.959036  0.960222         16.0\n7   0.890339   0.924156  0.890339  0.883565          8.0\n8   0.892045   0.892937  0.892045  0.882163          4.0\n9   0.859327   0.885709  0.859327  0.858234          5.0\n10  0.930636   0.947631  0.930636  0.931582         20.0\n11  0.972892   0.974078  0.972892  0.971907         12.0\n12  0.979747   0.980034  0.979747  0.979767          2.0\n13  0.973118   0.973014  0.973118  0.972998         15.0\n14  0.911917   0.939877  0.911917  0.911017          7.0\n15  0.952113   0.954883  0.952113  0.950901         14.0\n16  0.794311   0.924698  0.794311  0.804579         19.0\n17  0.980609   0.981647  0.980609  0.980742          6.0\n18  0.958991   0.962761  0.958991  0.957790         24.0\n19  0.991935   0.991980  0.991935  0.991931         11.0\n20  0.988473   0.988449  0.988473  0.988357         17.0\n21  0.675063   0.817594  0.675063  0.654460         18.0\n22  0.842105   0.912784  0.842105  0.839706         23.0\n23  0.913649   0.912684  0.913649  0.913148          9.0",
      "text/html": "<div>\n<style scoped>\n    .dataframe tbody tr th:only-of-type {\n        vertical-align: middle;\n    }\n\n    .dataframe tbody tr th {\n        vertical-align: top;\n    }\n\n    .dataframe thead th {\n        text-align: right;\n    }\n</style>\n<table border=\"1\" class=\"dataframe\">\n  <thead>\n    <tr style=\"text-align: right;\">\n      <th></th>\n      <th>accuracy</th>\n      <th>precision</th>\n      <th>recall</th>\n      <th>f1_score</th>\n      <th>without_who</th>\n    </tr>\n  </thead>\n  <tbody>\n    <tr>\n      <th>0</th>\n      <td>0.810667</td>\n      <td>0.920683</td>\n      <td>0.810667</td>\n      <td>0.825343</td>\n      <td>10.0</td>\n    </tr>\n    <tr>\n      <th>1</th>\n      <td>0.925000</td>\n      <td>0.942906</td>\n      <td>0.925000</td>\n      <td>0.925381</td>\n      <td>13.0</td>\n    </tr>\n    <tr>\n      <th>2</th>\n      <td>0.860092</td>\n      <td>0.924944</td>\n      <td>0.860092</td>\n      <td>0.866585</td>\n      <td>21.0</td>\n    </tr>\n    <tr>\n      <th>3</th>\n      <td>0.946429</td>\n      <td>0.958693</td>\n      <td>0.946429</td>\n      <td>0.946703</td>\n      <td>1.0</td>\n    </tr>\n    <tr>\n      <th>4</th>\n      <td>0.977077</td>\n      <td>0.977120</td>\n      <td>0.977077</td>\n      <td>0.977020</td>\n      <td>22.0</td>\n    </tr>\n    <tr>\n      <th>5</th>\n      <td>0.891139</td>\n      <td>0.913804</td>\n      <td>0.891139</td>\n      <td>0.883809</td>\n      <td>3.0</td>\n    </tr>\n    <tr>\n      <th>6</th>\n      <td>0.959036</td>\n      <td>0.964772</td>\n      <td>0.959036</td>\n      <td>0.960222</td>\n      <td>16.0</td>\n    </tr>\n    <tr>\n      <th>7</th>\n      <td>0.890339</td>\n      <td>0.924156</td>\n      <td>0.890339</td>\n      <td>0.883565</td>\n      <td>8.0</td>\n    </tr>\n    <tr>\n      <th>8</th>\n      <td>0.892045</td>\n      <td>0.892937</td>\n      <td>0.892045</td>\n      <td>0.882163</td>\n      <td>4.0</td>\n    </tr>\n    <tr>\n      <th>9</th>\n      <td>0.859327</td>\n      <td>0.885709</td>\n      <td>0.859327</td>\n      <td>0.858234</td>\n      <td>5.0</td>\n    </tr>\n    <tr>\n      <th>10</th>\n      <td>0.930636</td>\n      <td>0.947631</td>\n      <td>0.930636</td>\n      <td>0.931582</td>\n      <td>20.0</td>\n    </tr>\n    <tr>\n      <th>11</th>\n      <td>0.972892</td>\n      <td>0.974078</td>\n      <td>0.972892</td>\n      <td>0.971907</td>\n      <td>12.0</td>\n    </tr>\n    <tr>\n      <th>12</th>\n      <td>0.979747</td>\n      <td>0.980034</td>\n      <td>0.979747</td>\n      <td>0.979767</td>\n      <td>2.0</td>\n    </tr>\n    <tr>\n      <th>13</th>\n      <td>0.973118</td>\n      <td>0.973014</td>\n      <td>0.973118</td>\n      <td>0.972998</td>\n      <td>15.0</td>\n    </tr>\n    <tr>\n      <th>14</th>\n      <td>0.911917</td>\n      <td>0.939877</td>\n      <td>0.911917</td>\n      <td>0.911017</td>\n      <td>7.0</td>\n    </tr>\n    <tr>\n      <th>15</th>\n      <td>0.952113</td>\n      <td>0.954883</td>\n      <td>0.952113</td>\n      <td>0.950901</td>\n      <td>14.0</td>\n    </tr>\n    <tr>\n      <th>16</th>\n      <td>0.794311</td>\n      <td>0.924698</td>\n      <td>0.794311</td>\n      <td>0.804579</td>\n      <td>19.0</td>\n    </tr>\n    <tr>\n      <th>17</th>\n      <td>0.980609</td>\n      <td>0.981647</td>\n      <td>0.980609</td>\n      <td>0.980742</td>\n      <td>6.0</td>\n    </tr>\n    <tr>\n      <th>18</th>\n      <td>0.958991</td>\n      <td>0.962761</td>\n      <td>0.958991</td>\n      <td>0.957790</td>\n      <td>24.0</td>\n    </tr>\n    <tr>\n      <th>19</th>\n      <td>0.991935</td>\n      <td>0.991980</td>\n      <td>0.991935</td>\n      <td>0.991931</td>\n      <td>11.0</td>\n    </tr>\n    <tr>\n      <th>20</th>\n      <td>0.988473</td>\n      <td>0.988449</td>\n      <td>0.988473</td>\n      <td>0.988357</td>\n      <td>17.0</td>\n    </tr>\n    <tr>\n      <th>21</th>\n      <td>0.675063</td>\n      <td>0.817594</td>\n      <td>0.675063</td>\n      <td>0.654460</td>\n      <td>18.0</td>\n    </tr>\n    <tr>\n      <th>22</th>\n      <td>0.842105</td>\n      <td>0.912784</td>\n      <td>0.842105</td>\n      <td>0.839706</td>\n      <td>23.0</td>\n    </tr>\n    <tr>\n      <th>23</th>\n      <td>0.913649</td>\n      <td>0.912684</td>\n      <td>0.913649</td>\n      <td>0.913148</td>\n      <td>9.0</td>\n    </tr>\n  </tbody>\n</table>\n</div>"
     },
     "execution_count": 23,
     "metadata": {},
     "output_type": "execute_result"
    }
   ],
   "source": [
    "ranfor_report"
   ],
   "metadata": {
    "collapsed": false
   }
  },
  {
   "cell_type": "markdown",
   "source": [
    "Let's compare this first results"
   ],
   "metadata": {
    "collapsed": false
   }
  },
  {
   "cell_type": "code",
   "execution_count": 2,
   "outputs": [],
   "source": [
    "import numpy as np\n",
    "import matplotlib.pyplot as plt\n",
    "import seaborn as sns"
   ],
   "metadata": {
    "collapsed": false
   }
  },
  {
   "cell_type": "code",
   "execution_count": 25,
   "outputs": [
    {
     "name": "stdout",
     "output_type": "stream",
     "text": [
      "0.8646275322747227 0.9286175289005913 0.9082060472740539 0.6998955239862995 0.852851766674947 0.9115295902047666\n"
     ]
    }
   ],
   "source": [
    "print(\n",
    "    report_knn[\"accuracy\"].mean(),\n",
    "    svc_report[\"accuracy\"].mean(),\n",
    "    logreg_report[\"accuracy\"].mean(),\n",
    "    nb_report[\"accuracy\"].mean(),\n",
    "    tree_report[\"accuracy\"].mean(),\n",
    "    ranfor_report[\"accuracy\"].mean(),\n",
    ")"
   ],
   "metadata": {
    "collapsed": false
   }
  },
  {
   "cell_type": "code",
   "execution_count": 26,
   "outputs": [
    {
     "data": {
      "text/plain": "<AxesSubplot: title={'center': 'Random Forest'}>"
     },
     "execution_count": 26,
     "metadata": {},
     "output_type": "execute_result"
    },
    {
     "data": {
      "text/plain": "<Figure size 640x480 with 6 Axes>",
      "image/png": "[encoded data removed]"
     },
     "metadata": {},
     "output_type": "display_data"
    }
   ],
   "source": [
    "fig, ax = plt.subplots(2, 3, sharex=True, sharey=True)\n",
    "ax[0][0].set_title(\"KNN\")\n",
    "ax[0][0].axhline(y = 0.93, color = 'r', linestyle = 'dashed')\n",
    "sns.barplot(x=[\"acc\", \"prec\", \"rec\", \"f1\"], y= [report_knn[\"accuracy\"].mean(),\n",
    "                                                                  report_knn[\"precision\"].mean(),\n",
    "                                                                  report_knn[\"recall\"].mean(),\n",
    "                                                                  report_knn[\"f1_score\"].mean()],\n",
    "            ax=ax[0][0])\n",
    "ax[0][1].set_title(\"SVC\")\n",
    "ax[0][1 ].axhline(y = 0.93, color = 'r', linestyle = 'dashed')\n",
    "sns.barplot(x=[\"acc\", \"prec\", \"rec\", \"f1\"], y= [svc_report[\"accuracy\"].mean(),\n",
    "                                                svc_report[\"precision\"].mean(),\n",
    "                                                svc_report[\"recall\"].mean(),\n",
    "                                                svc_report[\"f1_score\"].mean()],\n",
    "            ax=ax[0][1])\n",
    "\n",
    "ax[0][2].set_title(\"LogisticRegression\")\n",
    "ax[0][2].axhline(y = 0.93, color = 'r', linestyle = 'dashed')\n",
    "sns.barplot(x=[\"acc\", \"prec\", \"rec\", \"f1\"], y= [logreg_report[\"accuracy\"].mean(),\n",
    "                                                logreg_report[\"precision\"].mean(),\n",
    "                                                logreg_report[\"recall\"].mean(),\n",
    "                                                logreg_report[\"f1_score\"].mean()],\n",
    "            ax=ax[0][2])\n",
    "\n",
    "ax[1][0].set_title(\"GaussianNB\")\n",
    "ax[1][0].axhline(y = 0.93, color = 'r', linestyle = 'dashed')\n",
    "sns.barplot(x=[\"acc\", \"prec\", \"rec\", \"f1\"], y= [nb_report[\"accuracy\"].mean(),\n",
    "                                                nb_report[\"precision\"].mean(),\n",
    "                                                nb_report[\"recall\"].mean(),\n",
    "                                                nb_report[\"f1_score\"].mean()],\n",
    "            ax=ax[1][0])\n",
    "\n",
    "ax[1][1].set_title(\"Decision Tree\")\n",
    "ax[1][1].axhline(y = 0.93, color = 'r', linestyle = 'dashed')\n",
    "sns.barplot(x=[\"acc\", \"prec\", \"rec\", \"f1\"], y= [tree_report[\"accuracy\"].mean(),\n",
    "                                                tree_report[\"precision\"].mean(),\n",
    "                                                tree_report[\"recall\"].mean(),\n",
    "                                                tree_report[\"f1_score\"].mean()],\n",
    "            ax=ax[1][1])\n",
    "\n",
    "ax[1][2].set_title(\"Random Forest\")\n",
    "ax[1][2].axhline(y = 0.93, color = 'r', linestyle = 'dashed')\n",
    "sns.barplot(x=[\"acc\", \"prec\", \"rec\", \"f1\"], y= [ranfor_report[\"accuracy\"].mean(),\n",
    "                                                ranfor_report[\"precision\"].mean(),\n",
    "                                                ranfor_report[\"recall\"].mean(),\n",
    "                                                ranfor_report[\"f1_score\"].mean()],\n",
    "            ax=ax[1][2])"
   ],
   "metadata": {
    "collapsed": false
   }
  },
  {
   "cell_type": "markdown",
   "source": [
    "As we can see, SVC and RandomForest seems to have better results than others."
   ],
   "metadata": {
    "collapsed": false
   }
  },
  {
   "cell_type": "markdown",
   "source": [
    "#### Step 2: Tuning Parameters\n",
    "- SVC : C varying between 1 and 100\n",
    "- RandomForest : Estimators between 80 and 120"
   ],
   "metadata": {
    "collapsed": false
   }
  },
  {
   "cell_type": "code",
   "execution_count": 11,
   "outputs": [
    {
     "name": "stderr",
     "output_type": "stream",
     "text": [
      "C:\\Users\\angel\\Desktop\\Università\\DataMiningFinale\\LavorettiFinali\\creation_functions\\utilities.py:115: FutureWarning: The frame.append method is deprecated and will be removed from pandas in a future version. Use pandas.concat instead.\n",
      "  report = report.append({\n",
      "C:\\Users\\angel\\Desktop\\Università\\DataMiningFinale\\LavorettiFinali\\creation_functions\\utilities.py:115: FutureWarning: The frame.append method is deprecated and will be removed from pandas in a future version. Use pandas.concat instead.\n",
      "  report = report.append({\n",
      "C:\\Users\\angel\\Desktop\\Università\\DataMiningFinale\\LavorettiFinali\\creation_functions\\utilities.py:115: FutureWarning: The frame.append method is deprecated and will be removed from pandas in a future version. Use pandas.concat instead.\n",
      "  report = report.append({\n",
      "C:\\Users\\angel\\Desktop\\Università\\DataMiningFinale\\LavorettiFinali\\creation_functions\\utilities.py:115: FutureWarning: The frame.append method is deprecated and will be removed from pandas in a future version. Use pandas.concat instead.\n",
      "  report = report.append({\n",
      "C:\\Users\\angel\\Desktop\\Università\\DataMiningFinale\\LavorettiFinali\\creation_functions\\utilities.py:115: FutureWarning: The frame.append method is deprecated and will be removed from pandas in a future version. Use pandas.concat instead.\n",
      "  report = report.append({\n",
      "C:\\Users\\angel\\Desktop\\Università\\DataMiningFinale\\LavorettiFinali\\creation_functions\\utilities.py:115: FutureWarning: The frame.append method is deprecated and will be removed from pandas in a future version. Use pandas.concat instead.\n",
      "  report = report.append({\n",
      "C:\\Users\\angel\\Desktop\\Università\\DataMiningFinale\\LavorettiFinali\\creation_functions\\utilities.py:115: FutureWarning: The frame.append method is deprecated and will be removed from pandas in a future version. Use pandas.concat instead.\n",
      "  report = report.append({\n",
      "C:\\Users\\angel\\Desktop\\Università\\DataMiningFinale\\LavorettiFinali\\creation_functions\\utilities.py:115: FutureWarning: The frame.append method is deprecated and will be removed from pandas in a future version. Use pandas.concat instead.\n",
      "  report = report.append({\n",
      "C:\\Users\\angel\\Desktop\\Università\\DataMiningFinale\\LavorettiFinali\\creation_functions\\utilities.py:115: FutureWarning: The frame.append method is deprecated and will be removed from pandas in a future version. Use pandas.concat instead.\n",
      "  report = report.append({\n",
      "C:\\Users\\angel\\Desktop\\Università\\DataMiningFinale\\LavorettiFinali\\creation_functions\\utilities.py:115: FutureWarning: The frame.append method is deprecated and will be removed from pandas in a future version. Use pandas.concat instead.\n",
      "  report = report.append({\n",
      "C:\\Users\\angel\\Desktop\\Università\\DataMiningFinale\\LavorettiFinali\\creation_functions\\utilities.py:115: FutureWarning: The frame.append method is deprecated and will be removed from pandas in a future version. Use pandas.concat instead.\n",
      "  report = report.append({\n",
      "C:\\Users\\angel\\Desktop\\Università\\DataMiningFinale\\LavorettiFinali\\creation_functions\\utilities.py:115: FutureWarning: The frame.append method is deprecated and will be removed from pandas in a future version. Use pandas.concat instead.\n",
      "  report = report.append({\n",
      "C:\\Users\\angel\\Desktop\\Università\\DataMiningFinale\\LavorettiFinali\\creation_functions\\utilities.py:115: FutureWarning: The frame.append method is deprecated and will be removed from pandas in a future version. Use pandas.concat instead.\n",
      "  report = report.append({\n",
      "C:\\Users\\angel\\Desktop\\Università\\DataMiningFinale\\LavorettiFinali\\creation_functions\\utilities.py:115: FutureWarning: The frame.append method is deprecated and will be removed from pandas in a future version. Use pandas.concat instead.\n",
      "  report = report.append({\n",
      "C:\\Users\\angel\\Desktop\\Università\\DataMiningFinale\\LavorettiFinali\\creation_functions\\utilities.py:115: FutureWarning: The frame.append method is deprecated and will be removed from pandas in a future version. Use pandas.concat instead.\n",
      "  report = report.append({\n",
      "C:\\Users\\angel\\Desktop\\Università\\DataMiningFinale\\LavorettiFinali\\creation_functions\\utilities.py:115: FutureWarning: The frame.append method is deprecated and will be removed from pandas in a future version. Use pandas.concat instead.\n",
      "  report = report.append({\n",
      "C:\\Users\\angel\\Desktop\\Università\\DataMiningFinale\\LavorettiFinali\\creation_functions\\utilities.py:115: FutureWarning: The frame.append method is deprecated and will be removed from pandas in a future version. Use pandas.concat instead.\n",
      "  report = report.append({\n",
      "C:\\Users\\angel\\Desktop\\Università\\DataMiningFinale\\LavorettiFinali\\creation_functions\\utilities.py:115: FutureWarning: The frame.append method is deprecated and will be removed from pandas in a future version. Use pandas.concat instead.\n",
      "  report = report.append({\n",
      "C:\\Users\\angel\\Desktop\\Università\\DataMiningFinale\\LavorettiFinali\\creation_functions\\utilities.py:115: FutureWarning: The frame.append method is deprecated and will be removed from pandas in a future version. Use pandas.concat instead.\n",
      "  report = report.append({\n",
      "C:\\Users\\angel\\Desktop\\Università\\DataMiningFinale\\LavorettiFinali\\creation_functions\\utilities.py:115: FutureWarning: The frame.append method is deprecated and will be removed from pandas in a future version. Use pandas.concat instead.\n",
      "  report = report.append({\n",
      "C:\\Users\\angel\\Desktop\\Università\\DataMiningFinale\\LavorettiFinali\\creation_functions\\utilities.py:115: FutureWarning: The frame.append method is deprecated and will be removed from pandas in a future version. Use pandas.concat instead.\n",
      "  report = report.append({\n",
      "C:\\Users\\angel\\Desktop\\Università\\DataMiningFinale\\LavorettiFinali\\creation_functions\\utilities.py:115: FutureWarning: The frame.append method is deprecated and will be removed from pandas in a future version. Use pandas.concat instead.\n",
      "  report = report.append({\n",
      "C:\\Users\\angel\\Desktop\\Università\\DataMiningFinale\\LavorettiFinali\\creation_functions\\utilities.py:115: FutureWarning: The frame.append method is deprecated and will be removed from pandas in a future version. Use pandas.concat instead.\n",
      "  report = report.append({\n",
      "C:\\Users\\angel\\Desktop\\Università\\DataMiningFinale\\LavorettiFinali\\creation_functions\\utilities.py:115: FutureWarning: The frame.append method is deprecated and will be removed from pandas in a future version. Use pandas.concat instead.\n",
      "  report = report.append({\n",
      "C:\\Users\\angel\\Desktop\\Università\\DataMiningFinale\\LavorettiFinali\\creation_functions\\utilities.py:115: FutureWarning: The frame.append method is deprecated and will be removed from pandas in a future version. Use pandas.concat instead.\n",
      "  report = report.append({\n",
      "C:\\Users\\angel\\Desktop\\Università\\DataMiningFinale\\LavorettiFinali\\creation_functions\\utilities.py:115: FutureWarning: The frame.append method is deprecated and will be removed from pandas in a future version. Use pandas.concat instead.\n",
      "  report = report.append({\n",
      "C:\\Users\\angel\\Desktop\\Università\\DataMiningFinale\\LavorettiFinali\\creation_functions\\utilities.py:115: FutureWarning: The frame.append method is deprecated and will be removed from pandas in a future version. Use pandas.concat instead.\n",
      "  report = report.append({\n",
      "C:\\Users\\angel\\Desktop\\Università\\DataMiningFinale\\LavorettiFinali\\creation_functions\\utilities.py:115: FutureWarning: The frame.append method is deprecated and will be removed from pandas in a future version. Use pandas.concat instead.\n",
      "  report = report.append({\n",
      "C:\\Users\\angel\\Desktop\\Università\\DataMiningFinale\\LavorettiFinali\\creation_functions\\utilities.py:115: FutureWarning: The frame.append method is deprecated and will be removed from pandas in a future version. Use pandas.concat instead.\n",
      "  report = report.append({\n",
      "C:\\Users\\angel\\Desktop\\Università\\DataMiningFinale\\LavorettiFinali\\creation_functions\\utilities.py:115: FutureWarning: The frame.append method is deprecated and will be removed from pandas in a future version. Use pandas.concat instead.\n",
      "  report = report.append({\n",
      "C:\\Users\\angel\\Desktop\\Università\\DataMiningFinale\\LavorettiFinali\\creation_functions\\utilities.py:115: FutureWarning: The frame.append method is deprecated and will be removed from pandas in a future version. Use pandas.concat instead.\n",
      "  report = report.append({\n",
      "C:\\Users\\angel\\Desktop\\Università\\DataMiningFinale\\LavorettiFinali\\creation_functions\\utilities.py:115: FutureWarning: The frame.append method is deprecated and will be removed from pandas in a future version. Use pandas.concat instead.\n",
      "  report = report.append({\n",
      "C:\\Users\\angel\\Desktop\\Università\\DataMiningFinale\\LavorettiFinali\\creation_functions\\utilities.py:115: FutureWarning: The frame.append method is deprecated and will be removed from pandas in a future version. Use pandas.concat instead.\n",
      "  report = report.append({\n",
      "C:\\Users\\angel\\Desktop\\Università\\DataMiningFinale\\LavorettiFinali\\creation_functions\\utilities.py:115: FutureWarning: The frame.append method is deprecated and will be removed from pandas in a future version. Use pandas.concat instead.\n",
      "  report = report.append({\n",
      "C:\\Users\\angel\\Desktop\\Università\\DataMiningFinale\\LavorettiFinali\\creation_functions\\utilities.py:115: FutureWarning: The frame.append method is deprecated and will be removed from pandas in a future version. Use pandas.concat instead.\n",
      "  report = report.append({\n",
      "C:\\Users\\angel\\Desktop\\Università\\DataMiningFinale\\LavorettiFinali\\creation_functions\\utilities.py:115: FutureWarning: The frame.append method is deprecated and will be removed from pandas in a future version. Use pandas.concat instead.\n",
      "  report = report.append({\n",
      "C:\\Users\\angel\\Desktop\\Università\\DataMiningFinale\\LavorettiFinali\\creation_functions\\utilities.py:115: FutureWarning: The frame.append method is deprecated and will be removed from pandas in a future version. Use pandas.concat instead.\n",
      "  report = report.append({\n",
      "C:\\Users\\angel\\Desktop\\Università\\DataMiningFinale\\LavorettiFinali\\creation_functions\\utilities.py:115: FutureWarning: The frame.append method is deprecated and will be removed from pandas in a future version. Use pandas.concat instead.\n",
      "  report = report.append({\n",
      "C:\\Users\\angel\\Desktop\\Università\\DataMiningFinale\\LavorettiFinali\\creation_functions\\utilities.py:115: FutureWarning: The frame.append method is deprecated and will be removed from pandas in a future version. Use pandas.concat instead.\n",
      "  report = report.append({\n",
      "C:\\Users\\angel\\Desktop\\Università\\DataMiningFinale\\LavorettiFinali\\creation_functions\\utilities.py:115: FutureWarning: The frame.append method is deprecated and will be removed from pandas in a future version. Use pandas.concat instead.\n",
      "  report = report.append({\n",
      "C:\\Users\\angel\\Desktop\\Università\\DataMiningFinale\\LavorettiFinali\\creation_functions\\utilities.py:115: FutureWarning: The frame.append method is deprecated and will be removed from pandas in a future version. Use pandas.concat instead.\n",
      "  report = report.append({\n",
      "C:\\Users\\angel\\Desktop\\Università\\DataMiningFinale\\LavorettiFinali\\creation_functions\\utilities.py:115: FutureWarning: The frame.append method is deprecated and will be removed from pandas in a future version. Use pandas.concat instead.\n",
      "  report = report.append({\n",
      "C:\\Users\\angel\\Desktop\\Università\\DataMiningFinale\\LavorettiFinali\\creation_functions\\utilities.py:115: FutureWarning: The frame.append method is deprecated and will be removed from pandas in a future version. Use pandas.concat instead.\n",
      "  report = report.append({\n",
      "C:\\Users\\angel\\Desktop\\Università\\DataMiningFinale\\LavorettiFinali\\creation_functions\\utilities.py:115: FutureWarning: The frame.append method is deprecated and will be removed from pandas in a future version. Use pandas.concat instead.\n",
      "  report = report.append({\n",
      "C:\\Users\\angel\\Desktop\\Università\\DataMiningFinale\\LavorettiFinali\\creation_functions\\utilities.py:115: FutureWarning: The frame.append method is deprecated and will be removed from pandas in a future version. Use pandas.concat instead.\n",
      "  report = report.append({\n",
      "C:\\Users\\angel\\Desktop\\Università\\DataMiningFinale\\LavorettiFinali\\creation_functions\\utilities.py:115: FutureWarning: The frame.append method is deprecated and will be removed from pandas in a future version. Use pandas.concat instead.\n",
      "  report = report.append({\n",
      "C:\\Users\\angel\\Desktop\\Università\\DataMiningFinale\\LavorettiFinali\\creation_functions\\utilities.py:115: FutureWarning: The frame.append method is deprecated and will be removed from pandas in a future version. Use pandas.concat instead.\n",
      "  report = report.append({\n",
      "C:\\Users\\angel\\Desktop\\Università\\DataMiningFinale\\LavorettiFinali\\creation_functions\\utilities.py:115: FutureWarning: The frame.append method is deprecated and will be removed from pandas in a future version. Use pandas.concat instead.\n",
      "  report = report.append({\n",
      "C:\\Users\\angel\\Desktop\\Università\\DataMiningFinale\\LavorettiFinali\\creation_functions\\utilities.py:115: FutureWarning: The frame.append method is deprecated and will be removed from pandas in a future version. Use pandas.concat instead.\n",
      "  report = report.append({\n",
      "C:\\Users\\angel\\Desktop\\Università\\DataMiningFinale\\LavorettiFinali\\creation_functions\\utilities.py:115: FutureWarning: The frame.append method is deprecated and will be removed from pandas in a future version. Use pandas.concat instead.\n",
      "  report = report.append({\n",
      "C:\\Users\\angel\\Desktop\\Università\\DataMiningFinale\\LavorettiFinali\\creation_functions\\utilities.py:115: FutureWarning: The frame.append method is deprecated and will be removed from pandas in a future version. Use pandas.concat instead.\n",
      "  report = report.append({\n",
      "C:\\Users\\angel\\Desktop\\Università\\DataMiningFinale\\LavorettiFinali\\creation_functions\\utilities.py:115: FutureWarning: The frame.append method is deprecated and will be removed from pandas in a future version. Use pandas.concat instead.\n",
      "  report = report.append({\n",
      "C:\\Users\\angel\\Desktop\\Università\\DataMiningFinale\\LavorettiFinali\\creation_functions\\utilities.py:115: FutureWarning: The frame.append method is deprecated and will be removed from pandas in a future version. Use pandas.concat instead.\n",
      "  report = report.append({\n",
      "C:\\Users\\angel\\Desktop\\Università\\DataMiningFinale\\LavorettiFinali\\creation_functions\\utilities.py:115: FutureWarning: The frame.append method is deprecated and will be removed from pandas in a future version. Use pandas.concat instead.\n",
      "  report = report.append({\n",
      "C:\\Users\\angel\\Desktop\\Università\\DataMiningFinale\\LavorettiFinali\\creation_functions\\utilities.py:115: FutureWarning: The frame.append method is deprecated and will be removed from pandas in a future version. Use pandas.concat instead.\n",
      "  report = report.append({\n",
      "C:\\Users\\angel\\Desktop\\Università\\DataMiningFinale\\LavorettiFinali\\creation_functions\\utilities.py:115: FutureWarning: The frame.append method is deprecated and will be removed from pandas in a future version. Use pandas.concat instead.\n",
      "  report = report.append({\n",
      "C:\\Users\\angel\\Desktop\\Università\\DataMiningFinale\\LavorettiFinali\\creation_functions\\utilities.py:115: FutureWarning: The frame.append method is deprecated and will be removed from pandas in a future version. Use pandas.concat instead.\n",
      "  report = report.append({\n",
      "C:\\Users\\angel\\Desktop\\Università\\DataMiningFinale\\LavorettiFinali\\creation_functions\\utilities.py:115: FutureWarning: The frame.append method is deprecated and will be removed from pandas in a future version. Use pandas.concat instead.\n",
      "  report = report.append({\n",
      "C:\\Users\\angel\\Desktop\\Università\\DataMiningFinale\\LavorettiFinali\\creation_functions\\utilities.py:115: FutureWarning: The frame.append method is deprecated and will be removed from pandas in a future version. Use pandas.concat instead.\n",
      "  report = report.append({\n",
      "C:\\Users\\angel\\Desktop\\Università\\DataMiningFinale\\LavorettiFinali\\creation_functions\\utilities.py:115: FutureWarning: The frame.append method is deprecated and will be removed from pandas in a future version. Use pandas.concat instead.\n",
      "  report = report.append({\n",
      "C:\\Users\\angel\\Desktop\\Università\\DataMiningFinale\\LavorettiFinali\\creation_functions\\utilities.py:115: FutureWarning: The frame.append method is deprecated and will be removed from pandas in a future version. Use pandas.concat instead.\n",
      "  report = report.append({\n",
      "C:\\Users\\angel\\Desktop\\Università\\DataMiningFinale\\LavorettiFinali\\creation_functions\\utilities.py:115: FutureWarning: The frame.append method is deprecated and will be removed from pandas in a future version. Use pandas.concat instead.\n",
      "  report = report.append({\n",
      "C:\\Users\\angel\\Desktop\\Università\\DataMiningFinale\\LavorettiFinali\\creation_functions\\utilities.py:115: FutureWarning: The frame.append method is deprecated and will be removed from pandas in a future version. Use pandas.concat instead.\n",
      "  report = report.append({\n",
      "C:\\Users\\angel\\Desktop\\Università\\DataMiningFinale\\LavorettiFinali\\creation_functions\\utilities.py:115: FutureWarning: The frame.append method is deprecated and will be removed from pandas in a future version. Use pandas.concat instead.\n",
      "  report = report.append({\n",
      "C:\\Users\\angel\\Desktop\\Università\\DataMiningFinale\\LavorettiFinali\\creation_functions\\utilities.py:115: FutureWarning: The frame.append method is deprecated and will be removed from pandas in a future version. Use pandas.concat instead.\n",
      "  report = report.append({\n",
      "C:\\Users\\angel\\Desktop\\Università\\DataMiningFinale\\LavorettiFinali\\creation_functions\\utilities.py:115: FutureWarning: The frame.append method is deprecated and will be removed from pandas in a future version. Use pandas.concat instead.\n",
      "  report = report.append({\n",
      "C:\\Users\\angel\\Desktop\\Università\\DataMiningFinale\\LavorettiFinali\\creation_functions\\utilities.py:115: FutureWarning: The frame.append method is deprecated and will be removed from pandas in a future version. Use pandas.concat instead.\n",
      "  report = report.append({\n",
      "C:\\Users\\angel\\Desktop\\Università\\DataMiningFinale\\LavorettiFinali\\creation_functions\\utilities.py:115: FutureWarning: The frame.append method is deprecated and will be removed from pandas in a future version. Use pandas.concat instead.\n",
      "  report = report.append({\n",
      "C:\\Users\\angel\\Desktop\\Università\\DataMiningFinale\\LavorettiFinali\\creation_functions\\utilities.py:115: FutureWarning: The frame.append method is deprecated and will be removed from pandas in a future version. Use pandas.concat instead.\n",
      "  report = report.append({\n",
      "C:\\Users\\angel\\Desktop\\Università\\DataMiningFinale\\LavorettiFinali\\creation_functions\\utilities.py:115: FutureWarning: The frame.append method is deprecated and will be removed from pandas in a future version. Use pandas.concat instead.\n",
      "  report = report.append({\n",
      "C:\\Users\\angel\\Desktop\\Università\\DataMiningFinale\\LavorettiFinali\\creation_functions\\utilities.py:115: FutureWarning: The frame.append method is deprecated and will be removed from pandas in a future version. Use pandas.concat instead.\n",
      "  report = report.append({\n",
      "C:\\Users\\angel\\Desktop\\Università\\DataMiningFinale\\LavorettiFinali\\creation_functions\\utilities.py:115: FutureWarning: The frame.append method is deprecated and will be removed from pandas in a future version. Use pandas.concat instead.\n",
      "  report = report.append({\n",
      "C:\\Users\\angel\\Desktop\\Università\\DataMiningFinale\\LavorettiFinali\\creation_functions\\utilities.py:115: FutureWarning: The frame.append method is deprecated and will be removed from pandas in a future version. Use pandas.concat instead.\n",
      "  report = report.append({\n",
      "C:\\Users\\angel\\Desktop\\Università\\DataMiningFinale\\LavorettiFinali\\creation_functions\\utilities.py:115: FutureWarning: The frame.append method is deprecated and will be removed from pandas in a future version. Use pandas.concat instead.\n",
      "  report = report.append({\n",
      "C:\\Users\\angel\\Desktop\\Università\\DataMiningFinale\\LavorettiFinali\\creation_functions\\utilities.py:115: FutureWarning: The frame.append method is deprecated and will be removed from pandas in a future version. Use pandas.concat instead.\n",
      "  report = report.append({\n",
      "C:\\Users\\angel\\Desktop\\Università\\DataMiningFinale\\LavorettiFinali\\creation_functions\\utilities.py:115: FutureWarning: The frame.append method is deprecated and will be removed from pandas in a future version. Use pandas.concat instead.\n",
      "  report = report.append({\n",
      "C:\\Users\\angel\\Desktop\\Università\\DataMiningFinale\\LavorettiFinali\\creation_functions\\utilities.py:115: FutureWarning: The frame.append method is deprecated and will be removed from pandas in a future version. Use pandas.concat instead.\n",
      "  report = report.append({\n",
      "C:\\Users\\angel\\Desktop\\Università\\DataMiningFinale\\LavorettiFinali\\creation_functions\\utilities.py:115: FutureWarning: The frame.append method is deprecated and will be removed from pandas in a future version. Use pandas.concat instead.\n",
      "  report = report.append({\n",
      "C:\\Users\\angel\\Desktop\\Università\\DataMiningFinale\\LavorettiFinali\\creation_functions\\utilities.py:115: FutureWarning: The frame.append method is deprecated and will be removed from pandas in a future version. Use pandas.concat instead.\n",
      "  report = report.append({\n",
      "C:\\Users\\angel\\Desktop\\Università\\DataMiningFinale\\LavorettiFinali\\creation_functions\\utilities.py:115: FutureWarning: The frame.append method is deprecated and will be removed from pandas in a future version. Use pandas.concat instead.\n",
      "  report = report.append({\n",
      "C:\\Users\\angel\\Desktop\\Università\\DataMiningFinale\\LavorettiFinali\\creation_functions\\utilities.py:115: FutureWarning: The frame.append method is deprecated and will be removed from pandas in a future version. Use pandas.concat instead.\n",
      "  report = report.append({\n",
      "C:\\Users\\angel\\Desktop\\Università\\DataMiningFinale\\LavorettiFinali\\creation_functions\\utilities.py:115: FutureWarning: The frame.append method is deprecated and will be removed from pandas in a future version. Use pandas.concat instead.\n",
      "  report = report.append({\n",
      "C:\\Users\\angel\\Desktop\\Università\\DataMiningFinale\\LavorettiFinali\\creation_functions\\utilities.py:115: FutureWarning: The frame.append method is deprecated and will be removed from pandas in a future version. Use pandas.concat instead.\n",
      "  report = report.append({\n",
      "C:\\Users\\angel\\Desktop\\Università\\DataMiningFinale\\LavorettiFinali\\creation_functions\\utilities.py:115: FutureWarning: The frame.append method is deprecated and will be removed from pandas in a future version. Use pandas.concat instead.\n",
      "  report = report.append({\n",
      "C:\\Users\\angel\\Desktop\\Università\\DataMiningFinale\\LavorettiFinali\\creation_functions\\utilities.py:115: FutureWarning: The frame.append method is deprecated and will be removed from pandas in a future version. Use pandas.concat instead.\n",
      "  report = report.append({\n",
      "C:\\Users\\angel\\Desktop\\Università\\DataMiningFinale\\LavorettiFinali\\creation_functions\\utilities.py:115: FutureWarning: The frame.append method is deprecated and will be removed from pandas in a future version. Use pandas.concat instead.\n",
      "  report = report.append({\n",
      "C:\\Users\\angel\\Desktop\\Università\\DataMiningFinale\\LavorettiFinali\\creation_functions\\utilities.py:115: FutureWarning: The frame.append method is deprecated and will be removed from pandas in a future version. Use pandas.concat instead.\n",
      "  report = report.append({\n",
      "C:\\Users\\angel\\Desktop\\Università\\DataMiningFinale\\LavorettiFinali\\creation_functions\\utilities.py:115: FutureWarning: The frame.append method is deprecated and will be removed from pandas in a future version. Use pandas.concat instead.\n",
      "  report = report.append({\n",
      "C:\\Users\\angel\\Desktop\\Università\\DataMiningFinale\\LavorettiFinali\\creation_functions\\utilities.py:115: FutureWarning: The frame.append method is deprecated and will be removed from pandas in a future version. Use pandas.concat instead.\n",
      "  report = report.append({\n",
      "C:\\Users\\angel\\Desktop\\Università\\DataMiningFinale\\LavorettiFinali\\creation_functions\\utilities.py:115: FutureWarning: The frame.append method is deprecated and will be removed from pandas in a future version. Use pandas.concat instead.\n",
      "  report = report.append({\n",
      "C:\\Users\\angel\\Desktop\\Università\\DataMiningFinale\\LavorettiFinali\\creation_functions\\utilities.py:115: FutureWarning: The frame.append method is deprecated and will be removed from pandas in a future version. Use pandas.concat instead.\n",
      "  report = report.append({\n",
      "C:\\Users\\angel\\Desktop\\Università\\DataMiningFinale\\LavorettiFinali\\creation_functions\\utilities.py:115: FutureWarning: The frame.append method is deprecated and will be removed from pandas in a future version. Use pandas.concat instead.\n",
      "  report = report.append({\n",
      "C:\\Users\\angel\\Desktop\\Università\\DataMiningFinale\\LavorettiFinali\\creation_functions\\utilities.py:115: FutureWarning: The frame.append method is deprecated and will be removed from pandas in a future version. Use pandas.concat instead.\n",
      "  report = report.append({\n",
      "C:\\Users\\angel\\Desktop\\Università\\DataMiningFinale\\LavorettiFinali\\creation_functions\\utilities.py:115: FutureWarning: The frame.append method is deprecated and will be removed from pandas in a future version. Use pandas.concat instead.\n",
      "  report = report.append({\n",
      "C:\\Users\\angel\\Desktop\\Università\\DataMiningFinale\\LavorettiFinali\\creation_functions\\utilities.py:115: FutureWarning: The frame.append method is deprecated and will be removed from pandas in a future version. Use pandas.concat instead.\n",
      "  report = report.append({\n",
      "C:\\Users\\angel\\Desktop\\Università\\DataMiningFinale\\LavorettiFinali\\creation_functions\\utilities.py:115: FutureWarning: The frame.append method is deprecated and will be removed from pandas in a future version. Use pandas.concat instead.\n",
      "  report = report.append({\n",
      "C:\\Users\\angel\\Desktop\\Università\\DataMiningFinale\\LavorettiFinali\\creation_functions\\utilities.py:115: FutureWarning: The frame.append method is deprecated and will be removed from pandas in a future version. Use pandas.concat instead.\n",
      "  report = report.append({\n",
      "C:\\Users\\angel\\Desktop\\Università\\DataMiningFinale\\LavorettiFinali\\creation_functions\\utilities.py:115: FutureWarning: The frame.append method is deprecated and will be removed from pandas in a future version. Use pandas.concat instead.\n",
      "  report = report.append({\n",
      "C:\\Users\\angel\\Desktop\\Università\\DataMiningFinale\\LavorettiFinali\\creation_functions\\utilities.py:115: FutureWarning: The frame.append method is deprecated and will be removed from pandas in a future version. Use pandas.concat instead.\n",
      "  report = report.append({\n",
      "C:\\Users\\angel\\Desktop\\Università\\DataMiningFinale\\LavorettiFinali\\creation_functions\\utilities.py:115: FutureWarning: The frame.append method is deprecated and will be removed from pandas in a future version. Use pandas.concat instead.\n",
      "  report = report.append({\n",
      "C:\\Users\\angel\\Desktop\\Università\\DataMiningFinale\\LavorettiFinali\\creation_functions\\utilities.py:115: FutureWarning: The frame.append method is deprecated and will be removed from pandas in a future version. Use pandas.concat instead.\n",
      "  report = report.append({\n",
      "C:\\Users\\angel\\Desktop\\Università\\DataMiningFinale\\LavorettiFinali\\creation_functions\\utilities.py:115: FutureWarning: The frame.append method is deprecated and will be removed from pandas in a future version. Use pandas.concat instead.\n",
      "  report = report.append({\n",
      "C:\\Users\\angel\\Desktop\\Università\\DataMiningFinale\\LavorettiFinali\\creation_functions\\utilities.py:115: FutureWarning: The frame.append method is deprecated and will be removed from pandas in a future version. Use pandas.concat instead.\n",
      "  report = report.append({\n",
      "C:\\Users\\angel\\Desktop\\Università\\DataMiningFinale\\LavorettiFinali\\creation_functions\\utilities.py:115: FutureWarning: The frame.append method is deprecated and will be removed from pandas in a future version. Use pandas.concat instead.\n",
      "  report = report.append({\n",
      "C:\\Users\\angel\\Desktop\\Università\\DataMiningFinale\\LavorettiFinali\\creation_functions\\utilities.py:115: FutureWarning: The frame.append method is deprecated and will be removed from pandas in a future version. Use pandas.concat instead.\n",
      "  report = report.append({\n",
      "C:\\Users\\angel\\Desktop\\Università\\DataMiningFinale\\LavorettiFinali\\creation_functions\\utilities.py:115: FutureWarning: The frame.append method is deprecated and will be removed from pandas in a future version. Use pandas.concat instead.\n",
      "  report = report.append({\n",
      "C:\\Users\\angel\\Desktop\\Università\\DataMiningFinale\\LavorettiFinali\\creation_functions\\utilities.py:115: FutureWarning: The frame.append method is deprecated and will be removed from pandas in a future version. Use pandas.concat instead.\n",
      "  report = report.append({\n",
      "C:\\Users\\angel\\Desktop\\Università\\DataMiningFinale\\LavorettiFinali\\creation_functions\\utilities.py:115: FutureWarning: The frame.append method is deprecated and will be removed from pandas in a future version. Use pandas.concat instead.\n",
      "  report = report.append({\n",
      "C:\\Users\\angel\\Desktop\\Università\\DataMiningFinale\\LavorettiFinali\\creation_functions\\utilities.py:115: FutureWarning: The frame.append method is deprecated and will be removed from pandas in a future version. Use pandas.concat instead.\n",
      "  report = report.append({\n",
      "C:\\Users\\angel\\Desktop\\Università\\DataMiningFinale\\LavorettiFinali\\creation_functions\\utilities.py:115: FutureWarning: The frame.append method is deprecated and will be removed from pandas in a future version. Use pandas.concat instead.\n",
      "  report = report.append({\n",
      "C:\\Users\\angel\\Desktop\\Università\\DataMiningFinale\\LavorettiFinali\\creation_functions\\utilities.py:115: FutureWarning: The frame.append method is deprecated and will be removed from pandas in a future version. Use pandas.concat instead.\n",
      "  report = report.append({\n",
      "C:\\Users\\angel\\Desktop\\Università\\DataMiningFinale\\LavorettiFinali\\creation_functions\\utilities.py:115: FutureWarning: The frame.append method is deprecated and will be removed from pandas in a future version. Use pandas.concat instead.\n",
      "  report = report.append({\n",
      "C:\\Users\\angel\\Desktop\\Università\\DataMiningFinale\\LavorettiFinali\\creation_functions\\utilities.py:115: FutureWarning: The frame.append method is deprecated and will be removed from pandas in a future version. Use pandas.concat instead.\n",
      "  report = report.append({\n",
      "C:\\Users\\angel\\Desktop\\Università\\DataMiningFinale\\LavorettiFinali\\creation_functions\\utilities.py:115: FutureWarning: The frame.append method is deprecated and will be removed from pandas in a future version. Use pandas.concat instead.\n",
      "  report = report.append({\n",
      "C:\\Users\\angel\\Desktop\\Università\\DataMiningFinale\\LavorettiFinali\\creation_functions\\utilities.py:115: FutureWarning: The frame.append method is deprecated and will be removed from pandas in a future version. Use pandas.concat instead.\n",
      "  report = report.append({\n",
      "C:\\Users\\angel\\Desktop\\Università\\DataMiningFinale\\LavorettiFinali\\creation_functions\\utilities.py:115: FutureWarning: The frame.append method is deprecated and will be removed from pandas in a future version. Use pandas.concat instead.\n",
      "  report = report.append({\n",
      "C:\\Users\\angel\\Desktop\\Università\\DataMiningFinale\\LavorettiFinali\\creation_functions\\utilities.py:115: FutureWarning: The frame.append method is deprecated and will be removed from pandas in a future version. Use pandas.concat instead.\n",
      "  report = report.append({\n",
      "C:\\Users\\angel\\Desktop\\Università\\DataMiningFinale\\LavorettiFinali\\creation_functions\\utilities.py:115: FutureWarning: The frame.append method is deprecated and will be removed from pandas in a future version. Use pandas.concat instead.\n",
      "  report = report.append({\n",
      "C:\\Users\\angel\\Desktop\\Università\\DataMiningFinale\\LavorettiFinali\\creation_functions\\utilities.py:115: FutureWarning: The frame.append method is deprecated and will be removed from pandas in a future version. Use pandas.concat instead.\n",
      "  report = report.append({\n",
      "C:\\Users\\angel\\Desktop\\Università\\DataMiningFinale\\LavorettiFinali\\creation_functions\\utilities.py:115: FutureWarning: The frame.append method is deprecated and will be removed from pandas in a future version. Use pandas.concat instead.\n",
      "  report = report.append({\n",
      "C:\\Users\\angel\\Desktop\\Università\\DataMiningFinale\\LavorettiFinali\\creation_functions\\utilities.py:115: FutureWarning: The frame.append method is deprecated and will be removed from pandas in a future version. Use pandas.concat instead.\n",
      "  report = report.append({\n",
      "C:\\Users\\angel\\Desktop\\Università\\DataMiningFinale\\LavorettiFinali\\creation_functions\\utilities.py:115: FutureWarning: The frame.append method is deprecated and will be removed from pandas in a future version. Use pandas.concat instead.\n",
      "  report = report.append({\n",
      "C:\\Users\\angel\\Desktop\\Università\\DataMiningFinale\\LavorettiFinali\\creation_functions\\utilities.py:115: FutureWarning: The frame.append method is deprecated and will be removed from pandas in a future version. Use pandas.concat instead.\n",
      "  report = report.append({\n",
      "C:\\Users\\angel\\Desktop\\Università\\DataMiningFinale\\LavorettiFinali\\creation_functions\\utilities.py:115: FutureWarning: The frame.append method is deprecated and will be removed from pandas in a future version. Use pandas.concat instead.\n",
      "  report = report.append({\n",
      "C:\\Users\\angel\\Desktop\\Università\\DataMiningFinale\\LavorettiFinali\\creation_functions\\utilities.py:115: FutureWarning: The frame.append method is deprecated and will be removed from pandas in a future version. Use pandas.concat instead.\n",
      "  report = report.append({\n",
      "C:\\Users\\angel\\Desktop\\Università\\DataMiningFinale\\LavorettiFinali\\creation_functions\\utilities.py:115: FutureWarning: The frame.append method is deprecated and will be removed from pandas in a future version. Use pandas.concat instead.\n",
      "  report = report.append({\n",
      "C:\\Users\\angel\\Desktop\\Università\\DataMiningFinale\\LavorettiFinali\\creation_functions\\utilities.py:115: FutureWarning: The frame.append method is deprecated and will be removed from pandas in a future version. Use pandas.concat instead.\n",
      "  report = report.append({\n",
      "C:\\Users\\angel\\Desktop\\Università\\DataMiningFinale\\LavorettiFinali\\creation_functions\\utilities.py:115: FutureWarning: The frame.append method is deprecated and will be removed from pandas in a future version. Use pandas.concat instead.\n",
      "  report = report.append({\n",
      "C:\\Users\\angel\\Desktop\\Università\\DataMiningFinale\\LavorettiFinali\\creation_functions\\utilities.py:115: FutureWarning: The frame.append method is deprecated and will be removed from pandas in a future version. Use pandas.concat instead.\n",
      "  report = report.append({\n",
      "C:\\Users\\angel\\Desktop\\Università\\DataMiningFinale\\LavorettiFinali\\creation_functions\\utilities.py:115: FutureWarning: The frame.append method is deprecated and will be removed from pandas in a future version. Use pandas.concat instead.\n",
      "  report = report.append({\n",
      "C:\\Users\\angel\\Desktop\\Università\\DataMiningFinale\\LavorettiFinali\\creation_functions\\utilities.py:115: FutureWarning: The frame.append method is deprecated and will be removed from pandas in a future version. Use pandas.concat instead.\n",
      "  report = report.append({\n",
      "C:\\Users\\angel\\Desktop\\Università\\DataMiningFinale\\LavorettiFinali\\creation_functions\\utilities.py:115: FutureWarning: The frame.append method is deprecated and will be removed from pandas in a future version. Use pandas.concat instead.\n",
      "  report = report.append({\n",
      "C:\\Users\\angel\\Desktop\\Università\\DataMiningFinale\\LavorettiFinali\\creation_functions\\utilities.py:115: FutureWarning: The frame.append method is deprecated and will be removed from pandas in a future version. Use pandas.concat instead.\n",
      "  report = report.append({\n",
      "C:\\Users\\angel\\Desktop\\Università\\DataMiningFinale\\LavorettiFinali\\creation_functions\\utilities.py:115: FutureWarning: The frame.append method is deprecated and will be removed from pandas in a future version. Use pandas.concat instead.\n",
      "  report = report.append({\n",
      "C:\\Users\\angel\\Desktop\\Università\\DataMiningFinale\\LavorettiFinali\\creation_functions\\utilities.py:115: FutureWarning: The frame.append method is deprecated and will be removed from pandas in a future version. Use pandas.concat instead.\n",
      "  report = report.append({\n",
      "C:\\Users\\angel\\Desktop\\Università\\DataMiningFinale\\LavorettiFinali\\creation_functions\\utilities.py:115: FutureWarning: The frame.append method is deprecated and will be removed from pandas in a future version. Use pandas.concat instead.\n",
      "  report = report.append({\n",
      "C:\\Users\\angel\\Desktop\\Università\\DataMiningFinale\\LavorettiFinali\\creation_functions\\utilities.py:115: FutureWarning: The frame.append method is deprecated and will be removed from pandas in a future version. Use pandas.concat instead.\n",
      "  report = report.append({\n",
      "C:\\Users\\angel\\Desktop\\Università\\DataMiningFinale\\LavorettiFinali\\creation_functions\\utilities.py:115: FutureWarning: The frame.append method is deprecated and will be removed from pandas in a future version. Use pandas.concat instead.\n",
      "  report = report.append({\n",
      "C:\\Users\\angel\\Desktop\\Università\\DataMiningFinale\\LavorettiFinali\\creation_functions\\utilities.py:115: FutureWarning: The frame.append method is deprecated and will be removed from pandas in a future version. Use pandas.concat instead.\n",
      "  report = report.append({\n",
      "C:\\Users\\angel\\Desktop\\Università\\DataMiningFinale\\LavorettiFinali\\creation_functions\\utilities.py:115: FutureWarning: The frame.append method is deprecated and will be removed from pandas in a future version. Use pandas.concat instead.\n",
      "  report = report.append({\n",
      "C:\\Users\\angel\\Desktop\\Università\\DataMiningFinale\\LavorettiFinali\\creation_functions\\utilities.py:115: FutureWarning: The frame.append method is deprecated and will be removed from pandas in a future version. Use pandas.concat instead.\n",
      "  report = report.append({\n",
      "C:\\Users\\angel\\Desktop\\Università\\DataMiningFinale\\LavorettiFinali\\creation_functions\\utilities.py:115: FutureWarning: The frame.append method is deprecated and will be removed from pandas in a future version. Use pandas.concat instead.\n",
      "  report = report.append({\n",
      "C:\\Users\\angel\\Desktop\\Università\\DataMiningFinale\\LavorettiFinali\\creation_functions\\utilities.py:115: FutureWarning: The frame.append method is deprecated and will be removed from pandas in a future version. Use pandas.concat instead.\n",
      "  report = report.append({\n",
      "C:\\Users\\angel\\Desktop\\Università\\DataMiningFinale\\LavorettiFinali\\creation_functions\\utilities.py:115: FutureWarning: The frame.append method is deprecated and will be removed from pandas in a future version. Use pandas.concat instead.\n",
      "  report = report.append({\n",
      "C:\\Users\\angel\\Desktop\\Università\\DataMiningFinale\\LavorettiFinali\\creation_functions\\utilities.py:115: FutureWarning: The frame.append method is deprecated and will be removed from pandas in a future version. Use pandas.concat instead.\n",
      "  report = report.append({\n",
      "C:\\Users\\angel\\Desktop\\Università\\DataMiningFinale\\LavorettiFinali\\creation_functions\\utilities.py:115: FutureWarning: The frame.append method is deprecated and will be removed from pandas in a future version. Use pandas.concat instead.\n",
      "  report = report.append({\n",
      "C:\\Users\\angel\\Desktop\\Università\\DataMiningFinale\\LavorettiFinali\\creation_functions\\utilities.py:115: FutureWarning: The frame.append method is deprecated and will be removed from pandas in a future version. Use pandas.concat instead.\n",
      "  report = report.append({\n",
      "C:\\Users\\angel\\Desktop\\Università\\DataMiningFinale\\LavorettiFinali\\creation_functions\\utilities.py:115: FutureWarning: The frame.append method is deprecated and will be removed from pandas in a future version. Use pandas.concat instead.\n",
      "  report = report.append({\n",
      "C:\\Users\\angel\\Desktop\\Università\\DataMiningFinale\\LavorettiFinali\\creation_functions\\utilities.py:115: FutureWarning: The frame.append method is deprecated and will be removed from pandas in a future version. Use pandas.concat instead.\n",
      "  report = report.append({\n",
      "C:\\Users\\angel\\Desktop\\Università\\DataMiningFinale\\LavorettiFinali\\creation_functions\\utilities.py:115: FutureWarning: The frame.append method is deprecated and will be removed from pandas in a future version. Use pandas.concat instead.\n",
      "  report = report.append({\n",
      "C:\\Users\\angel\\Desktop\\Università\\DataMiningFinale\\LavorettiFinali\\creation_functions\\utilities.py:115: FutureWarning: The frame.append method is deprecated and will be removed from pandas in a future version. Use pandas.concat instead.\n",
      "  report = report.append({\n",
      "C:\\Users\\angel\\Desktop\\Università\\DataMiningFinale\\LavorettiFinali\\creation_functions\\utilities.py:115: FutureWarning: The frame.append method is deprecated and will be removed from pandas in a future version. Use pandas.concat instead.\n",
      "  report = report.append({\n",
      "C:\\Users\\angel\\Desktop\\Università\\DataMiningFinale\\LavorettiFinali\\creation_functions\\utilities.py:115: FutureWarning: The frame.append method is deprecated and will be removed from pandas in a future version. Use pandas.concat instead.\n",
      "  report = report.append({\n",
      "C:\\Users\\angel\\Desktop\\Università\\DataMiningFinale\\LavorettiFinali\\creation_functions\\utilities.py:115: FutureWarning: The frame.append method is deprecated and will be removed from pandas in a future version. Use pandas.concat instead.\n",
      "  report = report.append({\n",
      "C:\\Users\\angel\\Desktop\\Università\\DataMiningFinale\\LavorettiFinali\\creation_functions\\utilities.py:115: FutureWarning: The frame.append method is deprecated and will be removed from pandas in a future version. Use pandas.concat instead.\n",
      "  report = report.append({\n",
      "C:\\Users\\angel\\Desktop\\Università\\DataMiningFinale\\LavorettiFinali\\creation_functions\\utilities.py:115: FutureWarning: The frame.append method is deprecated and will be removed from pandas in a future version. Use pandas.concat instead.\n",
      "  report = report.append({\n",
      "C:\\Users\\angel\\Desktop\\Università\\DataMiningFinale\\LavorettiFinali\\creation_functions\\utilities.py:115: FutureWarning: The frame.append method is deprecated and will be removed from pandas in a future version. Use pandas.concat instead.\n",
      "  report = report.append({\n",
      "C:\\Users\\angel\\Desktop\\Università\\DataMiningFinale\\LavorettiFinali\\creation_functions\\utilities.py:115: FutureWarning: The frame.append method is deprecated and will be removed from pandas in a future version. Use pandas.concat instead.\n",
      "  report = report.append({\n",
      "C:\\Users\\angel\\Desktop\\Università\\DataMiningFinale\\LavorettiFinali\\creation_functions\\utilities.py:115: FutureWarning: The frame.append method is deprecated and will be removed from pandas in a future version. Use pandas.concat instead.\n",
      "  report = report.append({\n",
      "C:\\Users\\angel\\Desktop\\Università\\DataMiningFinale\\LavorettiFinali\\creation_functions\\utilities.py:115: FutureWarning: The frame.append method is deprecated and will be removed from pandas in a future version. Use pandas.concat instead.\n",
      "  report = report.append({\n",
      "C:\\Users\\angel\\Desktop\\Università\\DataMiningFinale\\LavorettiFinali\\creation_functions\\utilities.py:115: FutureWarning: The frame.append method is deprecated and will be removed from pandas in a future version. Use pandas.concat instead.\n",
      "  report = report.append({\n",
      "C:\\Users\\angel\\Desktop\\Università\\DataMiningFinale\\LavorettiFinali\\creation_functions\\utilities.py:115: FutureWarning: The frame.append method is deprecated and will be removed from pandas in a future version. Use pandas.concat instead.\n",
      "  report = report.append({\n",
      "C:\\Users\\angel\\Desktop\\Università\\DataMiningFinale\\LavorettiFinali\\creation_functions\\utilities.py:115: FutureWarning: The frame.append method is deprecated and will be removed from pandas in a future version. Use pandas.concat instead.\n",
      "  report = report.append({\n",
      "C:\\Users\\angel\\Desktop\\Università\\DataMiningFinale\\LavorettiFinali\\creation_functions\\utilities.py:115: FutureWarning: The frame.append method is deprecated and will be removed from pandas in a future version. Use pandas.concat instead.\n",
      "  report = report.append({\n",
      "C:\\Users\\angel\\Desktop\\Università\\DataMiningFinale\\LavorettiFinali\\creation_functions\\utilities.py:115: FutureWarning: The frame.append method is deprecated and will be removed from pandas in a future version. Use pandas.concat instead.\n",
      "  report = report.append({\n",
      "C:\\Users\\angel\\Desktop\\Università\\DataMiningFinale\\LavorettiFinali\\creation_functions\\utilities.py:115: FutureWarning: The frame.append method is deprecated and will be removed from pandas in a future version. Use pandas.concat instead.\n",
      "  report = report.append({\n",
      "C:\\Users\\angel\\Desktop\\Università\\DataMiningFinale\\LavorettiFinali\\creation_functions\\utilities.py:115: FutureWarning: The frame.append method is deprecated and will be removed from pandas in a future version. Use pandas.concat instead.\n",
      "  report = report.append({\n",
      "C:\\Users\\angel\\Desktop\\Università\\DataMiningFinale\\LavorettiFinali\\creation_functions\\utilities.py:115: FutureWarning: The frame.append method is deprecated and will be removed from pandas in a future version. Use pandas.concat instead.\n",
      "  report = report.append({\n",
      "C:\\Users\\angel\\Desktop\\Università\\DataMiningFinale\\LavorettiFinali\\creation_functions\\utilities.py:115: FutureWarning: The frame.append method is deprecated and will be removed from pandas in a future version. Use pandas.concat instead.\n",
      "  report = report.append({\n",
      "C:\\Users\\angel\\Desktop\\Università\\DataMiningFinale\\LavorettiFinali\\creation_functions\\utilities.py:115: FutureWarning: The frame.append method is deprecated and will be removed from pandas in a future version. Use pandas.concat instead.\n",
      "  report = report.append({\n",
      "C:\\Users\\angel\\Desktop\\Università\\DataMiningFinale\\LavorettiFinali\\creation_functions\\utilities.py:115: FutureWarning: The frame.append method is deprecated and will be removed from pandas in a future version. Use pandas.concat instead.\n",
      "  report = report.append({\n",
      "C:\\Users\\angel\\Desktop\\Università\\DataMiningFinale\\LavorettiFinali\\creation_functions\\utilities.py:115: FutureWarning: The frame.append method is deprecated and will be removed from pandas in a future version. Use pandas.concat instead.\n",
      "  report = report.append({\n",
      "C:\\Users\\angel\\Desktop\\Università\\DataMiningFinale\\LavorettiFinali\\creation_functions\\utilities.py:115: FutureWarning: The frame.append method is deprecated and will be removed from pandas in a future version. Use pandas.concat instead.\n",
      "  report = report.append({\n",
      "C:\\Users\\angel\\Desktop\\Università\\DataMiningFinale\\LavorettiFinali\\creation_functions\\utilities.py:115: FutureWarning: The frame.append method is deprecated and will be removed from pandas in a future version. Use pandas.concat instead.\n",
      "  report = report.append({\n",
      "C:\\Users\\angel\\Desktop\\Università\\DataMiningFinale\\LavorettiFinali\\creation_functions\\utilities.py:115: FutureWarning: The frame.append method is deprecated and will be removed from pandas in a future version. Use pandas.concat instead.\n",
      "  report = report.append({\n",
      "C:\\Users\\angel\\Desktop\\Università\\DataMiningFinale\\LavorettiFinali\\creation_functions\\utilities.py:115: FutureWarning: The frame.append method is deprecated and will be removed from pandas in a future version. Use pandas.concat instead.\n",
      "  report = report.append({\n",
      "C:\\Users\\angel\\Desktop\\Università\\DataMiningFinale\\LavorettiFinali\\creation_functions\\utilities.py:115: FutureWarning: The frame.append method is deprecated and will be removed from pandas in a future version. Use pandas.concat instead.\n",
      "  report = report.append({\n",
      "C:\\Users\\angel\\Desktop\\Università\\DataMiningFinale\\LavorettiFinali\\creation_functions\\utilities.py:115: FutureWarning: The frame.append method is deprecated and will be removed from pandas in a future version. Use pandas.concat instead.\n",
      "  report = report.append({\n",
      "C:\\Users\\angel\\Desktop\\Università\\DataMiningFinale\\LavorettiFinali\\creation_functions\\utilities.py:115: FutureWarning: The frame.append method is deprecated and will be removed from pandas in a future version. Use pandas.concat instead.\n",
      "  report = report.append({\n",
      "C:\\Users\\angel\\Desktop\\Università\\DataMiningFinale\\LavorettiFinali\\creation_functions\\utilities.py:115: FutureWarning: The frame.append method is deprecated and will be removed from pandas in a future version. Use pandas.concat instead.\n",
      "  report = report.append({\n",
      "C:\\Users\\angel\\Desktop\\Università\\DataMiningFinale\\LavorettiFinali\\creation_functions\\utilities.py:115: FutureWarning: The frame.append method is deprecated and will be removed from pandas in a future version. Use pandas.concat instead.\n",
      "  report = report.append({\n",
      "C:\\Users\\angel\\Desktop\\Università\\DataMiningFinale\\LavorettiFinali\\creation_functions\\utilities.py:115: FutureWarning: The frame.append method is deprecated and will be removed from pandas in a future version. Use pandas.concat instead.\n",
      "  report = report.append({\n",
      "C:\\Users\\angel\\Desktop\\Università\\DataMiningFinale\\LavorettiFinali\\creation_functions\\utilities.py:115: FutureWarning: The frame.append method is deprecated and will be removed from pandas in a future version. Use pandas.concat instead.\n",
      "  report = report.append({\n",
      "C:\\Users\\angel\\Desktop\\Università\\DataMiningFinale\\LavorettiFinali\\creation_functions\\utilities.py:115: FutureWarning: The frame.append method is deprecated and will be removed from pandas in a future version. Use pandas.concat instead.\n",
      "  report = report.append({\n",
      "C:\\Users\\angel\\Desktop\\Università\\DataMiningFinale\\LavorettiFinali\\creation_functions\\utilities.py:115: FutureWarning: The frame.append method is deprecated and will be removed from pandas in a future version. Use pandas.concat instead.\n",
      "  report = report.append({\n",
      "C:\\Users\\angel\\Desktop\\Università\\DataMiningFinale\\LavorettiFinali\\creation_functions\\utilities.py:115: FutureWarning: The frame.append method is deprecated and will be removed from pandas in a future version. Use pandas.concat instead.\n",
      "  report = report.append({\n",
      "C:\\Users\\angel\\Desktop\\Università\\DataMiningFinale\\LavorettiFinali\\creation_functions\\utilities.py:115: FutureWarning: The frame.append method is deprecated and will be removed from pandas in a future version. Use pandas.concat instead.\n",
      "  report = report.append({\n",
      "C:\\Users\\angel\\Desktop\\Università\\DataMiningFinale\\LavorettiFinali\\creation_functions\\utilities.py:115: FutureWarning: The frame.append method is deprecated and will be removed from pandas in a future version. Use pandas.concat instead.\n",
      "  report = report.append({\n",
      "C:\\Users\\angel\\Desktop\\Università\\DataMiningFinale\\LavorettiFinali\\creation_functions\\utilities.py:115: FutureWarning: The frame.append method is deprecated and will be removed from pandas in a future version. Use pandas.concat instead.\n",
      "  report = report.append({\n",
      "C:\\Users\\angel\\Desktop\\Università\\DataMiningFinale\\LavorettiFinali\\creation_functions\\utilities.py:115: FutureWarning: The frame.append method is deprecated and will be removed from pandas in a future version. Use pandas.concat instead.\n",
      "  report = report.append({\n",
      "C:\\Users\\angel\\Desktop\\Università\\DataMiningFinale\\LavorettiFinali\\creation_functions\\utilities.py:115: FutureWarning: The frame.append method is deprecated and will be removed from pandas in a future version. Use pandas.concat instead.\n",
      "  report = report.append({\n",
      "C:\\Users\\angel\\Desktop\\Università\\DataMiningFinale\\LavorettiFinali\\creation_functions\\utilities.py:115: FutureWarning: The frame.append method is deprecated and will be removed from pandas in a future version. Use pandas.concat instead.\n",
      "  report = report.append({\n",
      "C:\\Users\\angel\\Desktop\\Università\\DataMiningFinale\\LavorettiFinali\\creation_functions\\utilities.py:115: FutureWarning: The frame.append method is deprecated and will be removed from pandas in a future version. Use pandas.concat instead.\n",
      "  report = report.append({\n",
      "C:\\Users\\angel\\Desktop\\Università\\DataMiningFinale\\LavorettiFinali\\creation_functions\\utilities.py:115: FutureWarning: The frame.append method is deprecated and will be removed from pandas in a future version. Use pandas.concat instead.\n",
      "  report = report.append({\n",
      "C:\\Users\\angel\\Desktop\\Università\\DataMiningFinale\\LavorettiFinali\\creation_functions\\utilities.py:115: FutureWarning: The frame.append method is deprecated and will be removed from pandas in a future version. Use pandas.concat instead.\n",
      "  report = report.append({\n",
      "C:\\Users\\angel\\Desktop\\Università\\DataMiningFinale\\LavorettiFinali\\creation_functions\\utilities.py:115: FutureWarning: The frame.append method is deprecated and will be removed from pandas in a future version. Use pandas.concat instead.\n",
      "  report = report.append({\n",
      "C:\\Users\\angel\\Desktop\\Università\\DataMiningFinale\\LavorettiFinali\\creation_functions\\utilities.py:115: FutureWarning: The frame.append method is deprecated and will be removed from pandas in a future version. Use pandas.concat instead.\n",
      "  report = report.append({\n",
      "C:\\Users\\angel\\Desktop\\Università\\DataMiningFinale\\LavorettiFinali\\creation_functions\\utilities.py:115: FutureWarning: The frame.append method is deprecated and will be removed from pandas in a future version. Use pandas.concat instead.\n",
      "  report = report.append({\n",
      "C:\\Users\\angel\\Desktop\\Università\\DataMiningFinale\\LavorettiFinali\\creation_functions\\utilities.py:115: FutureWarning: The frame.append method is deprecated and will be removed from pandas in a future version. Use pandas.concat instead.\n",
      "  report = report.append({\n",
      "C:\\Users\\angel\\Desktop\\Università\\DataMiningFinale\\LavorettiFinali\\creation_functions\\utilities.py:115: FutureWarning: The frame.append method is deprecated and will be removed from pandas in a future version. Use pandas.concat instead.\n",
      "  report = report.append({\n",
      "C:\\Users\\angel\\Desktop\\Università\\DataMiningFinale\\LavorettiFinali\\creation_functions\\utilities.py:115: FutureWarning: The frame.append method is deprecated and will be removed from pandas in a future version. Use pandas.concat instead.\n",
      "  report = report.append({\n",
      "C:\\Users\\angel\\Desktop\\Università\\DataMiningFinale\\LavorettiFinali\\creation_functions\\utilities.py:115: FutureWarning: The frame.append method is deprecated and will be removed from pandas in a future version. Use pandas.concat instead.\n",
      "  report = report.append({\n",
      "C:\\Users\\angel\\Desktop\\Università\\DataMiningFinale\\LavorettiFinali\\creation_functions\\utilities.py:115: FutureWarning: The frame.append method is deprecated and will be removed from pandas in a future version. Use pandas.concat instead.\n",
      "  report = report.append({\n",
      "C:\\Users\\angel\\Desktop\\Università\\DataMiningFinale\\LavorettiFinali\\creation_functions\\utilities.py:115: FutureWarning: The frame.append method is deprecated and will be removed from pandas in a future version. Use pandas.concat instead.\n",
      "  report = report.append({\n",
      "C:\\Users\\angel\\Desktop\\Università\\DataMiningFinale\\LavorettiFinali\\creation_functions\\utilities.py:115: FutureWarning: The frame.append method is deprecated and will be removed from pandas in a future version. Use pandas.concat instead.\n",
      "  report = report.append({\n",
      "C:\\Users\\angel\\Desktop\\Università\\DataMiningFinale\\LavorettiFinali\\creation_functions\\utilities.py:115: FutureWarning: The frame.append method is deprecated and will be removed from pandas in a future version. Use pandas.concat instead.\n",
      "  report = report.append({\n",
      "C:\\Users\\angel\\Desktop\\Università\\DataMiningFinale\\LavorettiFinali\\creation_functions\\utilities.py:115: FutureWarning: The frame.append method is deprecated and will be removed from pandas in a future version. Use pandas.concat instead.\n",
      "  report = report.append({\n",
      "C:\\Users\\angel\\Desktop\\Università\\DataMiningFinale\\LavorettiFinali\\creation_functions\\utilities.py:115: FutureWarning: The frame.append method is deprecated and will be removed from pandas in a future version. Use pandas.concat instead.\n",
      "  report = report.append({\n",
      "C:\\Users\\angel\\Desktop\\Università\\DataMiningFinale\\LavorettiFinali\\creation_functions\\utilities.py:115: FutureWarning: The frame.append method is deprecated and will be removed from pandas in a future version. Use pandas.concat instead.\n",
      "  report = report.append({\n",
      "C:\\Users\\angel\\Desktop\\Università\\DataMiningFinale\\LavorettiFinali\\creation_functions\\utilities.py:115: FutureWarning: The frame.append method is deprecated and will be removed from pandas in a future version. Use pandas.concat instead.\n",
      "  report = report.append({\n",
      "C:\\Users\\angel\\Desktop\\Università\\DataMiningFinale\\LavorettiFinali\\creation_functions\\utilities.py:115: FutureWarning: The frame.append method is deprecated and will be removed from pandas in a future version. Use pandas.concat instead.\n",
      "  report = report.append({\n",
      "C:\\Users\\angel\\Desktop\\Università\\DataMiningFinale\\LavorettiFinali\\creation_functions\\utilities.py:115: FutureWarning: The frame.append method is deprecated and will be removed from pandas in a future version. Use pandas.concat instead.\n",
      "  report = report.append({\n",
      "C:\\Users\\angel\\Desktop\\Università\\DataMiningFinale\\LavorettiFinali\\creation_functions\\utilities.py:115: FutureWarning: The frame.append method is deprecated and will be removed from pandas in a future version. Use pandas.concat instead.\n",
      "  report = report.append({\n",
      "C:\\Users\\angel\\Desktop\\Università\\DataMiningFinale\\LavorettiFinali\\creation_functions\\utilities.py:115: FutureWarning: The frame.append method is deprecated and will be removed from pandas in a future version. Use pandas.concat instead.\n",
      "  report = report.append({\n",
      "C:\\Users\\angel\\Desktop\\Università\\DataMiningFinale\\LavorettiFinali\\creation_functions\\utilities.py:115: FutureWarning: The frame.append method is deprecated and will be removed from pandas in a future version. Use pandas.concat instead.\n",
      "  report = report.append({\n",
      "C:\\Users\\angel\\Desktop\\Università\\DataMiningFinale\\LavorettiFinali\\creation_functions\\utilities.py:115: FutureWarning: The frame.append method is deprecated and will be removed from pandas in a future version. Use pandas.concat instead.\n",
      "  report = report.append({\n",
      "C:\\Users\\angel\\Desktop\\Università\\DataMiningFinale\\LavorettiFinali\\creation_functions\\utilities.py:115: FutureWarning: The frame.append method is deprecated and will be removed from pandas in a future version. Use pandas.concat instead.\n",
      "  report = report.append({\n",
      "C:\\Users\\angel\\Desktop\\Università\\DataMiningFinale\\LavorettiFinali\\creation_functions\\utilities.py:115: FutureWarning: The frame.append method is deprecated and will be removed from pandas in a future version. Use pandas.concat instead.\n",
      "  report = report.append({\n",
      "C:\\Users\\angel\\Desktop\\Università\\DataMiningFinale\\LavorettiFinali\\creation_functions\\utilities.py:115: FutureWarning: The frame.append method is deprecated and will be removed from pandas in a future version. Use pandas.concat instead.\n",
      "  report = report.append({\n",
      "C:\\Users\\angel\\Desktop\\Università\\DataMiningFinale\\LavorettiFinali\\creation_functions\\utilities.py:115: FutureWarning: The frame.append method is deprecated and will be removed from pandas in a future version. Use pandas.concat instead.\n",
      "  report = report.append({\n",
      "C:\\Users\\angel\\Desktop\\Università\\DataMiningFinale\\LavorettiFinali\\creation_functions\\utilities.py:115: FutureWarning: The frame.append method is deprecated and will be removed from pandas in a future version. Use pandas.concat instead.\n",
      "  report = report.append({\n",
      "C:\\Users\\angel\\Desktop\\Università\\DataMiningFinale\\LavorettiFinali\\creation_functions\\utilities.py:115: FutureWarning: The frame.append method is deprecated and will be removed from pandas in a future version. Use pandas.concat instead.\n",
      "  report = report.append({\n",
      "C:\\Users\\angel\\Desktop\\Università\\DataMiningFinale\\LavorettiFinali\\creation_functions\\utilities.py:115: FutureWarning: The frame.append method is deprecated and will be removed from pandas in a future version. Use pandas.concat instead.\n",
      "  report = report.append({\n",
      "C:\\Users\\angel\\Desktop\\Università\\DataMiningFinale\\LavorettiFinali\\creation_functions\\utilities.py:115: FutureWarning: The frame.append method is deprecated and will be removed from pandas in a future version. Use pandas.concat instead.\n",
      "  report = report.append({\n",
      "C:\\Users\\angel\\Desktop\\Università\\DataMiningFinale\\LavorettiFinali\\creation_functions\\utilities.py:115: FutureWarning: The frame.append method is deprecated and will be removed from pandas in a future version. Use pandas.concat instead.\n",
      "  report = report.append({\n",
      "C:\\Users\\angel\\Desktop\\Università\\DataMiningFinale\\LavorettiFinali\\creation_functions\\utilities.py:115: FutureWarning: The frame.append method is deprecated and will be removed from pandas in a future version. Use pandas.concat instead.\n",
      "  report = report.append({\n",
      "C:\\Users\\angel\\Desktop\\Università\\DataMiningFinale\\LavorettiFinali\\creation_functions\\utilities.py:115: FutureWarning: The frame.append method is deprecated and will be removed from pandas in a future version. Use pandas.concat instead.\n",
      "  report = report.append({\n",
      "C:\\Users\\angel\\Desktop\\Università\\DataMiningFinale\\LavorettiFinali\\creation_functions\\utilities.py:115: FutureWarning: The frame.append method is deprecated and will be removed from pandas in a future version. Use pandas.concat instead.\n",
      "  report = report.append({\n",
      "C:\\Users\\angel\\Desktop\\Università\\DataMiningFinale\\LavorettiFinali\\creation_functions\\utilities.py:115: FutureWarning: The frame.append method is deprecated and will be removed from pandas in a future version. Use pandas.concat instead.\n",
      "  report = report.append({\n",
      "C:\\Users\\angel\\Desktop\\Università\\DataMiningFinale\\LavorettiFinali\\creation_functions\\utilities.py:115: FutureWarning: The frame.append method is deprecated and will be removed from pandas in a future version. Use pandas.concat instead.\n",
      "  report = report.append({\n",
      "C:\\Users\\angel\\Desktop\\Università\\DataMiningFinale\\LavorettiFinali\\creation_functions\\utilities.py:115: FutureWarning: The frame.append method is deprecated and will be removed from pandas in a future version. Use pandas.concat instead.\n",
      "  report = report.append({\n",
      "C:\\Users\\angel\\Desktop\\Università\\DataMiningFinale\\LavorettiFinali\\creation_functions\\utilities.py:115: FutureWarning: The frame.append method is deprecated and will be removed from pandas in a future version. Use pandas.concat instead.\n",
      "  report = report.append({\n",
      "C:\\Users\\angel\\Desktop\\Università\\DataMiningFinale\\LavorettiFinali\\creation_functions\\utilities.py:115: FutureWarning: The frame.append method is deprecated and will be removed from pandas in a future version. Use pandas.concat instead.\n",
      "  report = report.append({\n",
      "C:\\Users\\angel\\Desktop\\Università\\DataMiningFinale\\LavorettiFinali\\creation_functions\\utilities.py:115: FutureWarning: The frame.append method is deprecated and will be removed from pandas in a future version. Use pandas.concat instead.\n",
      "  report = report.append({\n",
      "C:\\Users\\angel\\Desktop\\Università\\DataMiningFinale\\LavorettiFinali\\creation_functions\\utilities.py:115: FutureWarning: The frame.append method is deprecated and will be removed from pandas in a future version. Use pandas.concat instead.\n",
      "  report = report.append({\n",
      "C:\\Users\\angel\\Desktop\\Università\\DataMiningFinale\\LavorettiFinali\\creation_functions\\utilities.py:115: FutureWarning: The frame.append method is deprecated and will be removed from pandas in a future version. Use pandas.concat instead.\n",
      "  report = report.append({\n",
      "C:\\Users\\angel\\Desktop\\Università\\DataMiningFinale\\LavorettiFinali\\creation_functions\\utilities.py:115: FutureWarning: The frame.append method is deprecated and will be removed from pandas in a future version. Use pandas.concat instead.\n",
      "  report = report.append({\n",
      "C:\\Users\\angel\\Desktop\\Università\\DataMiningFinale\\LavorettiFinali\\creation_functions\\utilities.py:115: FutureWarning: The frame.append method is deprecated and will be removed from pandas in a future version. Use pandas.concat instead.\n",
      "  report = report.append({\n",
      "C:\\Users\\angel\\Desktop\\Università\\DataMiningFinale\\LavorettiFinali\\creation_functions\\utilities.py:115: FutureWarning: The frame.append method is deprecated and will be removed from pandas in a future version. Use pandas.concat instead.\n",
      "  report = report.append({\n",
      "C:\\Users\\angel\\Desktop\\Università\\DataMiningFinale\\LavorettiFinali\\creation_functions\\utilities.py:115: FutureWarning: The frame.append method is deprecated and will be removed from pandas in a future version. Use pandas.concat instead.\n",
      "  report = report.append({\n"
     ]
    }
   ],
   "source": [
    "results_list_svc=[]\n",
    "\n",
    "for n in range(1,100,10):\n",
    "    pipe=Pipeline([\n",
    "        (\"scaler\", RobustScaler()),\n",
    "        (\"sampling\", SMOTE()),\n",
    "        (\"feature-selector\", SelectKBest(k=K_FEATURES)),\n",
    "        (\"classifier\", SVC(C=n))\n",
    "    ])\n",
    "    perm, y_true_A, y_pred_A = custom_cross_validation(non_corr_df, pipe, permutation=\"random\")\n",
    "    rep= make_report(perm, y_true_A, y_pred_A)\n",
    "    results_list_svc.append(np.mean(rep[\"accuracy\"].mean()))"
   ],
   "metadata": {
    "collapsed": false
   }
  },
  {
   "cell_type": "code",
   "execution_count": 12,
   "outputs": [
    {
     "data": {
      "text/plain": "Text(0, 0.5, 'Accuracy')"
     },
     "execution_count": 12,
     "metadata": {},
     "output_type": "execute_result"
    },
    {
     "data": {
      "text/plain": "<Figure size 640x480 with 1 Axes>",
      "image/png": "[encoded data removed]"
     },
     "metadata": {},
     "output_type": "display_data"
    }
   ],
   "source": [
    "plt.plot(range(1, 100, 10), results_list_svc)\n",
    "plt.title(\"SVC C parameter tuning\")\n",
    "plt.xlabel(\"Value of C\")\n",
    "plt.ylabel(\"Accuracy\")"
   ],
   "metadata": {
    "collapsed": false
   }
  },
  {
   "cell_type": "markdown",
   "source": [
    "With no big improvements to test with statistic test, we decide to keep default parameter (C = 1.0)"
   ],
   "metadata": {
    "collapsed": false
   }
  },
  {
   "cell_type": "code",
   "execution_count": 15,
   "outputs": [
    {
     "name": "stderr",
     "output_type": "stream",
     "text": [
      "C:\\Users\\angel\\Desktop\\Università\\DataMiningFinale\\LavorettiFinali\\creation_functions\\utilities.py:115: FutureWarning: The frame.append method is deprecated and will be removed from pandas in a future version. Use pandas.concat instead.\n",
      "  report = report.append({\n",
      "C:\\Users\\angel\\Desktop\\Università\\DataMiningFinale\\LavorettiFinali\\creation_functions\\utilities.py:115: FutureWarning: The frame.append method is deprecated and will be removed from pandas in a future version. Use pandas.concat instead.\n",
      "  report = report.append({\n",
      "C:\\Users\\angel\\Desktop\\Università\\DataMiningFinale\\LavorettiFinali\\creation_functions\\utilities.py:115: FutureWarning: The frame.append method is deprecated and will be removed from pandas in a future version. Use pandas.concat instead.\n",
      "  report = report.append({\n",
      "C:\\Users\\angel\\Desktop\\Università\\DataMiningFinale\\LavorettiFinali\\creation_functions\\utilities.py:115: FutureWarning: The frame.append method is deprecated and will be removed from pandas in a future version. Use pandas.concat instead.\n",
      "  report = report.append({\n",
      "C:\\Users\\angel\\Desktop\\Università\\DataMiningFinale\\LavorettiFinali\\creation_functions\\utilities.py:115: FutureWarning: The frame.append method is deprecated and will be removed from pandas in a future version. Use pandas.concat instead.\n",
      "  report = report.append({\n",
      "C:\\Users\\angel\\Desktop\\Università\\DataMiningFinale\\LavorettiFinali\\creation_functions\\utilities.py:115: FutureWarning: The frame.append method is deprecated and will be removed from pandas in a future version. Use pandas.concat instead.\n",
      "  report = report.append({\n",
      "C:\\Users\\angel\\Desktop\\Università\\DataMiningFinale\\LavorettiFinali\\creation_functions\\utilities.py:115: FutureWarning: The frame.append method is deprecated and will be removed from pandas in a future version. Use pandas.concat instead.\n",
      "  report = report.append({\n",
      "C:\\Users\\angel\\Desktop\\Università\\DataMiningFinale\\LavorettiFinali\\creation_functions\\utilities.py:115: FutureWarning: The frame.append method is deprecated and will be removed from pandas in a future version. Use pandas.concat instead.\n",
      "  report = report.append({\n",
      "C:\\Users\\angel\\Desktop\\Università\\DataMiningFinale\\LavorettiFinali\\creation_functions\\utilities.py:115: FutureWarning: The frame.append method is deprecated and will be removed from pandas in a future version. Use pandas.concat instead.\n",
      "  report = report.append({\n",
      "C:\\Users\\angel\\Desktop\\Università\\DataMiningFinale\\LavorettiFinali\\creation_functions\\utilities.py:115: FutureWarning: The frame.append method is deprecated and will be removed from pandas in a future version. Use pandas.concat instead.\n",
      "  report = report.append({\n",
      "C:\\Users\\angel\\Desktop\\Università\\DataMiningFinale\\LavorettiFinali\\creation_functions\\utilities.py:115: FutureWarning: The frame.append method is deprecated and will be removed from pandas in a future version. Use pandas.concat instead.\n",
      "  report = report.append({\n",
      "C:\\Users\\angel\\Desktop\\Università\\DataMiningFinale\\LavorettiFinali\\creation_functions\\utilities.py:115: FutureWarning: The frame.append method is deprecated and will be removed from pandas in a future version. Use pandas.concat instead.\n",
      "  report = report.append({\n",
      "C:\\Users\\angel\\Desktop\\Università\\DataMiningFinale\\LavorettiFinali\\creation_functions\\utilities.py:115: FutureWarning: The frame.append method is deprecated and will be removed from pandas in a future version. Use pandas.concat instead.\n",
      "  report = report.append({\n",
      "C:\\Users\\angel\\Desktop\\Università\\DataMiningFinale\\LavorettiFinali\\creation_functions\\utilities.py:115: FutureWarning: The frame.append method is deprecated and will be removed from pandas in a future version. Use pandas.concat instead.\n",
      "  report = report.append({\n",
      "C:\\Users\\angel\\Desktop\\Università\\DataMiningFinale\\LavorettiFinali\\creation_functions\\utilities.py:115: FutureWarning: The frame.append method is deprecated and will be removed from pandas in a future version. Use pandas.concat instead.\n",
      "  report = report.append({\n",
      "C:\\Users\\angel\\Desktop\\Università\\DataMiningFinale\\LavorettiFinali\\creation_functions\\utilities.py:115: FutureWarning: The frame.append method is deprecated and will be removed from pandas in a future version. Use pandas.concat instead.\n",
      "  report = report.append({\n",
      "C:\\Users\\angel\\Desktop\\Università\\DataMiningFinale\\LavorettiFinali\\creation_functions\\utilities.py:115: FutureWarning: The frame.append method is deprecated and will be removed from pandas in a future version. Use pandas.concat instead.\n",
      "  report = report.append({\n",
      "C:\\Users\\angel\\Desktop\\Università\\DataMiningFinale\\LavorettiFinali\\creation_functions\\utilities.py:115: FutureWarning: The frame.append method is deprecated and will be removed from pandas in a future version. Use pandas.concat instead.\n",
      "  report = report.append({\n",
      "C:\\Users\\angel\\Desktop\\Università\\DataMiningFinale\\LavorettiFinali\\creation_functions\\utilities.py:115: FutureWarning: The frame.append method is deprecated and will be removed from pandas in a future version. Use pandas.concat instead.\n",
      "  report = report.append({\n",
      "C:\\Users\\angel\\Desktop\\Università\\DataMiningFinale\\LavorettiFinali\\creation_functions\\utilities.py:115: FutureWarning: The frame.append method is deprecated and will be removed from pandas in a future version. Use pandas.concat instead.\n",
      "  report = report.append({\n",
      "C:\\Users\\angel\\Desktop\\Università\\DataMiningFinale\\LavorettiFinali\\creation_functions\\utilities.py:115: FutureWarning: The frame.append method is deprecated and will be removed from pandas in a future version. Use pandas.concat instead.\n",
      "  report = report.append({\n",
      "C:\\Users\\angel\\Desktop\\Università\\DataMiningFinale\\LavorettiFinali\\creation_functions\\utilities.py:115: FutureWarning: The frame.append method is deprecated and will be removed from pandas in a future version. Use pandas.concat instead.\n",
      "  report = report.append({\n",
      "C:\\Users\\angel\\Desktop\\Università\\DataMiningFinale\\LavorettiFinali\\creation_functions\\utilities.py:115: FutureWarning: The frame.append method is deprecated and will be removed from pandas in a future version. Use pandas.concat instead.\n",
      "  report = report.append({\n",
      "C:\\Users\\angel\\Desktop\\Università\\DataMiningFinale\\LavorettiFinali\\creation_functions\\utilities.py:115: FutureWarning: The frame.append method is deprecated and will be removed from pandas in a future version. Use pandas.concat instead.\n",
      "  report = report.append({\n",
      "C:\\Users\\angel\\Desktop\\Università\\DataMiningFinale\\LavorettiFinali\\creation_functions\\utilities.py:115: FutureWarning: The frame.append method is deprecated and will be removed from pandas in a future version. Use pandas.concat instead.\n",
      "  report = report.append({\n",
      "C:\\Users\\angel\\Desktop\\Università\\DataMiningFinale\\LavorettiFinali\\creation_functions\\utilities.py:115: FutureWarning: The frame.append method is deprecated and will be removed from pandas in a future version. Use pandas.concat instead.\n",
      "  report = report.append({\n",
      "C:\\Users\\angel\\Desktop\\Università\\DataMiningFinale\\LavorettiFinali\\creation_functions\\utilities.py:115: FutureWarning: The frame.append method is deprecated and will be removed from pandas in a future version. Use pandas.concat instead.\n",
      "  report = report.append({\n",
      "C:\\Users\\angel\\Desktop\\Università\\DataMiningFinale\\LavorettiFinali\\creation_functions\\utilities.py:115: FutureWarning: The frame.append method is deprecated and will be removed from pandas in a future version. Use pandas.concat instead.\n",
      "  report = report.append({\n",
      "C:\\Users\\angel\\Desktop\\Università\\DataMiningFinale\\LavorettiFinali\\creation_functions\\utilities.py:115: FutureWarning: The frame.append method is deprecated and will be removed from pandas in a future version. Use pandas.concat instead.\n",
      "  report = report.append({\n",
      "C:\\Users\\angel\\Desktop\\Università\\DataMiningFinale\\LavorettiFinali\\creation_functions\\utilities.py:115: FutureWarning: The frame.append method is deprecated and will be removed from pandas in a future version. Use pandas.concat instead.\n",
      "  report = report.append({\n",
      "C:\\Users\\angel\\Desktop\\Università\\DataMiningFinale\\LavorettiFinali\\creation_functions\\utilities.py:115: FutureWarning: The frame.append method is deprecated and will be removed from pandas in a future version. Use pandas.concat instead.\n",
      "  report = report.append({\n",
      "C:\\Users\\angel\\Desktop\\Università\\DataMiningFinale\\LavorettiFinali\\creation_functions\\utilities.py:115: FutureWarning: The frame.append method is deprecated and will be removed from pandas in a future version. Use pandas.concat instead.\n",
      "  report = report.append({\n",
      "C:\\Users\\angel\\Desktop\\Università\\DataMiningFinale\\LavorettiFinali\\creation_functions\\utilities.py:115: FutureWarning: The frame.append method is deprecated and will be removed from pandas in a future version. Use pandas.concat instead.\n",
      "  report = report.append({\n",
      "C:\\Users\\angel\\Desktop\\Università\\DataMiningFinale\\LavorettiFinali\\creation_functions\\utilities.py:115: FutureWarning: The frame.append method is deprecated and will be removed from pandas in a future version. Use pandas.concat instead.\n",
      "  report = report.append({\n",
      "C:\\Users\\angel\\Desktop\\Università\\DataMiningFinale\\LavorettiFinali\\creation_functions\\utilities.py:115: FutureWarning: The frame.append method is deprecated and will be removed from pandas in a future version. Use pandas.concat instead.\n",
      "  report = report.append({\n",
      "C:\\Users\\angel\\Desktop\\Università\\DataMiningFinale\\LavorettiFinali\\creation_functions\\utilities.py:115: FutureWarning: The frame.append method is deprecated and will be removed from pandas in a future version. Use pandas.concat instead.\n",
      "  report = report.append({\n",
      "C:\\Users\\angel\\Desktop\\Università\\DataMiningFinale\\LavorettiFinali\\creation_functions\\utilities.py:115: FutureWarning: The frame.append method is deprecated and will be removed from pandas in a future version. Use pandas.concat instead.\n",
      "  report = report.append({\n",
      "C:\\Users\\angel\\Desktop\\Università\\DataMiningFinale\\LavorettiFinali\\creation_functions\\utilities.py:115: FutureWarning: The frame.append method is deprecated and will be removed from pandas in a future version. Use pandas.concat instead.\n",
      "  report = report.append({\n",
      "C:\\Users\\angel\\Desktop\\Università\\DataMiningFinale\\LavorettiFinali\\creation_functions\\utilities.py:115: FutureWarning: The frame.append method is deprecated and will be removed from pandas in a future version. Use pandas.concat instead.\n",
      "  report = report.append({\n",
      "C:\\Users\\angel\\Desktop\\Università\\DataMiningFinale\\LavorettiFinali\\creation_functions\\utilities.py:115: FutureWarning: The frame.append method is deprecated and will be removed from pandas in a future version. Use pandas.concat instead.\n",
      "  report = report.append({\n",
      "C:\\Users\\angel\\Desktop\\Università\\DataMiningFinale\\LavorettiFinali\\creation_functions\\utilities.py:115: FutureWarning: The frame.append method is deprecated and will be removed from pandas in a future version. Use pandas.concat instead.\n",
      "  report = report.append({\n",
      "C:\\Users\\angel\\Desktop\\Università\\DataMiningFinale\\LavorettiFinali\\creation_functions\\utilities.py:115: FutureWarning: The frame.append method is deprecated and will be removed from pandas in a future version. Use pandas.concat instead.\n",
      "  report = report.append({\n",
      "C:\\Users\\angel\\Desktop\\Università\\DataMiningFinale\\LavorettiFinali\\creation_functions\\utilities.py:115: FutureWarning: The frame.append method is deprecated and will be removed from pandas in a future version. Use pandas.concat instead.\n",
      "  report = report.append({\n",
      "C:\\Users\\angel\\Desktop\\Università\\DataMiningFinale\\LavorettiFinali\\creation_functions\\utilities.py:115: FutureWarning: The frame.append method is deprecated and will be removed from pandas in a future version. Use pandas.concat instead.\n",
      "  report = report.append({\n",
      "C:\\Users\\angel\\Desktop\\Università\\DataMiningFinale\\LavorettiFinali\\creation_functions\\utilities.py:115: FutureWarning: The frame.append method is deprecated and will be removed from pandas in a future version. Use pandas.concat instead.\n",
      "  report = report.append({\n",
      "C:\\Users\\angel\\Desktop\\Università\\DataMiningFinale\\LavorettiFinali\\creation_functions\\utilities.py:115: FutureWarning: The frame.append method is deprecated and will be removed from pandas in a future version. Use pandas.concat instead.\n",
      "  report = report.append({\n",
      "C:\\Users\\angel\\Desktop\\Università\\DataMiningFinale\\LavorettiFinali\\creation_functions\\utilities.py:115: FutureWarning: The frame.append method is deprecated and will be removed from pandas in a future version. Use pandas.concat instead.\n",
      "  report = report.append({\n",
      "C:\\Users\\angel\\Desktop\\Università\\DataMiningFinale\\LavorettiFinali\\creation_functions\\utilities.py:115: FutureWarning: The frame.append method is deprecated and will be removed from pandas in a future version. Use pandas.concat instead.\n",
      "  report = report.append({\n",
      "C:\\Users\\angel\\Desktop\\Università\\DataMiningFinale\\LavorettiFinali\\creation_functions\\utilities.py:115: FutureWarning: The frame.append method is deprecated and will be removed from pandas in a future version. Use pandas.concat instead.\n",
      "  report = report.append({\n",
      "C:\\Users\\angel\\Desktop\\Università\\DataMiningFinale\\LavorettiFinali\\creation_functions\\utilities.py:115: FutureWarning: The frame.append method is deprecated and will be removed from pandas in a future version. Use pandas.concat instead.\n",
      "  report = report.append({\n",
      "C:\\Users\\angel\\Desktop\\Università\\DataMiningFinale\\LavorettiFinali\\creation_functions\\utilities.py:115: FutureWarning: The frame.append method is deprecated and will be removed from pandas in a future version. Use pandas.concat instead.\n",
      "  report = report.append({\n",
      "C:\\Users\\angel\\Desktop\\Università\\DataMiningFinale\\LavorettiFinali\\creation_functions\\utilities.py:115: FutureWarning: The frame.append method is deprecated and will be removed from pandas in a future version. Use pandas.concat instead.\n",
      "  report = report.append({\n",
      "C:\\Users\\angel\\Desktop\\Università\\DataMiningFinale\\LavorettiFinali\\creation_functions\\utilities.py:115: FutureWarning: The frame.append method is deprecated and will be removed from pandas in a future version. Use pandas.concat instead.\n",
      "  report = report.append({\n",
      "C:\\Users\\angel\\Desktop\\Università\\DataMiningFinale\\LavorettiFinali\\creation_functions\\utilities.py:115: FutureWarning: The frame.append method is deprecated and will be removed from pandas in a future version. Use pandas.concat instead.\n",
      "  report = report.append({\n",
      "C:\\Users\\angel\\Desktop\\Università\\DataMiningFinale\\LavorettiFinali\\creation_functions\\utilities.py:115: FutureWarning: The frame.append method is deprecated and will be removed from pandas in a future version. Use pandas.concat instead.\n",
      "  report = report.append({\n",
      "C:\\Users\\angel\\Desktop\\Università\\DataMiningFinale\\LavorettiFinali\\creation_functions\\utilities.py:115: FutureWarning: The frame.append method is deprecated and will be removed from pandas in a future version. Use pandas.concat instead.\n",
      "  report = report.append({\n",
      "C:\\Users\\angel\\Desktop\\Università\\DataMiningFinale\\LavorettiFinali\\creation_functions\\utilities.py:115: FutureWarning: The frame.append method is deprecated and will be removed from pandas in a future version. Use pandas.concat instead.\n",
      "  report = report.append({\n",
      "C:\\Users\\angel\\Desktop\\Università\\DataMiningFinale\\LavorettiFinali\\creation_functions\\utilities.py:115: FutureWarning: The frame.append method is deprecated and will be removed from pandas in a future version. Use pandas.concat instead.\n",
      "  report = report.append({\n",
      "C:\\Users\\angel\\Desktop\\Università\\DataMiningFinale\\LavorettiFinali\\creation_functions\\utilities.py:115: FutureWarning: The frame.append method is deprecated and will be removed from pandas in a future version. Use pandas.concat instead.\n",
      "  report = report.append({\n",
      "C:\\Users\\angel\\Desktop\\Università\\DataMiningFinale\\LavorettiFinali\\creation_functions\\utilities.py:115: FutureWarning: The frame.append method is deprecated and will be removed from pandas in a future version. Use pandas.concat instead.\n",
      "  report = report.append({\n",
      "C:\\Users\\angel\\Desktop\\Università\\DataMiningFinale\\LavorettiFinali\\creation_functions\\utilities.py:115: FutureWarning: The frame.append method is deprecated and will be removed from pandas in a future version. Use pandas.concat instead.\n",
      "  report = report.append({\n",
      "C:\\Users\\angel\\Desktop\\Università\\DataMiningFinale\\LavorettiFinali\\creation_functions\\utilities.py:115: FutureWarning: The frame.append method is deprecated and will be removed from pandas in a future version. Use pandas.concat instead.\n",
      "  report = report.append({\n",
      "C:\\Users\\angel\\Desktop\\Università\\DataMiningFinale\\LavorettiFinali\\creation_functions\\utilities.py:115: FutureWarning: The frame.append method is deprecated and will be removed from pandas in a future version. Use pandas.concat instead.\n",
      "  report = report.append({\n",
      "C:\\Users\\angel\\Desktop\\Università\\DataMiningFinale\\LavorettiFinali\\creation_functions\\utilities.py:115: FutureWarning: The frame.append method is deprecated and will be removed from pandas in a future version. Use pandas.concat instead.\n",
      "  report = report.append({\n",
      "C:\\Users\\angel\\Desktop\\Università\\DataMiningFinale\\LavorettiFinali\\creation_functions\\utilities.py:115: FutureWarning: The frame.append method is deprecated and will be removed from pandas in a future version. Use pandas.concat instead.\n",
      "  report = report.append({\n",
      "C:\\Users\\angel\\Desktop\\Università\\DataMiningFinale\\LavorettiFinali\\creation_functions\\utilities.py:115: FutureWarning: The frame.append method is deprecated and will be removed from pandas in a future version. Use pandas.concat instead.\n",
      "  report = report.append({\n",
      "C:\\Users\\angel\\Desktop\\Università\\DataMiningFinale\\LavorettiFinali\\creation_functions\\utilities.py:115: FutureWarning: The frame.append method is deprecated and will be removed from pandas in a future version. Use pandas.concat instead.\n",
      "  report = report.append({\n",
      "C:\\Users\\angel\\Desktop\\Università\\DataMiningFinale\\LavorettiFinali\\creation_functions\\utilities.py:115: FutureWarning: The frame.append method is deprecated and will be removed from pandas in a future version. Use pandas.concat instead.\n",
      "  report = report.append({\n",
      "C:\\Users\\angel\\Desktop\\Università\\DataMiningFinale\\LavorettiFinali\\creation_functions\\utilities.py:115: FutureWarning: The frame.append method is deprecated and will be removed from pandas in a future version. Use pandas.concat instead.\n",
      "  report = report.append({\n",
      "C:\\Users\\angel\\Desktop\\Università\\DataMiningFinale\\LavorettiFinali\\creation_functions\\utilities.py:115: FutureWarning: The frame.append method is deprecated and will be removed from pandas in a future version. Use pandas.concat instead.\n",
      "  report = report.append({\n",
      "C:\\Users\\angel\\Desktop\\Università\\DataMiningFinale\\LavorettiFinali\\creation_functions\\utilities.py:115: FutureWarning: The frame.append method is deprecated and will be removed from pandas in a future version. Use pandas.concat instead.\n",
      "  report = report.append({\n",
      "C:\\Users\\angel\\Desktop\\Università\\DataMiningFinale\\LavorettiFinali\\creation_functions\\utilities.py:115: FutureWarning: The frame.append method is deprecated and will be removed from pandas in a future version. Use pandas.concat instead.\n",
      "  report = report.append({\n",
      "C:\\Users\\angel\\Desktop\\Università\\DataMiningFinale\\LavorettiFinali\\creation_functions\\utilities.py:115: FutureWarning: The frame.append method is deprecated and will be removed from pandas in a future version. Use pandas.concat instead.\n",
      "  report = report.append({\n",
      "C:\\Users\\angel\\Desktop\\Università\\DataMiningFinale\\LavorettiFinali\\creation_functions\\utilities.py:115: FutureWarning: The frame.append method is deprecated and will be removed from pandas in a future version. Use pandas.concat instead.\n",
      "  report = report.append({\n",
      "C:\\Users\\angel\\Desktop\\Università\\DataMiningFinale\\LavorettiFinali\\creation_functions\\utilities.py:115: FutureWarning: The frame.append method is deprecated and will be removed from pandas in a future version. Use pandas.concat instead.\n",
      "  report = report.append({\n",
      "C:\\Users\\angel\\Desktop\\Università\\DataMiningFinale\\LavorettiFinali\\creation_functions\\utilities.py:115: FutureWarning: The frame.append method is deprecated and will be removed from pandas in a future version. Use pandas.concat instead.\n",
      "  report = report.append({\n",
      "C:\\Users\\angel\\Desktop\\Università\\DataMiningFinale\\LavorettiFinali\\creation_functions\\utilities.py:115: FutureWarning: The frame.append method is deprecated and will be removed from pandas in a future version. Use pandas.concat instead.\n",
      "  report = report.append({\n",
      "C:\\Users\\angel\\Desktop\\Università\\DataMiningFinale\\LavorettiFinali\\creation_functions\\utilities.py:115: FutureWarning: The frame.append method is deprecated and will be removed from pandas in a future version. Use pandas.concat instead.\n",
      "  report = report.append({\n",
      "C:\\Users\\angel\\Desktop\\Università\\DataMiningFinale\\LavorettiFinali\\creation_functions\\utilities.py:115: FutureWarning: The frame.append method is deprecated and will be removed from pandas in a future version. Use pandas.concat instead.\n",
      "  report = report.append({\n",
      "C:\\Users\\angel\\Desktop\\Università\\DataMiningFinale\\LavorettiFinali\\creation_functions\\utilities.py:115: FutureWarning: The frame.append method is deprecated and will be removed from pandas in a future version. Use pandas.concat instead.\n",
      "  report = report.append({\n",
      "C:\\Users\\angel\\Desktop\\Università\\DataMiningFinale\\LavorettiFinali\\creation_functions\\utilities.py:115: FutureWarning: The frame.append method is deprecated and will be removed from pandas in a future version. Use pandas.concat instead.\n",
      "  report = report.append({\n",
      "C:\\Users\\angel\\Desktop\\Università\\DataMiningFinale\\LavorettiFinali\\creation_functions\\utilities.py:115: FutureWarning: The frame.append method is deprecated and will be removed from pandas in a future version. Use pandas.concat instead.\n",
      "  report = report.append({\n",
      "C:\\Users\\angel\\Desktop\\Università\\DataMiningFinale\\LavorettiFinali\\creation_functions\\utilities.py:115: FutureWarning: The frame.append method is deprecated and will be removed from pandas in a future version. Use pandas.concat instead.\n",
      "  report = report.append({\n",
      "C:\\Users\\angel\\Desktop\\Università\\DataMiningFinale\\LavorettiFinali\\creation_functions\\utilities.py:115: FutureWarning: The frame.append method is deprecated and will be removed from pandas in a future version. Use pandas.concat instead.\n",
      "  report = report.append({\n",
      "C:\\Users\\angel\\Desktop\\Università\\DataMiningFinale\\LavorettiFinali\\creation_functions\\utilities.py:115: FutureWarning: The frame.append method is deprecated and will be removed from pandas in a future version. Use pandas.concat instead.\n",
      "  report = report.append({\n",
      "C:\\Users\\angel\\Desktop\\Università\\DataMiningFinale\\LavorettiFinali\\creation_functions\\utilities.py:115: FutureWarning: The frame.append method is deprecated and will be removed from pandas in a future version. Use pandas.concat instead.\n",
      "  report = report.append({\n",
      "C:\\Users\\angel\\Desktop\\Università\\DataMiningFinale\\LavorettiFinali\\creation_functions\\utilities.py:115: FutureWarning: The frame.append method is deprecated and will be removed from pandas in a future version. Use pandas.concat instead.\n",
      "  report = report.append({\n",
      "C:\\Users\\angel\\Desktop\\Università\\DataMiningFinale\\LavorettiFinali\\creation_functions\\utilities.py:115: FutureWarning: The frame.append method is deprecated and will be removed from pandas in a future version. Use pandas.concat instead.\n",
      "  report = report.append({\n",
      "C:\\Users\\angel\\Desktop\\Università\\DataMiningFinale\\LavorettiFinali\\creation_functions\\utilities.py:115: FutureWarning: The frame.append method is deprecated and will be removed from pandas in a future version. Use pandas.concat instead.\n",
      "  report = report.append({\n",
      "C:\\Users\\angel\\Desktop\\Università\\DataMiningFinale\\LavorettiFinali\\creation_functions\\utilities.py:115: FutureWarning: The frame.append method is deprecated and will be removed from pandas in a future version. Use pandas.concat instead.\n",
      "  report = report.append({\n",
      "C:\\Users\\angel\\Desktop\\Università\\DataMiningFinale\\LavorettiFinali\\creation_functions\\utilities.py:115: FutureWarning: The frame.append method is deprecated and will be removed from pandas in a future version. Use pandas.concat instead.\n",
      "  report = report.append({\n",
      "C:\\Users\\angel\\Desktop\\Università\\DataMiningFinale\\LavorettiFinali\\creation_functions\\utilities.py:115: FutureWarning: The frame.append method is deprecated and will be removed from pandas in a future version. Use pandas.concat instead.\n",
      "  report = report.append({\n",
      "C:\\Users\\angel\\Desktop\\Università\\DataMiningFinale\\LavorettiFinali\\creation_functions\\utilities.py:115: FutureWarning: The frame.append method is deprecated and will be removed from pandas in a future version. Use pandas.concat instead.\n",
      "  report = report.append({\n",
      "C:\\Users\\angel\\Desktop\\Università\\DataMiningFinale\\LavorettiFinali\\creation_functions\\utilities.py:115: FutureWarning: The frame.append method is deprecated and will be removed from pandas in a future version. Use pandas.concat instead.\n",
      "  report = report.append({\n",
      "C:\\Users\\angel\\Desktop\\Università\\DataMiningFinale\\LavorettiFinali\\creation_functions\\utilities.py:115: FutureWarning: The frame.append method is deprecated and will be removed from pandas in a future version. Use pandas.concat instead.\n",
      "  report = report.append({\n",
      "C:\\Users\\angel\\Desktop\\Università\\DataMiningFinale\\LavorettiFinali\\creation_functions\\utilities.py:115: FutureWarning: The frame.append method is deprecated and will be removed from pandas in a future version. Use pandas.concat instead.\n",
      "  report = report.append({\n"
     ]
    }
   ],
   "source": [
    "results_list_ranfor=[]\n",
    "\n",
    "for n in range(80,120,10):\n",
    "    pipe=Pipeline([\n",
    "        (\"scaler\", RobustScaler()),\n",
    "        (\"sampling\", SMOTE()),\n",
    "        (\"feature-selector\", SelectKBest(k=K_FEATURES)),\n",
    "        (\"classifier\", RandomForestClassifier(n_estimators=n, n_jobs=-1))\n",
    "    ])\n",
    "    perm, y_true_B, y_pred_B = custom_cross_validation(non_corr_df, pipe)\n",
    "    rep= make_report(perm, y_true_B, y_pred_B)\n",
    "    results_list_ranfor.append(np.mean(rep[\"accuracy\"].mean()))"
   ],
   "metadata": {
    "collapsed": false
   }
  },
  {
   "cell_type": "code",
   "execution_count": 16,
   "outputs": [
    {
     "data": {
      "text/plain": "Text(0, 0.5, 'Accuracy')"
     },
     "execution_count": 16,
     "metadata": {},
     "output_type": "execute_result"
    },
    {
     "data": {
      "text/plain": "<Figure size 640x480 with 1 Axes>",
      "image/png": "[encoded data removed]"
     },
     "metadata": {},
     "output_type": "display_data"
    }
   ],
   "source": [
    "plt.plot(range(80, 120, 10), results_list_ranfor)\n",
    "plt.title(\"Random Forest N_Estimators parameter tuning\")\n",
    "plt.xlabel(\"Value of N_Estimators\")\n",
    "plt.ylabel(\"Accuracy\")"
   ],
   "metadata": {
    "collapsed": false
   }
  }
 ],
 "metadata": {
  "kernelspec": {
   "display_name": "Python 3",
   "language": "python",
   "name": "python3"
  },
  "language_info": {
   "codemirror_mode": {
    "name": "ipython",
    "version": 2
   },
   "file_extension": ".py",
   "mimetype": "text/x-python",
   "name": "python",
   "nbconvert_exporter": "python",
   "pygments_lexer": "ipython2",
   "version": "2.7.6"
  }
 },
 "nbformat": 4,
 "nbformat_minor": 0
}
