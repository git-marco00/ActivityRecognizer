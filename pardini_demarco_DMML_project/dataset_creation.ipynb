{
 "cells": [
  {
   "cell_type": "markdown",
   "source": [
    " _We suggest you to don't run the code, because it takes a really long time, but instead trust the already computed and stored datasets inside the folder \"Processed Datasets\"_"
   ],
   "metadata": {
    "collapsed": false
   }
  },
  {
   "cell_type": "code",
   "execution_count": 1,
   "outputs": [],
   "source": [
    "import pandas as pd\n",
    "import sys\n",
    "sys.path.append(\"creation_functions\")\n",
    "from creation_functions.utilities import create_time_series, preprocessing"
   ],
   "metadata": {
    "collapsed": false
   }
  },
  {
   "cell_type": "code",
   "execution_count": null,
   "outputs": [],
   "source": [
    "raw_dataset = create_time_series(mode=\"raw\")\n",
    "collapsed_dataset = create_time_series(mode=\"Collapsed\")\n",
    "df_3secs = create_time_series(mode=\"Collapsed\", num_samples=150)\n",
    "df_5secs = create_time_series(mode=\"Collapsed\", num_samples=250)\n",
    "df_7secs = create_time_series(mode=\"Collapsed\", num_samples=350)\n",
    "preprocessed_dataset = preprocessing(create_time_series(mode=\"Collapsed\"))"
   ],
   "metadata": {
    "collapsed": false
   }
  },
  {
   "cell_type": "code",
   "execution_count": null,
   "outputs": [],
   "source": [
    "raw_dataset.to_csv(\"./processed_dataset/raw_dataset.csv\")\n",
    "collapsed_dataset.to_csv(\"./processed_dataset/collapsed_dataset.csv\")\n",
    "df_3secs.to_csv(\"./processed_dataset/df_3secs.csv\")\n",
    "df_5secs.to_csv(\"./processed_dataset/df_5secs.csv\")\n",
    "df_7secs.to_csv(\"./processed_dataset/df_7secs.csv\")\n",
    "preprocessed_dataset.to_csv(\"./processed_dataset/preprocessed_dataset.csv\")"
   ],
   "metadata": {
    "collapsed": false
   }
  }
 ],
 "metadata": {
  "kernelspec": {
   "display_name": "Python 3",
   "language": "python",
   "name": "python3"
  },
  "language_info": {
   "codemirror_mode": {
    "name": "ipython",
    "version": 2
   },
   "file_extension": ".py",
   "mimetype": "text/x-python",
   "name": "python",
   "nbconvert_exporter": "python",
   "pygments_lexer": "ipython2",
   "version": "2.7.6"
  }
 },
 "nbformat": 4,
 "nbformat_minor": 0
}
